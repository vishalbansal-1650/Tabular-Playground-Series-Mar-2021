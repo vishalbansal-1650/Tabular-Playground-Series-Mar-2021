{
 "cells": [
  {
   "cell_type": "code",
   "execution_count": 1,
   "metadata": {},
   "outputs": [],
   "source": [
    "import numpy as np\n",
    "import pandas as pd\n",
    "import matplotlib.pyplot as plt\n",
    "import seaborn as sns\n",
    "\n",
    "sns.set_style('darkgrid')"
   ]
  },
  {
   "cell_type": "code",
   "execution_count": 2,
   "metadata": {},
   "outputs": [],
   "source": [
    "train = pd.read_csv('Data/train.csv')\n",
    "test  = pd.read_csv('Data/test.csv')"
   ]
  },
  {
   "cell_type": "code",
   "execution_count": 3,
   "metadata": {},
   "outputs": [
    {
     "data": {
      "text/html": [
       "<div>\n",
       "<style scoped>\n",
       "    .dataframe tbody tr th:only-of-type {\n",
       "        vertical-align: middle;\n",
       "    }\n",
       "\n",
       "    .dataframe tbody tr th {\n",
       "        vertical-align: top;\n",
       "    }\n",
       "\n",
       "    .dataframe thead th {\n",
       "        text-align: right;\n",
       "    }\n",
       "</style>\n",
       "<table border=\"1\" class=\"dataframe\">\n",
       "  <thead>\n",
       "    <tr style=\"text-align: right;\">\n",
       "      <th></th>\n",
       "      <th>id</th>\n",
       "      <th>cat0</th>\n",
       "      <th>cat1</th>\n",
       "      <th>cat2</th>\n",
       "      <th>cat3</th>\n",
       "      <th>cat4</th>\n",
       "      <th>cat5</th>\n",
       "      <th>cat6</th>\n",
       "      <th>cat7</th>\n",
       "      <th>cat8</th>\n",
       "      <th>...</th>\n",
       "      <th>cont2</th>\n",
       "      <th>cont3</th>\n",
       "      <th>cont4</th>\n",
       "      <th>cont5</th>\n",
       "      <th>cont6</th>\n",
       "      <th>cont7</th>\n",
       "      <th>cont8</th>\n",
       "      <th>cont9</th>\n",
       "      <th>cont10</th>\n",
       "      <th>target</th>\n",
       "    </tr>\n",
       "  </thead>\n",
       "  <tbody>\n",
       "    <tr>\n",
       "      <th>0</th>\n",
       "      <td>0</td>\n",
       "      <td>A</td>\n",
       "      <td>I</td>\n",
       "      <td>A</td>\n",
       "      <td>B</td>\n",
       "      <td>B</td>\n",
       "      <td>BI</td>\n",
       "      <td>A</td>\n",
       "      <td>S</td>\n",
       "      <td>Q</td>\n",
       "      <td>...</td>\n",
       "      <td>0.759439</td>\n",
       "      <td>0.795549</td>\n",
       "      <td>0.681917</td>\n",
       "      <td>0.621672</td>\n",
       "      <td>0.592184</td>\n",
       "      <td>0.791921</td>\n",
       "      <td>0.815254</td>\n",
       "      <td>0.965006</td>\n",
       "      <td>0.665915</td>\n",
       "      <td>0</td>\n",
       "    </tr>\n",
       "    <tr>\n",
       "      <th>1</th>\n",
       "      <td>1</td>\n",
       "      <td>A</td>\n",
       "      <td>I</td>\n",
       "      <td>A</td>\n",
       "      <td>A</td>\n",
       "      <td>E</td>\n",
       "      <td>BI</td>\n",
       "      <td>K</td>\n",
       "      <td>W</td>\n",
       "      <td>AD</td>\n",
       "      <td>...</td>\n",
       "      <td>0.386385</td>\n",
       "      <td>0.541366</td>\n",
       "      <td>0.388982</td>\n",
       "      <td>0.357778</td>\n",
       "      <td>0.600044</td>\n",
       "      <td>0.408701</td>\n",
       "      <td>0.399353</td>\n",
       "      <td>0.927406</td>\n",
       "      <td>0.493729</td>\n",
       "      <td>0</td>\n",
       "    </tr>\n",
       "    <tr>\n",
       "      <th>2</th>\n",
       "      <td>2</td>\n",
       "      <td>A</td>\n",
       "      <td>K</td>\n",
       "      <td>A</td>\n",
       "      <td>A</td>\n",
       "      <td>E</td>\n",
       "      <td>BI</td>\n",
       "      <td>A</td>\n",
       "      <td>E</td>\n",
       "      <td>BM</td>\n",
       "      <td>...</td>\n",
       "      <td>0.343255</td>\n",
       "      <td>0.616352</td>\n",
       "      <td>0.793687</td>\n",
       "      <td>0.552877</td>\n",
       "      <td>0.352113</td>\n",
       "      <td>0.388835</td>\n",
       "      <td>0.412303</td>\n",
       "      <td>0.292696</td>\n",
       "      <td>0.549452</td>\n",
       "      <td>0</td>\n",
       "    </tr>\n",
       "    <tr>\n",
       "      <th>3</th>\n",
       "      <td>3</td>\n",
       "      <td>A</td>\n",
       "      <td>K</td>\n",
       "      <td>A</td>\n",
       "      <td>C</td>\n",
       "      <td>E</td>\n",
       "      <td>BI</td>\n",
       "      <td>A</td>\n",
       "      <td>Y</td>\n",
       "      <td>AD</td>\n",
       "      <td>...</td>\n",
       "      <td>0.831147</td>\n",
       "      <td>0.807807</td>\n",
       "      <td>0.800032</td>\n",
       "      <td>0.619147</td>\n",
       "      <td>0.221789</td>\n",
       "      <td>0.897617</td>\n",
       "      <td>0.633669</td>\n",
       "      <td>0.760318</td>\n",
       "      <td>0.934242</td>\n",
       "      <td>0</td>\n",
       "    </tr>\n",
       "    <tr>\n",
       "      <th>4</th>\n",
       "      <td>4</td>\n",
       "      <td>A</td>\n",
       "      <td>I</td>\n",
       "      <td>G</td>\n",
       "      <td>B</td>\n",
       "      <td>E</td>\n",
       "      <td>BI</td>\n",
       "      <td>C</td>\n",
       "      <td>G</td>\n",
       "      <td>Q</td>\n",
       "      <td>...</td>\n",
       "      <td>0.338818</td>\n",
       "      <td>0.277308</td>\n",
       "      <td>0.610578</td>\n",
       "      <td>0.128291</td>\n",
       "      <td>0.578764</td>\n",
       "      <td>0.279167</td>\n",
       "      <td>0.351103</td>\n",
       "      <td>0.357084</td>\n",
       "      <td>0.328960</td>\n",
       "      <td>1</td>\n",
       "    </tr>\n",
       "  </tbody>\n",
       "</table>\n",
       "<p>5 rows × 32 columns</p>\n",
       "</div>"
      ],
      "text/plain": [
       "   id cat0 cat1 cat2 cat3 cat4 cat5 cat6 cat7 cat8  ...     cont2     cont3  \\\n",
       "0   0    A    I    A    B    B   BI    A    S    Q  ...  0.759439  0.795549   \n",
       "1   1    A    I    A    A    E   BI    K    W   AD  ...  0.386385  0.541366   \n",
       "2   2    A    K    A    A    E   BI    A    E   BM  ...  0.343255  0.616352   \n",
       "3   3    A    K    A    C    E   BI    A    Y   AD  ...  0.831147  0.807807   \n",
       "4   4    A    I    G    B    E   BI    C    G    Q  ...  0.338818  0.277308   \n",
       "\n",
       "      cont4     cont5     cont6     cont7     cont8     cont9    cont10 target  \n",
       "0  0.681917  0.621672  0.592184  0.791921  0.815254  0.965006  0.665915      0  \n",
       "1  0.388982  0.357778  0.600044  0.408701  0.399353  0.927406  0.493729      0  \n",
       "2  0.793687  0.552877  0.352113  0.388835  0.412303  0.292696  0.549452      0  \n",
       "3  0.800032  0.619147  0.221789  0.897617  0.633669  0.760318  0.934242      0  \n",
       "4  0.610578  0.128291  0.578764  0.279167  0.351103  0.357084  0.328960      1  \n",
       "\n",
       "[5 rows x 32 columns]"
      ]
     },
     "execution_count": 3,
     "metadata": {},
     "output_type": "execute_result"
    }
   ],
   "source": [
    "train.head()"
   ]
  },
  {
   "cell_type": "code",
   "execution_count": 4,
   "metadata": {},
   "outputs": [
    {
     "name": "stdout",
     "output_type": "stream",
     "text": [
      "Shape of train dataset:  (300000, 32)\n",
      "Shape of test dataset:  (200000, 31)\n"
     ]
    }
   ],
   "source": [
    "print(\"Shape of train dataset: \",train.shape)\n",
    "print(\"Shape of test dataset: \",test.shape)"
   ]
  },
  {
   "cell_type": "code",
   "execution_count": 5,
   "metadata": {},
   "outputs": [
    {
     "name": "stdout",
     "output_type": "stream",
     "text": [
      "['cont0', 'cont1', 'cont10', 'cont2', 'cont3', 'cont4', 'cont5', 'cont6', 'cont7', 'cont8', 'cont9']\n"
     ]
    }
   ],
   "source": [
    "num_cols = [feature for feature in train.columns.difference(['target','id']) if train[feature].dtypes in ['int32','int64','float32','float64']]\n",
    "\n",
    "print(num_cols)\n"
   ]
  },
  {
   "cell_type": "code",
   "execution_count": 6,
   "metadata": {},
   "outputs": [
    {
     "name": "stdout",
     "output_type": "stream",
     "text": [
      "['cat0', 'cat1', 'cat2', 'cat3', 'cat4', 'cat5', 'cat6', 'cat7', 'cat8', 'cat9', 'cat10', 'cat11', 'cat12', 'cat13', 'cat14', 'cat15', 'cat16', 'cat17', 'cat18']\n"
     ]
    }
   ],
   "source": [
    "cat_cols = [feature for feature in train.columns if train[feature].dtypes in ['object']]\n",
    "\n",
    "print(cat_cols)"
   ]
  },
  {
   "cell_type": "code",
   "execution_count": 7,
   "metadata": {},
   "outputs": [],
   "source": [
    "### def to count nunique for continuous if > #of feature\n",
    "\n",
    "### def to count nunique for categorical if >#of feature\n",
    "\n",
    "### def to numeric value counts\n",
    "\n",
    "### def to categorical value counts\n",
    "\n",
    "### target value counts() and plots()\n"
   ]
  },
  {
   "cell_type": "markdown",
   "metadata": {},
   "source": [
    "##### Target variable Counts and distribution "
   ]
  },
  {
   "cell_type": "code",
   "execution_count": 8,
   "metadata": {},
   "outputs": [
    {
     "data": {
      "text/plain": [
       "2"
      ]
     },
     "execution_count": 8,
     "metadata": {},
     "output_type": "execute_result"
    }
   ],
   "source": [
    "train['target'].nunique()"
   ]
  },
  {
   "cell_type": "code",
   "execution_count": 9,
   "metadata": {},
   "outputs": [
    {
     "data": {
      "text/plain": [
       "0    220539\n",
       "1     79461\n",
       "Name: target, dtype: int64"
      ]
     },
     "execution_count": 9,
     "metadata": {},
     "output_type": "execute_result"
    }
   ],
   "source": [
    "train['target'].value_counts()"
   ]
  },
  {
   "cell_type": "code",
   "execution_count": 10,
   "metadata": {
    "scrolled": true
   },
   "outputs": [
    {
     "data": {
      "image/png": "[encoded data removed]",
      "text/plain": [
       "<Figure size 576x432 with 1 Axes>"
      ]
     },
     "metadata": {},
     "output_type": "display_data"
    }
   ],
   "source": [
    "plt.figure(figsize=(8,6))\n",
    "\n",
    "plt.bar(x=train['target'].value_counts().index,\n",
    "        height=train['target'].value_counts().values,\n",
    "       width=0.5,color='midnightblue')\n",
    "\n",
    "plt.xlabel('Classes',fontsize=13,fontweight='bold')\n",
    "plt.ylabel('# of Samples',fontsize=13,fontweight='bold')\n",
    "plt.xticks(ticks=[0,1])\n",
    "plt.yticks(ticks=train['target'].value_counts().values)\n",
    "\n",
    "plt.show()"
   ]
  },
  {
   "cell_type": "markdown",
   "metadata": {},
   "source": [
    "##### Numerical Feature Distribution"
   ]
  },
  {
   "cell_type": "code",
   "execution_count": 11,
   "metadata": {
    "scrolled": true
   },
   "outputs": [
    {
     "data": {
      "image/png": "[encoded data removed]",
      "text/plain": [
       "<Figure size 1296x1152 with 11 Axes>"
      ]
     },
     "metadata": {},
     "output_type": "display_data"
    }
   ],
   "source": [
    "fig = plt.figure(figsize=(18,16))\n",
    "for index,col in enumerate(num_cols):\n",
    "    plt.subplot(3,4,index+1)\n",
    "    sns.distplot(train.loc[:,col].dropna(),kde=False)\n",
    "fig.tight_layout(pad=2.0)"
   ]
  },
  {
   "cell_type": "code",
   "execution_count": null,
   "metadata": {},
   "outputs": [],
   "source": []
  },
  {
   "cell_type": "markdown",
   "metadata": {},
   "source": [
    "##### Categorical Feature Distribution"
   ]
  },
  {
   "cell_type": "code",
   "execution_count": 12,
   "metadata": {
    "scrolled": true
   },
   "outputs": [
    {
     "data": {
      "image/png": "[encoded data removed]",
      "text/plain": [
       "<Figure size 1296x1152 with 19 Axes>"
      ]
     },
     "metadata": {},
     "output_type": "display_data"
    }
   ],
   "source": [
    "fig = plt.figure(figsize=(18,16))\n",
    "for index,col in enumerate(cat_cols):\n",
    "    plt.subplot(7,3,index+1)\n",
    "    sns.countplot(x=col,data=train)\n",
    "fig.tight_layout(pad=2.0)"
   ]
  },
  {
   "cell_type": "code",
   "execution_count": 13,
   "metadata": {},
   "outputs": [],
   "source": [
    "num_nunique = [train[col].nunique() for col in num_cols]\n",
    "\n",
    "cat_nunique = [train[col].nunique() for col in cat_cols]\n",
    "\n",
    "df_num_nunique = pd.DataFrame({'Feature':num_cols, 'Nunique':num_nunique})\n",
    "df_cat_nunique = pd.DataFrame({'Feature':cat_cols, 'Nunique':cat_nunique})\n",
    "\n",
    "#df_nunique = pd.concat([df_num_nunique,df_cat_nunique],axis=0,ignore_index=True)"
   ]
  },
  {
   "cell_type": "code",
   "execution_count": 14,
   "metadata": {
    "scrolled": true
   },
   "outputs": [
    {
     "data": {
      "text/html": [
       "<div>\n",
       "<style scoped>\n",
       "    .dataframe tbody tr th:only-of-type {\n",
       "        vertical-align: middle;\n",
       "    }\n",
       "\n",
       "    .dataframe tbody tr th {\n",
       "        vertical-align: top;\n",
       "    }\n",
       "\n",
       "    .dataframe thead th {\n",
       "        text-align: right;\n",
       "    }\n",
       "</style>\n",
       "<table border=\"1\" class=\"dataframe\">\n",
       "  <thead>\n",
       "    <tr style=\"text-align: right;\">\n",
       "      <th></th>\n",
       "      <th>Feature</th>\n",
       "      <th>Nunique</th>\n",
       "    </tr>\n",
       "  </thead>\n",
       "  <tbody>\n",
       "    <tr>\n",
       "      <th>0</th>\n",
       "      <td>cont0</td>\n",
       "      <td>299874</td>\n",
       "    </tr>\n",
       "    <tr>\n",
       "      <th>1</th>\n",
       "      <td>cont1</td>\n",
       "      <td>299861</td>\n",
       "    </tr>\n",
       "    <tr>\n",
       "      <th>2</th>\n",
       "      <td>cont10</td>\n",
       "      <td>299823</td>\n",
       "    </tr>\n",
       "    <tr>\n",
       "      <th>3</th>\n",
       "      <td>cont2</td>\n",
       "      <td>299872</td>\n",
       "    </tr>\n",
       "    <tr>\n",
       "      <th>4</th>\n",
       "      <td>cont3</td>\n",
       "      <td>299818</td>\n",
       "    </tr>\n",
       "  </tbody>\n",
       "</table>\n",
       "</div>"
      ],
      "text/plain": [
       "  Feature  Nunique\n",
       "0   cont0   299874\n",
       "1   cont1   299861\n",
       "2  cont10   299823\n",
       "3   cont2   299872\n",
       "4   cont3   299818"
      ]
     },
     "execution_count": 14,
     "metadata": {},
     "output_type": "execute_result"
    }
   ],
   "source": [
    "df_num_nunique.head(5)"
   ]
  },
  {
   "cell_type": "markdown",
   "metadata": {},
   "source": [
    "From numerical feature distribtion, we can see that some of the features has multimodal distirbution, where multiple maxima are present for these features"
   ]
  },
  {
   "cell_type": "code",
   "execution_count": 15,
   "metadata": {},
   "outputs": [],
   "source": [
    "df_cat_nunique['Most Freq Value%'] = [(train[c].value_counts().iloc[0]/len(train))*100 for c in cat_cols]"
   ]
  },
  {
   "cell_type": "code",
   "execution_count": 16,
   "metadata": {},
   "outputs": [
    {
     "data": {
      "text/html": [
       "<div>\n",
       "<style scoped>\n",
       "    .dataframe tbody tr th:only-of-type {\n",
       "        vertical-align: middle;\n",
       "    }\n",
       "\n",
       "    .dataframe tbody tr th {\n",
       "        vertical-align: top;\n",
       "    }\n",
       "\n",
       "    .dataframe thead th {\n",
       "        text-align: right;\n",
       "    }\n",
       "</style>\n",
       "<table border=\"1\" class=\"dataframe\">\n",
       "  <thead>\n",
       "    <tr style=\"text-align: right;\">\n",
       "      <th></th>\n",
       "      <th>Feature</th>\n",
       "      <th>Nunique</th>\n",
       "      <th>Most Freq Value%</th>\n",
       "    </tr>\n",
       "  </thead>\n",
       "  <tbody>\n",
       "    <tr>\n",
       "      <th>10</th>\n",
       "      <td>cat10</td>\n",
       "      <td>299</td>\n",
       "      <td>10.528000</td>\n",
       "    </tr>\n",
       "    <tr>\n",
       "      <th>5</th>\n",
       "      <td>cat5</td>\n",
       "      <td>84</td>\n",
       "      <td>79.521000</td>\n",
       "    </tr>\n",
       "    <tr>\n",
       "      <th>8</th>\n",
       "      <td>cat8</td>\n",
       "      <td>61</td>\n",
       "      <td>14.126667</td>\n",
       "    </tr>\n",
       "    <tr>\n",
       "      <th>7</th>\n",
       "      <td>cat7</td>\n",
       "      <td>51</td>\n",
       "      <td>15.272667</td>\n",
       "    </tr>\n",
       "    <tr>\n",
       "      <th>4</th>\n",
       "      <td>cat4</td>\n",
       "      <td>20</td>\n",
       "      <td>43.128333</td>\n",
       "    </tr>\n",
       "    <tr>\n",
       "      <th>2</th>\n",
       "      <td>cat2</td>\n",
       "      <td>19</td>\n",
       "      <td>56.231333</td>\n",
       "    </tr>\n",
       "    <tr>\n",
       "      <th>9</th>\n",
       "      <td>cat9</td>\n",
       "      <td>19</td>\n",
       "      <td>67.315000</td>\n",
       "    </tr>\n",
       "    <tr>\n",
       "      <th>6</th>\n",
       "      <td>cat6</td>\n",
       "      <td>16</td>\n",
       "      <td>62.632000</td>\n",
       "    </tr>\n",
       "    <tr>\n",
       "      <th>1</th>\n",
       "      <td>cat1</td>\n",
       "      <td>15</td>\n",
       "      <td>30.269667</td>\n",
       "    </tr>\n",
       "    <tr>\n",
       "      <th>3</th>\n",
       "      <td>cat3</td>\n",
       "      <td>13</td>\n",
       "      <td>62.417000</td>\n",
       "    </tr>\n",
       "    <tr>\n",
       "      <th>15</th>\n",
       "      <td>cat15</td>\n",
       "      <td>4</td>\n",
       "      <td>67.858000</td>\n",
       "    </tr>\n",
       "    <tr>\n",
       "      <th>16</th>\n",
       "      <td>cat16</td>\n",
       "      <td>4</td>\n",
       "      <td>68.968667</td>\n",
       "    </tr>\n",
       "    <tr>\n",
       "      <th>17</th>\n",
       "      <td>cat17</td>\n",
       "      <td>4</td>\n",
       "      <td>82.375000</td>\n",
       "    </tr>\n",
       "    <tr>\n",
       "      <th>18</th>\n",
       "      <td>cat18</td>\n",
       "      <td>4</td>\n",
       "      <td>85.160667</td>\n",
       "    </tr>\n",
       "    <tr>\n",
       "      <th>14</th>\n",
       "      <td>cat14</td>\n",
       "      <td>2</td>\n",
       "      <td>53.388667</td>\n",
       "    </tr>\n",
       "    <tr>\n",
       "      <th>0</th>\n",
       "      <td>cat0</td>\n",
       "      <td>2</td>\n",
       "      <td>74.508333</td>\n",
       "    </tr>\n",
       "    <tr>\n",
       "      <th>12</th>\n",
       "      <td>cat12</td>\n",
       "      <td>2</td>\n",
       "      <td>85.713000</td>\n",
       "    </tr>\n",
       "    <tr>\n",
       "      <th>11</th>\n",
       "      <td>cat11</td>\n",
       "      <td>2</td>\n",
       "      <td>86.310667</td>\n",
       "    </tr>\n",
       "    <tr>\n",
       "      <th>13</th>\n",
       "      <td>cat13</td>\n",
       "      <td>2</td>\n",
       "      <td>97.570667</td>\n",
       "    </tr>\n",
       "  </tbody>\n",
       "</table>\n",
       "</div>"
      ],
      "text/plain": [
       "   Feature  Nunique  Most Freq Value%\n",
       "10   cat10      299         10.528000\n",
       "5     cat5       84         79.521000\n",
       "8     cat8       61         14.126667\n",
       "7     cat7       51         15.272667\n",
       "4     cat4       20         43.128333\n",
       "2     cat2       19         56.231333\n",
       "9     cat9       19         67.315000\n",
       "6     cat6       16         62.632000\n",
       "1     cat1       15         30.269667\n",
       "3     cat3       13         62.417000\n",
       "15   cat15        4         67.858000\n",
       "16   cat16        4         68.968667\n",
       "17   cat17        4         82.375000\n",
       "18   cat18        4         85.160667\n",
       "14   cat14        2         53.388667\n",
       "0     cat0        2         74.508333\n",
       "12   cat12        2         85.713000\n",
       "11   cat11        2         86.310667\n",
       "13   cat13        2         97.570667"
      ]
     },
     "execution_count": 16,
     "metadata": {},
     "output_type": "execute_result"
    }
   ],
   "source": [
    "df_cat_nunique = df_cat_nunique.sort_values(by=['Nunique','Most Freq Value%'],ascending=[False,True])\n",
    "df_cat_nunique"
   ]
  },
  {
   "cell_type": "markdown",
   "metadata": {},
   "source": [
    "categorical variable - cat5, cat7, cat8 and cat10 has very high cardinality. We will do variable selection later then will encode these accordingly. "
   ]
  },
  {
   "cell_type": "code",
   "execution_count": 17,
   "metadata": {},
   "outputs": [
    {
     "name": "stdout",
     "output_type": "stream",
     "text": [
      "['cat4', 'cat2', 'cat9', 'cat6', 'cat1', 'cat3', 'cat15', 'cat16', 'cat17', 'cat18', 'cat14', 'cat0', 'cat12', 'cat11', 'cat13']\n"
     ]
    }
   ],
   "source": [
    "cat_cols_lowdim = df_cat_nunique['Feature'].values.tolist()[4:]\n",
    "print(cat_cols_lowdim)"
   ]
  },
  {
   "cell_type": "markdown",
   "metadata": {},
   "source": [
    "##### Missing value Treatment"
   ]
  },
  {
   "cell_type": "code",
   "execution_count": 18,
   "metadata": {},
   "outputs": [
    {
     "data": {
      "text/plain": [
       "0"
      ]
     },
     "execution_count": 18,
     "metadata": {},
     "output_type": "execute_result"
    }
   ],
   "source": [
    "train.isnull().sum().sum()"
   ]
  },
  {
   "cell_type": "code",
   "execution_count": 19,
   "metadata": {},
   "outputs": [
    {
     "data": {
      "text/plain": [
       "0"
      ]
     },
     "execution_count": 19,
     "metadata": {},
     "output_type": "execute_result"
    }
   ],
   "source": [
    "test.isnull().sum().sum()"
   ]
  },
  {
   "cell_type": "markdown",
   "metadata": {},
   "source": [
    "No missing values present in train and test dataset."
   ]
  },
  {
   "cell_type": "markdown",
   "metadata": {},
   "source": [
    "##### Outlier Treatment"
   ]
  },
  {
   "cell_type": "code",
   "execution_count": 20,
   "metadata": {
    "scrolled": true
   },
   "outputs": [
    {
     "data": {
      "image/png": "[encoded data removed]",
      "text/plain": [
       "<Figure size 1296x1152 with 11 Axes>"
      ]
     },
     "metadata": {},
     "output_type": "display_data"
    }
   ],
   "source": [
    "fig = plt.figure(figsize=(18,16))\n",
    "for index,col in enumerate(num_cols):\n",
    "    plt.subplot(3,4,index+1)\n",
    "    sns.boxplot(x=col,data=train)\n",
    "fig.tight_layout(pad=2.0)"
   ]
  },
  {
   "cell_type": "markdown",
   "metadata": {},
   "source": [
    "From above boxplot we can see that there is no such extreme values present in numerical feature in train dataset. So outlier capping or treatment is not required."
   ]
  },
  {
   "cell_type": "markdown",
   "metadata": {},
   "source": [
    "##### Feature Engineering"
   ]
  },
  {
   "cell_type": "code",
   "execution_count": 21,
   "metadata": {},
   "outputs": [],
   "source": [
    "from sklearn.preprocessing import LabelEncoder,OneHotEncoder,OrdinalEncoder"
   ]
  },
  {
   "cell_type": "code",
   "execution_count": 22,
   "metadata": {},
   "outputs": [
    {
     "name": "stdout",
     "output_type": "stream",
     "text": [
      "Shape of combined dataset (500000, 31)\n"
     ]
    },
    {
     "data": {
      "text/html": [
       "<div>\n",
       "<style scoped>\n",
       "    .dataframe tbody tr th:only-of-type {\n",
       "        vertical-align: middle;\n",
       "    }\n",
       "\n",
       "    .dataframe tbody tr th {\n",
       "        vertical-align: top;\n",
       "    }\n",
       "\n",
       "    .dataframe thead th {\n",
       "        text-align: right;\n",
       "    }\n",
       "</style>\n",
       "<table border=\"1\" class=\"dataframe\">\n",
       "  <thead>\n",
       "    <tr style=\"text-align: right;\">\n",
       "      <th></th>\n",
       "      <th>id</th>\n",
       "      <th>cat0</th>\n",
       "      <th>cat1</th>\n",
       "      <th>cat2</th>\n",
       "      <th>cat3</th>\n",
       "      <th>cat4</th>\n",
       "      <th>cat5</th>\n",
       "      <th>cat6</th>\n",
       "      <th>cat7</th>\n",
       "      <th>cat8</th>\n",
       "      <th>...</th>\n",
       "      <th>cont1</th>\n",
       "      <th>cont2</th>\n",
       "      <th>cont3</th>\n",
       "      <th>cont4</th>\n",
       "      <th>cont5</th>\n",
       "      <th>cont6</th>\n",
       "      <th>cont7</th>\n",
       "      <th>cont8</th>\n",
       "      <th>cont9</th>\n",
       "      <th>cont10</th>\n",
       "    </tr>\n",
       "  </thead>\n",
       "  <tbody>\n",
       "    <tr>\n",
       "      <th>0</th>\n",
       "      <td>0</td>\n",
       "      <td>A</td>\n",
       "      <td>I</td>\n",
       "      <td>A</td>\n",
       "      <td>B</td>\n",
       "      <td>B</td>\n",
       "      <td>BI</td>\n",
       "      <td>A</td>\n",
       "      <td>S</td>\n",
       "      <td>Q</td>\n",
       "      <td>...</td>\n",
       "      <td>0.855349</td>\n",
       "      <td>0.759439</td>\n",
       "      <td>0.795549</td>\n",
       "      <td>0.681917</td>\n",
       "      <td>0.621672</td>\n",
       "      <td>0.592184</td>\n",
       "      <td>0.791921</td>\n",
       "      <td>0.815254</td>\n",
       "      <td>0.965006</td>\n",
       "      <td>0.665915</td>\n",
       "    </tr>\n",
       "    <tr>\n",
       "      <th>1</th>\n",
       "      <td>1</td>\n",
       "      <td>A</td>\n",
       "      <td>I</td>\n",
       "      <td>A</td>\n",
       "      <td>A</td>\n",
       "      <td>E</td>\n",
       "      <td>BI</td>\n",
       "      <td>K</td>\n",
       "      <td>W</td>\n",
       "      <td>AD</td>\n",
       "      <td>...</td>\n",
       "      <td>0.328929</td>\n",
       "      <td>0.386385</td>\n",
       "      <td>0.541366</td>\n",
       "      <td>0.388982</td>\n",
       "      <td>0.357778</td>\n",
       "      <td>0.600044</td>\n",
       "      <td>0.408701</td>\n",
       "      <td>0.399353</td>\n",
       "      <td>0.927406</td>\n",
       "      <td>0.493729</td>\n",
       "    </tr>\n",
       "    <tr>\n",
       "      <th>2</th>\n",
       "      <td>2</td>\n",
       "      <td>A</td>\n",
       "      <td>K</td>\n",
       "      <td>A</td>\n",
       "      <td>A</td>\n",
       "      <td>E</td>\n",
       "      <td>BI</td>\n",
       "      <td>A</td>\n",
       "      <td>E</td>\n",
       "      <td>BM</td>\n",
       "      <td>...</td>\n",
       "      <td>0.322749</td>\n",
       "      <td>0.343255</td>\n",
       "      <td>0.616352</td>\n",
       "      <td>0.793687</td>\n",
       "      <td>0.552877</td>\n",
       "      <td>0.352113</td>\n",
       "      <td>0.388835</td>\n",
       "      <td>0.412303</td>\n",
       "      <td>0.292696</td>\n",
       "      <td>0.549452</td>\n",
       "    </tr>\n",
       "    <tr>\n",
       "      <th>3</th>\n",
       "      <td>3</td>\n",
       "      <td>A</td>\n",
       "      <td>K</td>\n",
       "      <td>A</td>\n",
       "      <td>C</td>\n",
       "      <td>E</td>\n",
       "      <td>BI</td>\n",
       "      <td>A</td>\n",
       "      <td>Y</td>\n",
       "      <td>AD</td>\n",
       "      <td>...</td>\n",
       "      <td>0.707663</td>\n",
       "      <td>0.831147</td>\n",
       "      <td>0.807807</td>\n",
       "      <td>0.800032</td>\n",
       "      <td>0.619147</td>\n",
       "      <td>0.221789</td>\n",
       "      <td>0.897617</td>\n",
       "      <td>0.633669</td>\n",
       "      <td>0.760318</td>\n",
       "      <td>0.934242</td>\n",
       "    </tr>\n",
       "  </tbody>\n",
       "</table>\n",
       "<p>4 rows × 31 columns</p>\n",
       "</div>"
      ],
      "text/plain": [
       "   id cat0 cat1 cat2 cat3 cat4 cat5 cat6 cat7 cat8  ...     cont1     cont2  \\\n",
       "0   0    A    I    A    B    B   BI    A    S    Q  ...  0.855349  0.759439   \n",
       "1   1    A    I    A    A    E   BI    K    W   AD  ...  0.328929  0.386385   \n",
       "2   2    A    K    A    A    E   BI    A    E   BM  ...  0.322749  0.343255   \n",
       "3   3    A    K    A    C    E   BI    A    Y   AD  ...  0.707663  0.831147   \n",
       "\n",
       "      cont3     cont4     cont5     cont6     cont7     cont8     cont9  \\\n",
       "0  0.795549  0.681917  0.621672  0.592184  0.791921  0.815254  0.965006   \n",
       "1  0.541366  0.388982  0.357778  0.600044  0.408701  0.399353  0.927406   \n",
       "2  0.616352  0.793687  0.552877  0.352113  0.388835  0.412303  0.292696   \n",
       "3  0.807807  0.800032  0.619147  0.221789  0.897617  0.633669  0.760318   \n",
       "\n",
       "     cont10  \n",
       "0  0.665915  \n",
       "1  0.493729  \n",
       "2  0.549452  \n",
       "3  0.934242  \n",
       "\n",
       "[4 rows x 31 columns]"
      ]
     },
     "execution_count": 22,
     "metadata": {},
     "output_type": "execute_result"
    }
   ],
   "source": [
    "xtrain = train.iloc[:,:31]\n",
    "x_full = pd.concat([xtrain,test])\n",
    "\n",
    "print(\"Shape of combined dataset\",x_full.shape)\n",
    "x_full.head(4)"
   ]
  },
  {
   "cell_type": "code",
   "execution_count": 23,
   "metadata": {},
   "outputs": [],
   "source": [
    "for col in cat_cols:\n",
    "    encoder = OrdinalEncoder(dtype='int64')\n",
    "    encoder.fit(x_full[[col]])\n",
    "    x_full[col] = encoder.transform(x_full[[col]])"
   ]
  },
  {
   "cell_type": "code",
   "execution_count": 24,
   "metadata": {},
   "outputs": [
    {
     "data": {
      "text/html": [
       "<div>\n",
       "<style scoped>\n",
       "    .dataframe tbody tr th:only-of-type {\n",
       "        vertical-align: middle;\n",
       "    }\n",
       "\n",
       "    .dataframe tbody tr th {\n",
       "        vertical-align: top;\n",
       "    }\n",
       "\n",
       "    .dataframe thead th {\n",
       "        text-align: right;\n",
       "    }\n",
       "</style>\n",
       "<table border=\"1\" class=\"dataframe\">\n",
       "  <thead>\n",
       "    <tr style=\"text-align: right;\">\n",
       "      <th></th>\n",
       "      <th>id</th>\n",
       "      <th>cat0</th>\n",
       "      <th>cat1</th>\n",
       "      <th>cat2</th>\n",
       "      <th>cat3</th>\n",
       "      <th>cat4</th>\n",
       "      <th>cat5</th>\n",
       "      <th>cat6</th>\n",
       "      <th>cat7</th>\n",
       "      <th>cat8</th>\n",
       "      <th>...</th>\n",
       "      <th>cont1</th>\n",
       "      <th>cont2</th>\n",
       "      <th>cont3</th>\n",
       "      <th>cont4</th>\n",
       "      <th>cont5</th>\n",
       "      <th>cont6</th>\n",
       "      <th>cont7</th>\n",
       "      <th>cont8</th>\n",
       "      <th>cont9</th>\n",
       "      <th>cont10</th>\n",
       "    </tr>\n",
       "  </thead>\n",
       "  <tbody>\n",
       "    <tr>\n",
       "      <th>0</th>\n",
       "      <td>0</td>\n",
       "      <td>0</td>\n",
       "      <td>8</td>\n",
       "      <td>0</td>\n",
       "      <td>1</td>\n",
       "      <td>1</td>\n",
       "      <td>33</td>\n",
       "      <td>0</td>\n",
       "      <td>44</td>\n",
       "      <td>54</td>\n",
       "      <td>...</td>\n",
       "      <td>0.855349</td>\n",
       "      <td>0.759439</td>\n",
       "      <td>0.795549</td>\n",
       "      <td>0.681917</td>\n",
       "      <td>0.621672</td>\n",
       "      <td>0.592184</td>\n",
       "      <td>0.791921</td>\n",
       "      <td>0.815254</td>\n",
       "      <td>0.965006</td>\n",
       "      <td>0.665915</td>\n",
       "    </tr>\n",
       "    <tr>\n",
       "      <th>1</th>\n",
       "      <td>1</td>\n",
       "      <td>0</td>\n",
       "      <td>8</td>\n",
       "      <td>0</td>\n",
       "      <td>0</td>\n",
       "      <td>4</td>\n",
       "      <td>33</td>\n",
       "      <td>8</td>\n",
       "      <td>48</td>\n",
       "      <td>3</td>\n",
       "      <td>...</td>\n",
       "      <td>0.328929</td>\n",
       "      <td>0.386385</td>\n",
       "      <td>0.541366</td>\n",
       "      <td>0.388982</td>\n",
       "      <td>0.357778</td>\n",
       "      <td>0.600044</td>\n",
       "      <td>0.408701</td>\n",
       "      <td>0.399353</td>\n",
       "      <td>0.927406</td>\n",
       "      <td>0.493729</td>\n",
       "    </tr>\n",
       "    <tr>\n",
       "      <th>2</th>\n",
       "      <td>2</td>\n",
       "      <td>0</td>\n",
       "      <td>10</td>\n",
       "      <td>0</td>\n",
       "      <td>0</td>\n",
       "      <td>4</td>\n",
       "      <td>33</td>\n",
       "      <td>0</td>\n",
       "      <td>30</td>\n",
       "      <td>38</td>\n",
       "      <td>...</td>\n",
       "      <td>0.322749</td>\n",
       "      <td>0.343255</td>\n",
       "      <td>0.616352</td>\n",
       "      <td>0.793687</td>\n",
       "      <td>0.552877</td>\n",
       "      <td>0.352113</td>\n",
       "      <td>0.388835</td>\n",
       "      <td>0.412303</td>\n",
       "      <td>0.292696</td>\n",
       "      <td>0.549452</td>\n",
       "    </tr>\n",
       "    <tr>\n",
       "      <th>3</th>\n",
       "      <td>3</td>\n",
       "      <td>0</td>\n",
       "      <td>10</td>\n",
       "      <td>0</td>\n",
       "      <td>2</td>\n",
       "      <td>4</td>\n",
       "      <td>33</td>\n",
       "      <td>0</td>\n",
       "      <td>50</td>\n",
       "      <td>3</td>\n",
       "      <td>...</td>\n",
       "      <td>0.707663</td>\n",
       "      <td>0.831147</td>\n",
       "      <td>0.807807</td>\n",
       "      <td>0.800032</td>\n",
       "      <td>0.619147</td>\n",
       "      <td>0.221789</td>\n",
       "      <td>0.897617</td>\n",
       "      <td>0.633669</td>\n",
       "      <td>0.760318</td>\n",
       "      <td>0.934242</td>\n",
       "    </tr>\n",
       "    <tr>\n",
       "      <th>4</th>\n",
       "      <td>4</td>\n",
       "      <td>0</td>\n",
       "      <td>8</td>\n",
       "      <td>6</td>\n",
       "      <td>1</td>\n",
       "      <td>4</td>\n",
       "      <td>33</td>\n",
       "      <td>2</td>\n",
       "      <td>32</td>\n",
       "      <td>54</td>\n",
       "      <td>...</td>\n",
       "      <td>0.274514</td>\n",
       "      <td>0.338818</td>\n",
       "      <td>0.277308</td>\n",
       "      <td>0.610578</td>\n",
       "      <td>0.128291</td>\n",
       "      <td>0.578764</td>\n",
       "      <td>0.279167</td>\n",
       "      <td>0.351103</td>\n",
       "      <td>0.357084</td>\n",
       "      <td>0.328960</td>\n",
       "    </tr>\n",
       "  </tbody>\n",
       "</table>\n",
       "<p>5 rows × 31 columns</p>\n",
       "</div>"
      ],
      "text/plain": [
       "   id  cat0  cat1  cat2  cat3  cat4  cat5  cat6  cat7  cat8  ...     cont1  \\\n",
       "0   0     0     8     0     1     1    33     0    44    54  ...  0.855349   \n",
       "1   1     0     8     0     0     4    33     8    48     3  ...  0.328929   \n",
       "2   2     0    10     0     0     4    33     0    30    38  ...  0.322749   \n",
       "3   3     0    10     0     2     4    33     0    50     3  ...  0.707663   \n",
       "4   4     0     8     6     1     4    33     2    32    54  ...  0.274514   \n",
       "\n",
       "      cont2     cont3     cont4     cont5     cont6     cont7     cont8  \\\n",
       "0  0.759439  0.795549  0.681917  0.621672  0.592184  0.791921  0.815254   \n",
       "1  0.386385  0.541366  0.388982  0.357778  0.600044  0.408701  0.399353   \n",
       "2  0.343255  0.616352  0.793687  0.552877  0.352113  0.388835  0.412303   \n",
       "3  0.831147  0.807807  0.800032  0.619147  0.221789  0.897617  0.633669   \n",
       "4  0.338818  0.277308  0.610578  0.128291  0.578764  0.279167  0.351103   \n",
       "\n",
       "      cont9    cont10  \n",
       "0  0.965006  0.665915  \n",
       "1  0.927406  0.493729  \n",
       "2  0.292696  0.549452  \n",
       "3  0.760318  0.934242  \n",
       "4  0.357084  0.328960  \n",
       "\n",
       "[5 rows x 31 columns]"
      ]
     },
     "execution_count": 24,
     "metadata": {},
     "output_type": "execute_result"
    }
   ],
   "source": [
    "x_full.head(5)"
   ]
  },
  {
   "cell_type": "markdown",
   "metadata": {},
   "source": [
    "##### Train-Test-Validation split"
   ]
  },
  {
   "cell_type": "code",
   "execution_count": 25,
   "metadata": {},
   "outputs": [
    {
     "name": "stdout",
     "output_type": "stream",
     "text": [
      "Shape of train dataset:  (300000, 32)\n",
      "Shape of test dataset:  (200000, 31)\n"
     ]
    }
   ],
   "source": [
    "print(\"Shape of train dataset: \",train.shape)\n",
    "print(\"Shape of test dataset: \",test.shape)"
   ]
  },
  {
   "cell_type": "code",
   "execution_count": 26,
   "metadata": {
    "scrolled": true
   },
   "outputs": [
    {
     "name": "stdout",
     "output_type": "stream",
     "text": [
      "Shape :  (300000, 30)\n",
      "Shape :  (300000,)\n"
     ]
    }
   ],
   "source": [
    "xtrain = x_full.iloc[:300000].drop(['id'],axis=1)\n",
    "ytrain = train['target']\n",
    "\n",
    "print(\"Shape : \",xtrain.shape)\n",
    "print(\"Shape : \",ytrain.shape)"
   ]
  },
  {
   "cell_type": "code",
   "execution_count": 27,
   "metadata": {},
   "outputs": [
    {
     "name": "stdout",
     "output_type": "stream",
     "text": [
      "Shape :  (200000, 30)\n"
     ]
    }
   ],
   "source": [
    "xtest_id = test['id']\n",
    "xtest = x_full.iloc[300000:].drop(['id'],axis=1)\n",
    "\n",
    "print(\"Shape : \",xtest.shape)"
   ]
  },
  {
   "cell_type": "code",
   "execution_count": 28,
   "metadata": {},
   "outputs": [],
   "source": [
    "from sklearn.model_selection import train_test_split,cross_val_score,GridSearchCV,RandomizedSearchCV\n",
    "from sklearn.metrics import accuracy_score,roc_auc_score\n",
    "\n",
    "from sklearn.linear_model import LogisticRegression"
   ]
  },
  {
   "cell_type": "code",
   "execution_count": 29,
   "metadata": {},
   "outputs": [],
   "source": [
    "from utils import model_scoring,model_building,make_prediction"
   ]
  },
  {
   "cell_type": "code",
   "execution_count": 30,
   "metadata": {
    "scrolled": true
   },
   "outputs": [
    {
     "name": "stdout",
     "output_type": "stream",
     "text": [
      "Shape of x_train dataset:  (225000, 30)\n",
      "Shape of y_train dataset:  (225000,)\n",
      "Shape of x_val dataset:  (75000, 30)\n",
      "Shape of y_val dataset:  (75000,)\n"
     ]
    }
   ],
   "source": [
    "x_train,x_val,y_train,y_val = train_test_split(xtrain,ytrain,test_size=0.25,random_state=101)\n",
    "\n",
    "print(\"Shape of x_train dataset: \",x_train.shape)\n",
    "print(\"Shape of y_train dataset: \",y_train.shape)\n",
    "print(\"Shape of x_val dataset: \",x_val.shape)\n",
    "print(\"Shape of y_val dataset: \",y_val.shape)"
   ]
  },
  {
   "cell_type": "code",
   "execution_count": 31,
   "metadata": {},
   "outputs": [
    {
     "data": {
      "text/html": [
       "<div>\n",
       "<style scoped>\n",
       "    .dataframe tbody tr th:only-of-type {\n",
       "        vertical-align: middle;\n",
       "    }\n",
       "\n",
       "    .dataframe tbody tr th {\n",
       "        vertical-align: top;\n",
       "    }\n",
       "\n",
       "    .dataframe thead th {\n",
       "        text-align: right;\n",
       "    }\n",
       "</style>\n",
       "<table border=\"1\" class=\"dataframe\">\n",
       "  <thead>\n",
       "    <tr style=\"text-align: right;\">\n",
       "      <th></th>\n",
       "      <th>Model</th>\n",
       "      <th>Train score</th>\n",
       "      <th>Validation score</th>\n",
       "      <th>roc_auc_Score</th>\n",
       "    </tr>\n",
       "  </thead>\n",
       "  <tbody>\n",
       "  </tbody>\n",
       "</table>\n",
       "</div>"
      ],
      "text/plain": [
       "Empty DataFrame\n",
       "Columns: [Model, Train score, Validation score, roc_auc_Score]\n",
       "Index: []"
      ]
     },
     "execution_count": 31,
     "metadata": {},
     "output_type": "execute_result"
    }
   ],
   "source": [
    "Model_perf = pd.DataFrame(columns=['Model','Train score','Validation score','roc_auc_Score'])\n",
    "\n",
    "Model_perf"
   ]
  },
  {
   "cell_type": "markdown",
   "metadata": {},
   "source": [
    "##### Baseline model 1- Logistic Regression (Using All features)"
   ]
  },
  {
   "cell_type": "code",
   "execution_count": 32,
   "metadata": {},
   "outputs": [
    {
     "data": {
      "text/plain": [
       "LogisticRegression(C=1.0, class_weight=None, dual=False, fit_intercept=True,\n",
       "                   intercept_scaling=1, l1_ratio=None, max_iter=1000,\n",
       "                   multi_class='auto', n_jobs=None, penalty='l2',\n",
       "                   random_state=101, solver='liblinear', tol=0.0001, verbose=0,\n",
       "                   warm_start=False)"
      ]
     },
     "execution_count": 32,
     "metadata": {},
     "output_type": "execute_result"
    }
   ],
   "source": [
    "clf = LogisticRegression(solver='liblinear',max_iter=1000,random_state=101)\n",
    "clf.fit(x_train,y_train)"
   ]
  },
  {
   "cell_type": "code",
   "execution_count": 33,
   "metadata": {},
   "outputs": [
    {
     "data": {
      "text/plain": [
       "0.7574772209312115"
      ]
     },
     "execution_count": 33,
     "metadata": {},
     "output_type": "execute_result"
    }
   ],
   "source": [
    "roc_auc_score(y_train,clf.predict(x_train))"
   ]
  },
  {
   "cell_type": "code",
   "execution_count": 34,
   "metadata": {},
   "outputs": [
    {
     "data": {
      "text/plain": [
       "0.7565790493620504"
      ]
     },
     "execution_count": 34,
     "metadata": {},
     "output_type": "execute_result"
    }
   ],
   "source": [
    "roc_auc_score(y_val,clf.predict(x_val))"
   ]
  },
  {
   "cell_type": "markdown",
   "metadata": {},
   "source": [
    "Here .predict_proba() gives better result than .predict()"
   ]
  },
  {
   "cell_type": "code",
   "execution_count": 35,
   "metadata": {},
   "outputs": [
    {
     "name": "stdout",
     "output_type": "stream",
     "text": [
      "[0.93050677 0.98284476 0.43023833 ... 0.14920591 0.9765406  0.92356174]\n",
      "[0.06949323 0.01715524 0.56976167 ... 0.85079409 0.0234594  0.07643826]\n"
     ]
    }
   ],
   "source": [
    "print(clf.predict_proba(x_train)[:,0]) ## negative class prediction\n",
    "\n",
    "print(clf.predict_proba(x_train)[:,1] )## positive class prediction"
   ]
  },
  {
   "cell_type": "code",
   "execution_count": 36,
   "metadata": {},
   "outputs": [],
   "source": [
    "Model_perf = model_scoring(clf,'Baseline model -logistic',x_train,y_train,x_val,y_val,Model_perf)"
   ]
  },
  {
   "cell_type": "code",
   "execution_count": 37,
   "metadata": {
    "scrolled": true
   },
   "outputs": [
    {
     "data": {
      "text/html": [
       "<div>\n",
       "<style scoped>\n",
       "    .dataframe tbody tr th:only-of-type {\n",
       "        vertical-align: middle;\n",
       "    }\n",
       "\n",
       "    .dataframe tbody tr th {\n",
       "        vertical-align: top;\n",
       "    }\n",
       "\n",
       "    .dataframe thead th {\n",
       "        text-align: right;\n",
       "    }\n",
       "</style>\n",
       "<table border=\"1\" class=\"dataframe\">\n",
       "  <thead>\n",
       "    <tr style=\"text-align: right;\">\n",
       "      <th></th>\n",
       "      <th>Model</th>\n",
       "      <th>Train score</th>\n",
       "      <th>Validation score</th>\n",
       "      <th>roc_auc_Score</th>\n",
       "    </tr>\n",
       "  </thead>\n",
       "  <tbody>\n",
       "    <tr>\n",
       "      <th>0</th>\n",
       "      <td>Baseline model -logistic</td>\n",
       "      <td>0.837249</td>\n",
       "      <td>0.8376</td>\n",
       "      <td>0.868596</td>\n",
       "    </tr>\n",
       "  </tbody>\n",
       "</table>\n",
       "</div>"
      ],
      "text/plain": [
       "                      Model  Train score  Validation score  roc_auc_Score\n",
       "0  Baseline model -logistic     0.837249            0.8376       0.868596"
      ]
     },
     "execution_count": 37,
     "metadata": {},
     "output_type": "execute_result"
    }
   ],
   "source": [
    "Model_perf"
   ]
  },
  {
   "cell_type": "markdown",
   "metadata": {},
   "source": [
    "##### Test Prediction"
   ]
  },
  {
   "cell_type": "code",
   "execution_count": 38,
   "metadata": {},
   "outputs": [],
   "source": [
    "import os"
   ]
  },
  {
   "cell_type": "raw",
   "metadata": {},
   "source": [
    "dir_name='Submission'\n",
    "os.makedirs(dir_name,mode=775,exist_ok=True)\n",
    "print(dir_name,\"Created Successfully\")"
   ]
  },
  {
   "cell_type": "code",
   "execution_count": 39,
   "metadata": {},
   "outputs": [],
   "source": [
    "test_pred = np.round(clf.predict_proba(xtest)[:,1],2)"
   ]
  },
  {
   "cell_type": "code",
   "execution_count": 40,
   "metadata": {},
   "outputs": [],
   "source": [
    "submission = pd.DataFrame({'id':xtest_id, 'target':test_pred})"
   ]
  },
  {
   "cell_type": "code",
   "execution_count": 41,
   "metadata": {},
   "outputs": [
    {
     "data": {
      "text/html": [
       "<div>\n",
       "<style scoped>\n",
       "    .dataframe tbody tr th:only-of-type {\n",
       "        vertical-align: middle;\n",
       "    }\n",
       "\n",
       "    .dataframe tbody tr th {\n",
       "        vertical-align: top;\n",
       "    }\n",
       "\n",
       "    .dataframe thead th {\n",
       "        text-align: right;\n",
       "    }\n",
       "</style>\n",
       "<table border=\"1\" class=\"dataframe\">\n",
       "  <thead>\n",
       "    <tr style=\"text-align: right;\">\n",
       "      <th></th>\n",
       "      <th>id</th>\n",
       "      <th>target</th>\n",
       "    </tr>\n",
       "  </thead>\n",
       "  <tbody>\n",
       "    <tr>\n",
       "      <th>0</th>\n",
       "      <td>5</td>\n",
       "      <td>0.06</td>\n",
       "    </tr>\n",
       "    <tr>\n",
       "      <th>1</th>\n",
       "      <td>6</td>\n",
       "      <td>0.62</td>\n",
       "    </tr>\n",
       "    <tr>\n",
       "      <th>2</th>\n",
       "      <td>8</td>\n",
       "      <td>0.14</td>\n",
       "    </tr>\n",
       "    <tr>\n",
       "      <th>3</th>\n",
       "      <td>9</td>\n",
       "      <td>0.09</td>\n",
       "    </tr>\n",
       "    <tr>\n",
       "      <th>4</th>\n",
       "      <td>11</td>\n",
       "      <td>0.09</td>\n",
       "    </tr>\n",
       "  </tbody>\n",
       "</table>\n",
       "</div>"
      ],
      "text/plain": [
       "   id  target\n",
       "0   5    0.06\n",
       "1   6    0.62\n",
       "2   8    0.14\n",
       "3   9    0.09\n",
       "4  11    0.09"
      ]
     },
     "execution_count": 41,
     "metadata": {},
     "output_type": "execute_result"
    }
   ],
   "source": [
    "submission.head()"
   ]
  },
  {
   "cell_type": "code",
   "execution_count": 42,
   "metadata": {},
   "outputs": [
    {
     "data": {
      "text/plain": [
       "(200000, 2)"
      ]
     },
     "execution_count": 42,
     "metadata": {},
     "output_type": "execute_result"
    }
   ],
   "source": [
    "submission.shape"
   ]
  },
  {
   "cell_type": "code",
   "execution_count": 43,
   "metadata": {},
   "outputs": [],
   "source": [
    "submission.to_csv('Submission/submission1.csv',index=False)"
   ]
  },
  {
   "cell_type": "markdown",
   "metadata": {},
   "source": [
    "##### Baseline model 2 - Logistic Regression (Using All features + complete train data)"
   ]
  },
  {
   "cell_type": "code",
   "execution_count": 44,
   "metadata": {},
   "outputs": [
    {
     "data": {
      "text/plain": [
       "LogisticRegression(C=1.0, class_weight=None, dual=False, fit_intercept=True,\n",
       "                   intercept_scaling=1, l1_ratio=None, max_iter=1000,\n",
       "                   multi_class='auto', n_jobs=None, penalty='l2',\n",
       "                   random_state=101, solver='liblinear', tol=0.0001, verbose=0,\n",
       "                   warm_start=False)"
      ]
     },
     "execution_count": 44,
     "metadata": {},
     "output_type": "execute_result"
    }
   ],
   "source": [
    "clf = LogisticRegression(solver='liblinear',max_iter=1000,random_state=101)\n",
    "clf.fit(xtrain,ytrain)"
   ]
  },
  {
   "cell_type": "code",
   "execution_count": 45,
   "metadata": {},
   "outputs": [],
   "source": [
    "make_prediction(clf,xtest,xtest_id,'logistic')"
   ]
  },
  {
   "cell_type": "markdown",
   "metadata": {},
   "source": [
    "This has given same score as previous model. so we will try out different algorithm using 1st approach"
   ]
  },
  {
   "cell_type": "code",
   "execution_count": 46,
   "metadata": {},
   "outputs": [],
   "source": [
    "from sklearn.linear_model import SGDClassifier\n",
    "from sklearn.tree import DecisionTreeClassifier\n",
    "from sklearn.ensemble import AdaBoostClassifier,BaggingClassifier,GradientBoostingClassifier,RandomForestClassifier\n",
    "from sklearn.svm import SVC\n",
    "from sklearn.naive_bayes import BaseNB,BernoulliNB,CategoricalNB,GaussianNB,MultinomialNB"
   ]
  },
  {
   "cell_type": "markdown",
   "metadata": {},
   "source": [
    "##### Baseline model 3- Decision Tree (Using All features)"
   ]
  },
  {
   "cell_type": "code",
   "execution_count": 47,
   "metadata": {},
   "outputs": [
    {
     "data": {
      "text/plain": [
       "DecisionTreeClassifier(ccp_alpha=0.0, class_weight=None, criterion='gini',\n",
       "                       max_depth=None, max_features=None, max_leaf_nodes=None,\n",
       "                       min_impurity_decrease=0.0, min_impurity_split=None,\n",
       "                       min_samples_leaf=1, min_samples_split=2,\n",
       "                       min_weight_fraction_leaf=0.0, presort='deprecated',\n",
       "                       random_state=100, splitter='best')"
      ]
     },
     "execution_count": 47,
     "metadata": {},
     "output_type": "execute_result"
    }
   ],
   "source": [
    "clf = DecisionTreeClassifier(random_state=100)\n",
    "\n",
    "clf.fit(x_train,y_train)"
   ]
  },
  {
   "cell_type": "code",
   "execution_count": 48,
   "metadata": {},
   "outputs": [],
   "source": [
    "Model_perf = model_scoring(clf,'Baseline model -Decision Tree',x_train,y_train,x_val,y_val,Model_perf)"
   ]
  },
  {
   "cell_type": "code",
   "execution_count": 49,
   "metadata": {},
   "outputs": [
    {
     "data": {
      "text/html": [
       "<div>\n",
       "<style scoped>\n",
       "    .dataframe tbody tr th:only-of-type {\n",
       "        vertical-align: middle;\n",
       "    }\n",
       "\n",
       "    .dataframe tbody tr th {\n",
       "        vertical-align: top;\n",
       "    }\n",
       "\n",
       "    .dataframe thead th {\n",
       "        text-align: right;\n",
       "    }\n",
       "</style>\n",
       "<table border=\"1\" class=\"dataframe\">\n",
       "  <thead>\n",
       "    <tr style=\"text-align: right;\">\n",
       "      <th></th>\n",
       "      <th>Model</th>\n",
       "      <th>Train score</th>\n",
       "      <th>Validation score</th>\n",
       "      <th>roc_auc_Score</th>\n",
       "    </tr>\n",
       "  </thead>\n",
       "  <tbody>\n",
       "    <tr>\n",
       "      <th>0</th>\n",
       "      <td>Baseline model -logistic</td>\n",
       "      <td>0.837249</td>\n",
       "      <td>0.83760</td>\n",
       "      <td>0.868596</td>\n",
       "    </tr>\n",
       "    <tr>\n",
       "      <th>0</th>\n",
       "      <td>Baseline model -Decision Tree</td>\n",
       "      <td>0.770124</td>\n",
       "      <td>0.76548</td>\n",
       "      <td>0.709744</td>\n",
       "    </tr>\n",
       "  </tbody>\n",
       "</table>\n",
       "</div>"
      ],
      "text/plain": [
       "                           Model  Train score  Validation score  roc_auc_Score\n",
       "0       Baseline model -logistic     0.837249           0.83760       0.868596\n",
       "0  Baseline model -Decision Tree     0.770124           0.76548       0.709744"
      ]
     },
     "execution_count": 49,
     "metadata": {},
     "output_type": "execute_result"
    }
   ],
   "source": [
    "Model_perf"
   ]
  },
  {
   "cell_type": "code",
   "execution_count": 50,
   "metadata": {},
   "outputs": [],
   "source": [
    "make_prediction(clf,xtest,xtest_id,'Decision-Tree')"
   ]
  },
  {
   "cell_type": "code",
   "execution_count": null,
   "metadata": {},
   "outputs": [],
   "source": []
  },
  {
   "cell_type": "markdown",
   "metadata": {},
   "source": [
    "##### Baseline model 4- Decision Tree (Using All features + Hyperparameter tuning)"
   ]
  },
  {
   "cell_type": "code",
   "execution_count": 51,
   "metadata": {},
   "outputs": [
    {
     "name": "stdout",
     "output_type": "stream",
     "text": [
      "Wall time: 2min 44s\n"
     ]
    },
    {
     "data": {
      "text/html": [
       "<div>\n",
       "<style scoped>\n",
       "    .dataframe tbody tr th:only-of-type {\n",
       "        vertical-align: middle;\n",
       "    }\n",
       "\n",
       "    .dataframe tbody tr th {\n",
       "        vertical-align: top;\n",
       "    }\n",
       "\n",
       "    .dataframe thead th {\n",
       "        text-align: right;\n",
       "    }\n",
       "</style>\n",
       "<table border=\"1\" class=\"dataframe\">\n",
       "  <thead>\n",
       "    <tr style=\"text-align: right;\">\n",
       "      <th></th>\n",
       "      <th>Model</th>\n",
       "      <th>Train score</th>\n",
       "      <th>Validation score</th>\n",
       "      <th>roc_auc_Score</th>\n",
       "    </tr>\n",
       "  </thead>\n",
       "  <tbody>\n",
       "    <tr>\n",
       "      <th>0</th>\n",
       "      <td>Baseline model -logistic</td>\n",
       "      <td>0.837249</td>\n",
       "      <td>0.837600</td>\n",
       "      <td>0.868596</td>\n",
       "    </tr>\n",
       "    <tr>\n",
       "      <th>0</th>\n",
       "      <td>Baseline model -Decision Tree</td>\n",
       "      <td>0.770124</td>\n",
       "      <td>0.765480</td>\n",
       "      <td>0.709744</td>\n",
       "    </tr>\n",
       "    <tr>\n",
       "      <th>0</th>\n",
       "      <td>Decision Tree-Hypertuned</td>\n",
       "      <td>0.804164</td>\n",
       "      <td>0.804227</td>\n",
       "      <td>0.764445</td>\n",
       "    </tr>\n",
       "  </tbody>\n",
       "</table>\n",
       "</div>"
      ],
      "text/plain": [
       "                           Model  Train score  Validation score  roc_auc_Score\n",
       "0       Baseline model -logistic     0.837249          0.837600       0.868596\n",
       "0  Baseline model -Decision Tree     0.770124          0.765480       0.709744\n",
       "0       Decision Tree-Hypertuned     0.804164          0.804227       0.764445"
      ]
     },
     "execution_count": 51,
     "metadata": {},
     "output_type": "execute_result"
    }
   ],
   "source": [
    "%%time\n",
    "clf = DecisionTreeClassifier(random_state=100)\n",
    "\n",
    "param_grid = {'max_features':[\"auto\", \"sqrt\", \"log2\"],\n",
    "             'max_depth':[3,5,7],\n",
    "             'ccp_alpha':[0.01,0.05,0.1,0.5]}\n",
    "\n",
    "#dt_clf = GridSearchCV(estimator=clf,param_grid=param_grid,cv=5)\n",
    "#dt_best = dt_clf.fit(x_train,y_train)\n",
    "#dt = DecisionTreeClassifier(**dt_best.best_params_,random_state=100)\n",
    "#dt.fit(x_train,y_train)\n",
    "#Model_perf = model_scoring(dt,'Decision Tree-Hypertuned',x_train,y_train,x_val,y_val,Model_perf)\n",
    "\n",
    "Model_perf,model = model_building(clf,param_grid,x_train,y_train,x_val,y_val,'Decision Tree-Hypertuned',Model_perf)\n",
    "\n",
    "Model_perf"
   ]
  },
  {
   "cell_type": "code",
   "execution_count": 52,
   "metadata": {},
   "outputs": [],
   "source": [
    "make_prediction(model,xtest,xtest_id,'Decision-Tree-Hparam')"
   ]
  },
  {
   "cell_type": "code",
   "execution_count": null,
   "metadata": {},
   "outputs": [],
   "source": []
  },
  {
   "cell_type": "code",
   "execution_count": 53,
   "metadata": {},
   "outputs": [],
   "source": [
    "#### This is taking too much time in training, cause SVM works better with small datasets\n",
    "##%%time\n",
    "##clf = SVC(random_state=100)\n",
    "\n",
    "##param_grid= {'kernel':['poly', 'rbf', 'sigmoid']}\n",
    "\n",
    "##Model_perf,model = model_building(clf,param_grid,x_train,y_train,x_val,y_val,'SVC-Hypertuned',Model_perf)\n",
    "\n",
    "##Model_perf\n",
    "\n",
    "##make_prediction(model,xtest,xtest_id,'SVC')"
   ]
  },
  {
   "cell_type": "code",
   "execution_count": null,
   "metadata": {},
   "outputs": [],
   "source": []
  },
  {
   "cell_type": "markdown",
   "metadata": {},
   "source": [
    "##### Model - Bagging ( All Features )"
   ]
  },
  {
   "cell_type": "code",
   "execution_count": 54,
   "metadata": {},
   "outputs": [
    {
     "name": "stdout",
     "output_type": "stream",
     "text": [
      "Wall time: 5min 53s\n"
     ]
    },
    {
     "data": {
      "text/plain": [
       "BaggingClassifier(base_estimator=LogisticRegression(C=1.0, class_weight=None,\n",
       "                                                    dual=False,\n",
       "                                                    fit_intercept=True,\n",
       "                                                    intercept_scaling=1,\n",
       "                                                    l1_ratio=None,\n",
       "                                                    max_iter=1000,\n",
       "                                                    multi_class='auto',\n",
       "                                                    n_jobs=None, penalty='l2',\n",
       "                                                    random_state=101,\n",
       "                                                    solver='liblinear',\n",
       "                                                    tol=0.0001, verbose=0,\n",
       "                                                    warm_start=False),\n",
       "                  bootstrap=True, bootstrap_features=False, max_features=1.0,\n",
       "                  max_samples=1.0, n_estimators=100, n_jobs=4, oob_score=True,\n",
       "                  random_state=100, verbose=0, warm_start=False)"
      ]
     },
     "execution_count": 54,
     "metadata": {},
     "output_type": "execute_result"
    }
   ],
   "source": [
    "%%time\n",
    "\n",
    "base_estimator=LogisticRegression(solver='liblinear',max_iter=1000,random_state=101)\n",
    "\n",
    "model_bag = BaggingClassifier(base_estimator=base_estimator,\n",
    "                        oob_score=True,random_state=100,n_jobs=4,n_estimators=100)\n",
    "\n",
    "model_bag.fit(x_train,y_train)"
   ]
  },
  {
   "cell_type": "code",
   "execution_count": 55,
   "metadata": {},
   "outputs": [
    {
     "name": "stdout",
     "output_type": "stream",
     "text": [
      "Wall time: 26min 19s\n"
     ]
    },
    {
     "data": {
      "text/html": [
       "<div>\n",
       "<style scoped>\n",
       "    .dataframe tbody tr th:only-of-type {\n",
       "        vertical-align: middle;\n",
       "    }\n",
       "\n",
       "    .dataframe tbody tr th {\n",
       "        vertical-align: top;\n",
       "    }\n",
       "\n",
       "    .dataframe thead th {\n",
       "        text-align: right;\n",
       "    }\n",
       "</style>\n",
       "<table border=\"1\" class=\"dataframe\">\n",
       "  <thead>\n",
       "    <tr style=\"text-align: right;\">\n",
       "      <th></th>\n",
       "      <th>Model</th>\n",
       "      <th>Train score</th>\n",
       "      <th>Validation score</th>\n",
       "      <th>roc_auc_Score</th>\n",
       "    </tr>\n",
       "  </thead>\n",
       "  <tbody>\n",
       "    <tr>\n",
       "      <th>0</th>\n",
       "      <td>Baseline model -logistic</td>\n",
       "      <td>0.837249</td>\n",
       "      <td>0.837600</td>\n",
       "      <td>0.868596</td>\n",
       "    </tr>\n",
       "    <tr>\n",
       "      <th>0</th>\n",
       "      <td>Baseline model -Decision Tree</td>\n",
       "      <td>0.770124</td>\n",
       "      <td>0.765480</td>\n",
       "      <td>0.709744</td>\n",
       "    </tr>\n",
       "    <tr>\n",
       "      <th>0</th>\n",
       "      <td>Decision Tree-Hypertuned</td>\n",
       "      <td>0.804164</td>\n",
       "      <td>0.804227</td>\n",
       "      <td>0.764445</td>\n",
       "    </tr>\n",
       "    <tr>\n",
       "      <th>0</th>\n",
       "      <td>Bagging</td>\n",
       "      <td>0.837307</td>\n",
       "      <td>0.837693</td>\n",
       "      <td>0.868592</td>\n",
       "    </tr>\n",
       "  </tbody>\n",
       "</table>\n",
       "</div>"
      ],
      "text/plain": [
       "                           Model  Train score  Validation score  roc_auc_Score\n",
       "0       Baseline model -logistic     0.837249          0.837600       0.868596\n",
       "0  Baseline model -Decision Tree     0.770124          0.765480       0.709744\n",
       "0       Decision Tree-Hypertuned     0.804164          0.804227       0.764445\n",
       "0                        Bagging     0.837307          0.837693       0.868592"
      ]
     },
     "execution_count": 55,
     "metadata": {},
     "output_type": "execute_result"
    }
   ],
   "source": [
    "%%time\n",
    "\n",
    "Model_perf = model_scoring(model_bag,'Bagging',x_train,y_train,x_val,y_val,Model_perf)\n",
    "#Model_perf,model_bag = model_building(clf,param_grid,x_train,y_train,x_val,y_val,'Bagging',Model_perf)\n",
    "\n",
    "make_prediction(model_bag,xtest,xtest_id,'Bagging')\n",
    "\n",
    "Model_perf"
   ]
  },
  {
   "cell_type": "code",
   "execution_count": null,
   "metadata": {},
   "outputs": [],
   "source": []
  },
  {
   "cell_type": "markdown",
   "metadata": {},
   "source": [
    "##### Model - AdaBoost (All Features + Hyperparamerter tuning)"
   ]
  },
  {
   "cell_type": "code",
   "execution_count": 56,
   "metadata": {
    "scrolled": true
   },
   "outputs": [
    {
     "name": "stdout",
     "output_type": "stream",
     "text": [
      "Wall time: 2min 34s\n"
     ]
    },
    {
     "data": {
      "text/plain": [
       "AdaBoostClassifier(algorithm='SAMME.R',\n",
       "                   base_estimator=LogisticRegression(C=1.0, class_weight=None,\n",
       "                                                     dual=False,\n",
       "                                                     fit_intercept=True,\n",
       "                                                     intercept_scaling=1,\n",
       "                                                     l1_ratio=None,\n",
       "                                                     max_iter=1000,\n",
       "                                                     multi_class='auto',\n",
       "                                                     n_jobs=None, penalty='l2',\n",
       "                                                     random_state=101,\n",
       "                                                     solver='liblinear',\n",
       "                                                     tol=0.0001, verbose=0,\n",
       "                                                     warm_start=False),\n",
       "                   learning_rate=0.1, n_estimators=100, random_state=100)"
      ]
     },
     "execution_count": 56,
     "metadata": {},
     "output_type": "execute_result"
    }
   ],
   "source": [
    "%%time\n",
    "\n",
    "base_estimator=LogisticRegression(solver='liblinear',max_iter=1000,random_state=101)\n",
    "\n",
    "model_ada = AdaBoostClassifier(base_estimator=base_estimator,n_estimators=100,random_state=100,learning_rate=0.1)\n",
    "model_ada.fit(x_train,y_train)"
   ]
  },
  {
   "cell_type": "code",
   "execution_count": 57,
   "metadata": {
    "scrolled": true
   },
   "outputs": [
    {
     "name": "stdout",
     "output_type": "stream",
     "text": [
      "Wall time: 1h 14min 24s\n"
     ]
    },
    {
     "data": {
      "text/html": [
       "<div>\n",
       "<style scoped>\n",
       "    .dataframe tbody tr th:only-of-type {\n",
       "        vertical-align: middle;\n",
       "    }\n",
       "\n",
       "    .dataframe tbody tr th {\n",
       "        vertical-align: top;\n",
       "    }\n",
       "\n",
       "    .dataframe thead th {\n",
       "        text-align: right;\n",
       "    }\n",
       "</style>\n",
       "<table border=\"1\" class=\"dataframe\">\n",
       "  <thead>\n",
       "    <tr style=\"text-align: right;\">\n",
       "      <th></th>\n",
       "      <th>Model</th>\n",
       "      <th>Train score</th>\n",
       "      <th>Validation score</th>\n",
       "      <th>roc_auc_Score</th>\n",
       "    </tr>\n",
       "  </thead>\n",
       "  <tbody>\n",
       "    <tr>\n",
       "      <th>0</th>\n",
       "      <td>Baseline model -logistic</td>\n",
       "      <td>0.837249</td>\n",
       "      <td>0.837600</td>\n",
       "      <td>0.868596</td>\n",
       "    </tr>\n",
       "    <tr>\n",
       "      <th>0</th>\n",
       "      <td>Baseline model -Decision Tree</td>\n",
       "      <td>0.770124</td>\n",
       "      <td>0.765480</td>\n",
       "      <td>0.709744</td>\n",
       "    </tr>\n",
       "    <tr>\n",
       "      <th>0</th>\n",
       "      <td>Decision Tree-Hypertuned</td>\n",
       "      <td>0.804164</td>\n",
       "      <td>0.804227</td>\n",
       "      <td>0.764445</td>\n",
       "    </tr>\n",
       "    <tr>\n",
       "      <th>0</th>\n",
       "      <td>Bagging</td>\n",
       "      <td>0.837307</td>\n",
       "      <td>0.837693</td>\n",
       "      <td>0.868592</td>\n",
       "    </tr>\n",
       "    <tr>\n",
       "      <th>0</th>\n",
       "      <td>AdaBoost</td>\n",
       "      <td>0.827733</td>\n",
       "      <td>0.828427</td>\n",
       "      <td>0.852773</td>\n",
       "    </tr>\n",
       "  </tbody>\n",
       "</table>\n",
       "</div>"
      ],
      "text/plain": [
       "                           Model  Train score  Validation score  roc_auc_Score\n",
       "0       Baseline model -logistic     0.837249          0.837600       0.868596\n",
       "0  Baseline model -Decision Tree     0.770124          0.765480       0.709744\n",
       "0       Decision Tree-Hypertuned     0.804164          0.804227       0.764445\n",
       "0                        Bagging     0.837307          0.837693       0.868592\n",
       "0                       AdaBoost     0.827733          0.828427       0.852773"
      ]
     },
     "execution_count": 57,
     "metadata": {},
     "output_type": "execute_result"
    }
   ],
   "source": [
    "%%time\n",
    "\n",
    "Model_perf = model_scoring(model_ada,'AdaBoost',x_train,y_train,x_val,y_val,Model_perf)\n",
    "#Model_perf,model_bag = model_building(clf,param_grid,x_train,y_train,x_val,y_val,'Bagging',Model_perf)\n",
    "\n",
    "make_prediction(model_ada,xtest,xtest_id,'AdaBoost')\n",
    "\n",
    "Model_perf"
   ]
  },
  {
   "cell_type": "markdown",
   "metadata": {},
   "source": [
    "##### Model - Random Forest (All Features)"
   ]
  },
  {
   "cell_type": "code",
   "execution_count": 58,
   "metadata": {},
   "outputs": [
    {
     "name": "stdout",
     "output_type": "stream",
     "text": [
      "Wall time: 3min 20s\n"
     ]
    },
    {
     "data": {
      "text/plain": [
       "RandomForestClassifier(bootstrap=True, ccp_alpha=0.0, class_weight=None,\n",
       "                       criterion='gini', max_depth=None, max_features='auto',\n",
       "                       max_leaf_nodes=None, max_samples=None,\n",
       "                       min_impurity_decrease=0.0, min_impurity_split=None,\n",
       "                       min_samples_leaf=1, min_samples_split=2,\n",
       "                       min_weight_fraction_leaf=0.0, n_estimators=100,\n",
       "                       n_jobs=None, oob_score=False, random_state=100,\n",
       "                       verbose=0, warm_start=False)"
      ]
     },
     "execution_count": 58,
     "metadata": {},
     "output_type": "execute_result"
    }
   ],
   "source": [
    "%%time\n",
    "\n",
    "model_rf = RandomForestClassifier(random_state=100,criterion='gini',n_estimators=100)\n",
    "model_rf.fit(x_train,y_train)"
   ]
  },
  {
   "cell_type": "code",
   "execution_count": 59,
   "metadata": {
    "scrolled": true
   },
   "outputs": [
    {
     "name": "stdout",
     "output_type": "stream",
     "text": [
      "Wall time: 33min 28s\n"
     ]
    },
    {
     "data": {
      "text/html": [
       "<div>\n",
       "<style scoped>\n",
       "    .dataframe tbody tr th:only-of-type {\n",
       "        vertical-align: middle;\n",
       "    }\n",
       "\n",
       "    .dataframe tbody tr th {\n",
       "        vertical-align: top;\n",
       "    }\n",
       "\n",
       "    .dataframe thead th {\n",
       "        text-align: right;\n",
       "    }\n",
       "</style>\n",
       "<table border=\"1\" class=\"dataframe\">\n",
       "  <thead>\n",
       "    <tr style=\"text-align: right;\">\n",
       "      <th></th>\n",
       "      <th>Model</th>\n",
       "      <th>Train score</th>\n",
       "      <th>Validation score</th>\n",
       "      <th>roc_auc_Score</th>\n",
       "    </tr>\n",
       "  </thead>\n",
       "  <tbody>\n",
       "    <tr>\n",
       "      <th>0</th>\n",
       "      <td>Baseline model -logistic</td>\n",
       "      <td>0.837249</td>\n",
       "      <td>0.837600</td>\n",
       "      <td>0.868596</td>\n",
       "    </tr>\n",
       "    <tr>\n",
       "      <th>0</th>\n",
       "      <td>Baseline model -Decision Tree</td>\n",
       "      <td>0.770124</td>\n",
       "      <td>0.765480</td>\n",
       "      <td>0.709744</td>\n",
       "    </tr>\n",
       "    <tr>\n",
       "      <th>0</th>\n",
       "      <td>Decision Tree-Hypertuned</td>\n",
       "      <td>0.804164</td>\n",
       "      <td>0.804227</td>\n",
       "      <td>0.764445</td>\n",
       "    </tr>\n",
       "    <tr>\n",
       "      <th>0</th>\n",
       "      <td>Bagging</td>\n",
       "      <td>0.837307</td>\n",
       "      <td>0.837693</td>\n",
       "      <td>0.868592</td>\n",
       "    </tr>\n",
       "    <tr>\n",
       "      <th>0</th>\n",
       "      <td>AdaBoost</td>\n",
       "      <td>0.827733</td>\n",
       "      <td>0.828427</td>\n",
       "      <td>0.852773</td>\n",
       "    </tr>\n",
       "    <tr>\n",
       "      <th>0</th>\n",
       "      <td>Random Forest</td>\n",
       "      <td>0.846018</td>\n",
       "      <td>0.844227</td>\n",
       "      <td>0.882456</td>\n",
       "    </tr>\n",
       "  </tbody>\n",
       "</table>\n",
       "</div>"
      ],
      "text/plain": [
       "                           Model  Train score  Validation score  roc_auc_Score\n",
       "0       Baseline model -logistic     0.837249          0.837600       0.868596\n",
       "0  Baseline model -Decision Tree     0.770124          0.765480       0.709744\n",
       "0       Decision Tree-Hypertuned     0.804164          0.804227       0.764445\n",
       "0                        Bagging     0.837307          0.837693       0.868592\n",
       "0                       AdaBoost     0.827733          0.828427       0.852773\n",
       "0                  Random Forest     0.846018          0.844227       0.882456"
      ]
     },
     "execution_count": 59,
     "metadata": {},
     "output_type": "execute_result"
    }
   ],
   "source": [
    "%%time\n",
    "\n",
    "Model_perf = model_scoring(model_rf,'Random Forest',x_train,y_train,x_val,y_val,Model_perf)\n",
    "#Model_perf,model_bag = model_building(clf,param_grid,x_train,y_train,x_val,y_val,'Bagging',Model_perf)\n",
    "\n",
    "make_prediction(model_rf,xtest,xtest_id,'RF')\n",
    "\n",
    "Model_perf"
   ]
  },
  {
   "cell_type": "code",
   "execution_count": 60,
   "metadata": {},
   "outputs": [
    {
     "data": {
      "text/plain": [
       "array([0.01763956, 0.02363496, 0.02785968, 0.00973523, 0.0183555 ,\n",
       "       0.00568252, 0.0118458 , 0.02437441, 0.02151665, 0.01023812,\n",
       "       0.02315446, 0.01985239, 0.00325878, 0.00326009, 0.02438985,\n",
       "       0.08251161, 0.10627078, 0.02084564, 0.0528118 , 0.03991751,\n",
       "       0.04600327, 0.04659275, 0.04341816, 0.04290169, 0.05961825,\n",
       "       0.0500256 , 0.0396131 , 0.04402888, 0.04014217, 0.04050081])"
      ]
     },
     "execution_count": 60,
     "metadata": {},
     "output_type": "execute_result"
    }
   ],
   "source": [
    "model_rf.feature_importances_"
   ]
  },
  {
   "cell_type": "code",
   "execution_count": 61,
   "metadata": {},
   "outputs": [],
   "source": [
    "indices = np.argsort(model_rf.feature_importances_)[::-1]\n",
    "feature_rank = pd.DataFrame(columns=['rank','feature','importance'])\n",
    "\n",
    "for f in range(x_train.shape[1]):\n",
    "    feature_rank.loc[f] = [f+1,\n",
    "                           x_train.columns[indices[f]],\n",
    "                          model_rf.feature_importances_[indices[f]]]\n",
    "    "
   ]
  },
  {
   "cell_type": "code",
   "execution_count": 62,
   "metadata": {},
   "outputs": [
    {
     "data": {
      "text/html": [
       "<div>\n",
       "<style scoped>\n",
       "    .dataframe tbody tr th:only-of-type {\n",
       "        vertical-align: middle;\n",
       "    }\n",
       "\n",
       "    .dataframe tbody tr th {\n",
       "        vertical-align: top;\n",
       "    }\n",
       "\n",
       "    .dataframe thead th {\n",
       "        text-align: right;\n",
       "    }\n",
       "</style>\n",
       "<table border=\"1\" class=\"dataframe\">\n",
       "  <thead>\n",
       "    <tr style=\"text-align: right;\">\n",
       "      <th></th>\n",
       "      <th>rank</th>\n",
       "      <th>feature</th>\n",
       "      <th>importance</th>\n",
       "    </tr>\n",
       "  </thead>\n",
       "  <tbody>\n",
       "    <tr>\n",
       "      <th>0</th>\n",
       "      <td>1</td>\n",
       "      <td>cat16</td>\n",
       "      <td>0.106271</td>\n",
       "    </tr>\n",
       "    <tr>\n",
       "      <th>1</th>\n",
       "      <td>2</td>\n",
       "      <td>cat15</td>\n",
       "      <td>0.082512</td>\n",
       "    </tr>\n",
       "    <tr>\n",
       "      <th>2</th>\n",
       "      <td>3</td>\n",
       "      <td>cont5</td>\n",
       "      <td>0.059618</td>\n",
       "    </tr>\n",
       "    <tr>\n",
       "      <th>3</th>\n",
       "      <td>4</td>\n",
       "      <td>cat18</td>\n",
       "      <td>0.052812</td>\n",
       "    </tr>\n",
       "    <tr>\n",
       "      <th>4</th>\n",
       "      <td>5</td>\n",
       "      <td>cont6</td>\n",
       "      <td>0.050026</td>\n",
       "    </tr>\n",
       "  </tbody>\n",
       "</table>\n",
       "</div>"
      ],
      "text/plain": [
       "  rank feature  importance\n",
       "0    1   cat16    0.106271\n",
       "1    2   cat15    0.082512\n",
       "2    3   cont5    0.059618\n",
       "3    4   cat18    0.052812\n",
       "4    5   cont6    0.050026"
      ]
     },
     "execution_count": 62,
     "metadata": {},
     "output_type": "execute_result"
    }
   ],
   "source": [
    "feature_rank.head()"
   ]
  },
  {
   "cell_type": "code",
   "execution_count": 63,
   "metadata": {},
   "outputs": [
    {
     "data": {
      "image/png": "[encoded data removed]",
      "text/plain": [
       "<Figure size 864x3456 with 1 Axes>"
      ]
     },
     "metadata": {},
     "output_type": "display_data"
    }
   ],
   "source": [
    "plt.figure(figsize=(12,48))\n",
    "plt.title(\"Feature importance chart\",fontsize=14,fontweight='bold')\n",
    "sns.barplot( y = 'feature', x = 'importance', data = feature_rank,palette='colorblind');"
   ]
  },
  {
   "cell_type": "markdown",
   "metadata": {},
   "source": [
    "##### Model - Gradient Boosting (All Features)"
   ]
  },
  {
   "cell_type": "code",
   "execution_count": 64,
   "metadata": {},
   "outputs": [
    {
     "name": "stdout",
     "output_type": "stream",
     "text": [
      "Wall time: 5min 53s\n"
     ]
    },
    {
     "data": {
      "text/plain": [
       "GradientBoostingClassifier(ccp_alpha=0.0, criterion='friedman_mse', init=None,\n",
       "                           learning_rate=0.1, loss='deviance', max_depth=3,\n",
       "                           max_features=None, max_leaf_nodes=None,\n",
       "                           min_impurity_decrease=0.0, min_impurity_split=None,\n",
       "                           min_samples_leaf=1, min_samples_split=2,\n",
       "                           min_weight_fraction_leaf=0.0, n_estimators=100,\n",
       "                           n_iter_no_change=None, presort='deprecated',\n",
       "                           random_state=100, subsample=1.0, tol=0.0001,\n",
       "                           validation_fraction=0.1, verbose=0,\n",
       "                           warm_start=False)"
      ]
     },
     "execution_count": 64,
     "metadata": {},
     "output_type": "execute_result"
    }
   ],
   "source": [
    "%%time\n",
    "\n",
    "model_gb = GradientBoostingClassifier(random_state=100,n_estimators=100)\n",
    "model_gb.fit(x_train,y_train)"
   ]
  },
  {
   "cell_type": "code",
   "execution_count": 65,
   "metadata": {
    "scrolled": true
   },
   "outputs": [
    {
     "name": "stdout",
     "output_type": "stream",
     "text": [
      "Wall time: 27min 36s\n"
     ]
    },
    {
     "data": {
      "text/html": [
       "<div>\n",
       "<style scoped>\n",
       "    .dataframe tbody tr th:only-of-type {\n",
       "        vertical-align: middle;\n",
       "    }\n",
       "\n",
       "    .dataframe tbody tr th {\n",
       "        vertical-align: top;\n",
       "    }\n",
       "\n",
       "    .dataframe thead th {\n",
       "        text-align: right;\n",
       "    }\n",
       "</style>\n",
       "<table border=\"1\" class=\"dataframe\">\n",
       "  <thead>\n",
       "    <tr style=\"text-align: right;\">\n",
       "      <th></th>\n",
       "      <th>Model</th>\n",
       "      <th>Train score</th>\n",
       "      <th>Validation score</th>\n",
       "      <th>roc_auc_Score</th>\n",
       "    </tr>\n",
       "  </thead>\n",
       "  <tbody>\n",
       "    <tr>\n",
       "      <th>0</th>\n",
       "      <td>Baseline model -logistic</td>\n",
       "      <td>0.837249</td>\n",
       "      <td>0.837600</td>\n",
       "      <td>0.868596</td>\n",
       "    </tr>\n",
       "    <tr>\n",
       "      <th>0</th>\n",
       "      <td>Baseline model -Decision Tree</td>\n",
       "      <td>0.770124</td>\n",
       "      <td>0.765480</td>\n",
       "      <td>0.709744</td>\n",
       "    </tr>\n",
       "    <tr>\n",
       "      <th>0</th>\n",
       "      <td>Decision Tree-Hypertuned</td>\n",
       "      <td>0.804164</td>\n",
       "      <td>0.804227</td>\n",
       "      <td>0.764445</td>\n",
       "    </tr>\n",
       "    <tr>\n",
       "      <th>0</th>\n",
       "      <td>Bagging</td>\n",
       "      <td>0.837307</td>\n",
       "      <td>0.837693</td>\n",
       "      <td>0.868592</td>\n",
       "    </tr>\n",
       "    <tr>\n",
       "      <th>0</th>\n",
       "      <td>AdaBoost</td>\n",
       "      <td>0.827733</td>\n",
       "      <td>0.828427</td>\n",
       "      <td>0.852773</td>\n",
       "    </tr>\n",
       "    <tr>\n",
       "      <th>0</th>\n",
       "      <td>Random Forest</td>\n",
       "      <td>0.846018</td>\n",
       "      <td>0.844227</td>\n",
       "      <td>0.882456</td>\n",
       "    </tr>\n",
       "    <tr>\n",
       "      <th>0</th>\n",
       "      <td>Gradient Boosting</td>\n",
       "      <td>0.842556</td>\n",
       "      <td>0.843080</td>\n",
       "      <td>0.879835</td>\n",
       "    </tr>\n",
       "  </tbody>\n",
       "</table>\n",
       "</div>"
      ],
      "text/plain": [
       "                           Model  Train score  Validation score  roc_auc_Score\n",
       "0       Baseline model -logistic     0.837249          0.837600       0.868596\n",
       "0  Baseline model -Decision Tree     0.770124          0.765480       0.709744\n",
       "0       Decision Tree-Hypertuned     0.804164          0.804227       0.764445\n",
       "0                        Bagging     0.837307          0.837693       0.868592\n",
       "0                       AdaBoost     0.827733          0.828427       0.852773\n",
       "0                  Random Forest     0.846018          0.844227       0.882456\n",
       "0              Gradient Boosting     0.842556          0.843080       0.879835"
      ]
     },
     "execution_count": 65,
     "metadata": {},
     "output_type": "execute_result"
    }
   ],
   "source": [
    "%%time\n",
    "\n",
    "Model_perf = model_scoring(model_gb,'Gradient Boosting',x_train,y_train,x_val,y_val,Model_perf)\n",
    "#Model_perf,model_bag = model_building(clf,param_grid,x_train,y_train,x_val,y_val,'Bagging',Model_perf)\n",
    "\n",
    "make_prediction(model_gb,xtest,xtest_id,'GB')\n",
    "\n",
    "Model_perf"
   ]
  },
  {
   "cell_type": "code",
   "execution_count": 66,
   "metadata": {},
   "outputs": [],
   "source": [
    "from xgboost import XGBClassifier,XGBRFClassifier\n",
    "from lightgbm import LGBMClassifier\n",
    "from catboost import CatBoostClassifier"
   ]
  },
  {
   "cell_type": "markdown",
   "metadata": {},
   "source": [
    "##### Model - XGBOOST Classification(All Features)"
   ]
  },
  {
   "cell_type": "code",
   "execution_count": 67,
   "metadata": {},
   "outputs": [
    {
     "name": "stdout",
     "output_type": "stream",
     "text": [
      "Wall time: 1min\n"
     ]
    },
    {
     "data": {
      "text/plain": [
       "XGBClassifier(base_score=0.5, booster='gbtree', colsample_bylevel=1,\n",
       "              colsample_bynode=1, colsample_bytree=1, gamma=0,\n",
       "              learning_rate=0.1, max_delta_step=0, max_depth=3,\n",
       "              min_child_weight=1, missing=None, n_estimators=100, n_jobs=1,\n",
       "              nthread=None, objective='binary:logistic', random_state=100,\n",
       "              reg_alpha=0, reg_lambda=1, scale_pos_weight=1, seed=None,\n",
       "              silent=None, subsample=1, verbosity=1)"
      ]
     },
     "execution_count": 67,
     "metadata": {},
     "output_type": "execute_result"
    }
   ],
   "source": [
    "%%time\n",
    "\n",
    "model_xgb = XGBClassifier(random_state=100,n_estimators=100)\n",
    "model_xgb.fit(x_train,y_train)"
   ]
  },
  {
   "cell_type": "code",
   "execution_count": 68,
   "metadata": {
    "scrolled": true
   },
   "outputs": [
    {
     "name": "stdout",
     "output_type": "stream",
     "text": [
      "Wall time: 5min 18s\n"
     ]
    },
    {
     "data": {
      "text/html": [
       "<div>\n",
       "<style scoped>\n",
       "    .dataframe tbody tr th:only-of-type {\n",
       "        vertical-align: middle;\n",
       "    }\n",
       "\n",
       "    .dataframe tbody tr th {\n",
       "        vertical-align: top;\n",
       "    }\n",
       "\n",
       "    .dataframe thead th {\n",
       "        text-align: right;\n",
       "    }\n",
       "</style>\n",
       "<table border=\"1\" class=\"dataframe\">\n",
       "  <thead>\n",
       "    <tr style=\"text-align: right;\">\n",
       "      <th></th>\n",
       "      <th>Model</th>\n",
       "      <th>Train score</th>\n",
       "      <th>Validation score</th>\n",
       "      <th>roc_auc_Score</th>\n",
       "    </tr>\n",
       "  </thead>\n",
       "  <tbody>\n",
       "    <tr>\n",
       "      <th>0</th>\n",
       "      <td>Baseline model -logistic</td>\n",
       "      <td>0.837249</td>\n",
       "      <td>0.837600</td>\n",
       "      <td>0.868596</td>\n",
       "    </tr>\n",
       "    <tr>\n",
       "      <th>0</th>\n",
       "      <td>Baseline model -Decision Tree</td>\n",
       "      <td>0.770124</td>\n",
       "      <td>0.765480</td>\n",
       "      <td>0.709744</td>\n",
       "    </tr>\n",
       "    <tr>\n",
       "      <th>0</th>\n",
       "      <td>Decision Tree-Hypertuned</td>\n",
       "      <td>0.804164</td>\n",
       "      <td>0.804227</td>\n",
       "      <td>0.764445</td>\n",
       "    </tr>\n",
       "    <tr>\n",
       "      <th>0</th>\n",
       "      <td>Bagging</td>\n",
       "      <td>0.837307</td>\n",
       "      <td>0.837693</td>\n",
       "      <td>0.868592</td>\n",
       "    </tr>\n",
       "    <tr>\n",
       "      <th>0</th>\n",
       "      <td>AdaBoost</td>\n",
       "      <td>0.827733</td>\n",
       "      <td>0.828427</td>\n",
       "      <td>0.852773</td>\n",
       "    </tr>\n",
       "    <tr>\n",
       "      <th>0</th>\n",
       "      <td>Random Forest</td>\n",
       "      <td>0.846018</td>\n",
       "      <td>0.844227</td>\n",
       "      <td>0.882456</td>\n",
       "    </tr>\n",
       "    <tr>\n",
       "      <th>0</th>\n",
       "      <td>Gradient Boosting</td>\n",
       "      <td>0.842556</td>\n",
       "      <td>0.843080</td>\n",
       "      <td>0.879835</td>\n",
       "    </tr>\n",
       "    <tr>\n",
       "      <th>0</th>\n",
       "      <td>XGBoost</td>\n",
       "      <td>0.842120</td>\n",
       "      <td>0.842853</td>\n",
       "      <td>0.879721</td>\n",
       "    </tr>\n",
       "  </tbody>\n",
       "</table>\n",
       "</div>"
      ],
      "text/plain": [
       "                           Model  Train score  Validation score  roc_auc_Score\n",
       "0       Baseline model -logistic     0.837249          0.837600       0.868596\n",
       "0  Baseline model -Decision Tree     0.770124          0.765480       0.709744\n",
       "0       Decision Tree-Hypertuned     0.804164          0.804227       0.764445\n",
       "0                        Bagging     0.837307          0.837693       0.868592\n",
       "0                       AdaBoost     0.827733          0.828427       0.852773\n",
       "0                  Random Forest     0.846018          0.844227       0.882456\n",
       "0              Gradient Boosting     0.842556          0.843080       0.879835\n",
       "0                        XGBoost     0.842120          0.842853       0.879721"
      ]
     },
     "execution_count": 68,
     "metadata": {},
     "output_type": "execute_result"
    }
   ],
   "source": [
    "%%time\n",
    "\n",
    "Model_perf = model_scoring(model_xgb,'XGBoost',x_train,y_train,x_val,y_val,Model_perf)\n",
    "#Model_perf,model_bag = model_building(clf,param_grid,x_train,y_train,x_val,y_val,'Bagging',Model_perf)\n",
    "\n",
    "make_prediction(model_xgb,xtest,xtest_id,'XGB')\n",
    "\n",
    "Model_perf"
   ]
  },
  {
   "cell_type": "markdown",
   "metadata": {},
   "source": [
    "##### Model - XGBoost Random Forest (All Features)"
   ]
  },
  {
   "cell_type": "code",
   "execution_count": 69,
   "metadata": {},
   "outputs": [
    {
     "name": "stdout",
     "output_type": "stream",
     "text": [
      "Wall time: 45.1 s\n"
     ]
    },
    {
     "data": {
      "text/plain": [
       "XGBRFClassifier(base_score=0.5, colsample_bylevel=1, colsample_bynode=0.8,\n",
       "                colsample_bytree=1, gamma=0, learning_rate=1, max_delta_step=0,\n",
       "                max_depth=3, min_child_weight=1, missing=None, n_estimators=100,\n",
       "                n_jobs=1, nthread=None, objective='binary:logistic',\n",
       "                random_state=100, reg_alpha=0, reg_lambda=1, scale_pos_weight=1,\n",
       "                seed=None, silent=None, subsample=0.8, verbosity=1)"
      ]
     },
     "execution_count": 69,
     "metadata": {},
     "output_type": "execute_result"
    }
   ],
   "source": [
    "%%time\n",
    "\n",
    "model_xgbrf = XGBRFClassifier(random_state=100,n_estimators=100)\n",
    "model_xgbrf.fit(x_train,y_train)"
   ]
  },
  {
   "cell_type": "code",
   "execution_count": 70,
   "metadata": {
    "scrolled": true
   },
   "outputs": [
    {
     "name": "stdout",
     "output_type": "stream",
     "text": [
      "Wall time: 4min\n"
     ]
    },
    {
     "data": {
      "text/html": [
       "<div>\n",
       "<style scoped>\n",
       "    .dataframe tbody tr th:only-of-type {\n",
       "        vertical-align: middle;\n",
       "    }\n",
       "\n",
       "    .dataframe tbody tr th {\n",
       "        vertical-align: top;\n",
       "    }\n",
       "\n",
       "    .dataframe thead th {\n",
       "        text-align: right;\n",
       "    }\n",
       "</style>\n",
       "<table border=\"1\" class=\"dataframe\">\n",
       "  <thead>\n",
       "    <tr style=\"text-align: right;\">\n",
       "      <th></th>\n",
       "      <th>Model</th>\n",
       "      <th>Train score</th>\n",
       "      <th>Validation score</th>\n",
       "      <th>roc_auc_Score</th>\n",
       "    </tr>\n",
       "  </thead>\n",
       "  <tbody>\n",
       "    <tr>\n",
       "      <th>0</th>\n",
       "      <td>Baseline model -logistic</td>\n",
       "      <td>0.837249</td>\n",
       "      <td>0.837600</td>\n",
       "      <td>0.868596</td>\n",
       "    </tr>\n",
       "    <tr>\n",
       "      <th>0</th>\n",
       "      <td>Baseline model -Decision Tree</td>\n",
       "      <td>0.770124</td>\n",
       "      <td>0.765480</td>\n",
       "      <td>0.709744</td>\n",
       "    </tr>\n",
       "    <tr>\n",
       "      <th>0</th>\n",
       "      <td>Decision Tree-Hypertuned</td>\n",
       "      <td>0.804164</td>\n",
       "      <td>0.804227</td>\n",
       "      <td>0.764445</td>\n",
       "    </tr>\n",
       "    <tr>\n",
       "      <th>0</th>\n",
       "      <td>Bagging</td>\n",
       "      <td>0.837307</td>\n",
       "      <td>0.837693</td>\n",
       "      <td>0.868592</td>\n",
       "    </tr>\n",
       "    <tr>\n",
       "      <th>0</th>\n",
       "      <td>AdaBoost</td>\n",
       "      <td>0.827733</td>\n",
       "      <td>0.828427</td>\n",
       "      <td>0.852773</td>\n",
       "    </tr>\n",
       "    <tr>\n",
       "      <th>0</th>\n",
       "      <td>Random Forest</td>\n",
       "      <td>0.846018</td>\n",
       "      <td>0.844227</td>\n",
       "      <td>0.882456</td>\n",
       "    </tr>\n",
       "    <tr>\n",
       "      <th>0</th>\n",
       "      <td>Gradient Boosting</td>\n",
       "      <td>0.842556</td>\n",
       "      <td>0.843080</td>\n",
       "      <td>0.879835</td>\n",
       "    </tr>\n",
       "    <tr>\n",
       "      <th>0</th>\n",
       "      <td>XGBoost</td>\n",
       "      <td>0.842120</td>\n",
       "      <td>0.842853</td>\n",
       "      <td>0.879721</td>\n",
       "    </tr>\n",
       "    <tr>\n",
       "      <th>0</th>\n",
       "      <td>XGBoost RF</td>\n",
       "      <td>0.824467</td>\n",
       "      <td>0.824240</td>\n",
       "      <td>0.851470</td>\n",
       "    </tr>\n",
       "  </tbody>\n",
       "</table>\n",
       "</div>"
      ],
      "text/plain": [
       "                           Model  Train score  Validation score  roc_auc_Score\n",
       "0       Baseline model -logistic     0.837249          0.837600       0.868596\n",
       "0  Baseline model -Decision Tree     0.770124          0.765480       0.709744\n",
       "0       Decision Tree-Hypertuned     0.804164          0.804227       0.764445\n",
       "0                        Bagging     0.837307          0.837693       0.868592\n",
       "0                       AdaBoost     0.827733          0.828427       0.852773\n",
       "0                  Random Forest     0.846018          0.844227       0.882456\n",
       "0              Gradient Boosting     0.842556          0.843080       0.879835\n",
       "0                        XGBoost     0.842120          0.842853       0.879721\n",
       "0                     XGBoost RF     0.824467          0.824240       0.851470"
      ]
     },
     "execution_count": 70,
     "metadata": {},
     "output_type": "execute_result"
    }
   ],
   "source": [
    "%%time\n",
    "\n",
    "Model_perf = model_scoring(model_xgbrf,' XGBoost RF',x_train,y_train,x_val,y_val,Model_perf)\n",
    "#Model_perf,model_bag = model_building(clf,param_grid,x_train,y_train,x_val,y_val,'Bagging',Model_perf)\n",
    "\n",
    "make_prediction(model_xgbrf,xtest,xtest_id,'XGBRF')\n",
    "\n",
    "Model_perf"
   ]
  },
  {
   "cell_type": "markdown",
   "metadata": {},
   "source": [
    "##### Model - LightGBM (All Features)"
   ]
  },
  {
   "cell_type": "code",
   "execution_count": 71,
   "metadata": {},
   "outputs": [
    {
     "name": "stdout",
     "output_type": "stream",
     "text": [
      "Wall time: 3.89 s\n"
     ]
    },
    {
     "data": {
      "text/plain": [
       "LGBMClassifier(boosting_type='gbdt', class_weight=None, colsample_bytree=1.0,\n",
       "               importance_type='split', learning_rate=0.1, max_depth=-1,\n",
       "               min_child_samples=20, min_child_weight=0.001, min_split_gain=0.0,\n",
       "               n_estimators=100, n_jobs=-1, num_leaves=31, objective=None,\n",
       "               random_state=100, reg_alpha=0.0, reg_lambda=0.0, silent=True,\n",
       "               subsample=1.0, subsample_for_bin=200000, subsample_freq=0)"
      ]
     },
     "execution_count": 71,
     "metadata": {},
     "output_type": "execute_result"
    }
   ],
   "source": [
    "%%time\n",
    "\n",
    "model_lgbm = LGBMClassifier(random_state=100,n_estimators=100)\n",
    "model_lgbm.fit(x_train,y_train)"
   ]
  },
  {
   "cell_type": "code",
   "execution_count": 72,
   "metadata": {
    "scrolled": true
   },
   "outputs": [
    {
     "name": "stdout",
     "output_type": "stream",
     "text": [
      "Wall time: 27 s\n"
     ]
    },
    {
     "data": {
      "text/html": [
       "<div>\n",
       "<style scoped>\n",
       "    .dataframe tbody tr th:only-of-type {\n",
       "        vertical-align: middle;\n",
       "    }\n",
       "\n",
       "    .dataframe tbody tr th {\n",
       "        vertical-align: top;\n",
       "    }\n",
       "\n",
       "    .dataframe thead th {\n",
       "        text-align: right;\n",
       "    }\n",
       "</style>\n",
       "<table border=\"1\" class=\"dataframe\">\n",
       "  <thead>\n",
       "    <tr style=\"text-align: right;\">\n",
       "      <th></th>\n",
       "      <th>Model</th>\n",
       "      <th>Train score</th>\n",
       "      <th>Validation score</th>\n",
       "      <th>roc_auc_Score</th>\n",
       "    </tr>\n",
       "  </thead>\n",
       "  <tbody>\n",
       "    <tr>\n",
       "      <th>0</th>\n",
       "      <td>Baseline model -logistic</td>\n",
       "      <td>0.837249</td>\n",
       "      <td>0.837600</td>\n",
       "      <td>0.868596</td>\n",
       "    </tr>\n",
       "    <tr>\n",
       "      <th>0</th>\n",
       "      <td>Baseline model -Decision Tree</td>\n",
       "      <td>0.770124</td>\n",
       "      <td>0.765480</td>\n",
       "      <td>0.709744</td>\n",
       "    </tr>\n",
       "    <tr>\n",
       "      <th>0</th>\n",
       "      <td>Decision Tree-Hypertuned</td>\n",
       "      <td>0.804164</td>\n",
       "      <td>0.804227</td>\n",
       "      <td>0.764445</td>\n",
       "    </tr>\n",
       "    <tr>\n",
       "      <th>0</th>\n",
       "      <td>Bagging</td>\n",
       "      <td>0.837307</td>\n",
       "      <td>0.837693</td>\n",
       "      <td>0.868592</td>\n",
       "    </tr>\n",
       "    <tr>\n",
       "      <th>0</th>\n",
       "      <td>AdaBoost</td>\n",
       "      <td>0.827733</td>\n",
       "      <td>0.828427</td>\n",
       "      <td>0.852773</td>\n",
       "    </tr>\n",
       "    <tr>\n",
       "      <th>0</th>\n",
       "      <td>Random Forest</td>\n",
       "      <td>0.846018</td>\n",
       "      <td>0.844227</td>\n",
       "      <td>0.882456</td>\n",
       "    </tr>\n",
       "    <tr>\n",
       "      <th>0</th>\n",
       "      <td>Gradient Boosting</td>\n",
       "      <td>0.842556</td>\n",
       "      <td>0.843080</td>\n",
       "      <td>0.879835</td>\n",
       "    </tr>\n",
       "    <tr>\n",
       "      <th>0</th>\n",
       "      <td>XGBoost</td>\n",
       "      <td>0.842120</td>\n",
       "      <td>0.842853</td>\n",
       "      <td>0.879721</td>\n",
       "    </tr>\n",
       "    <tr>\n",
       "      <th>0</th>\n",
       "      <td>XGBoost RF</td>\n",
       "      <td>0.824467</td>\n",
       "      <td>0.824240</td>\n",
       "      <td>0.851470</td>\n",
       "    </tr>\n",
       "    <tr>\n",
       "      <th>0</th>\n",
       "      <td>LightGBM</td>\n",
       "      <td>0.847378</td>\n",
       "      <td>0.845520</td>\n",
       "      <td>0.887417</td>\n",
       "    </tr>\n",
       "  </tbody>\n",
       "</table>\n",
       "</div>"
      ],
      "text/plain": [
       "                           Model  Train score  Validation score  roc_auc_Score\n",
       "0       Baseline model -logistic     0.837249          0.837600       0.868596\n",
       "0  Baseline model -Decision Tree     0.770124          0.765480       0.709744\n",
       "0       Decision Tree-Hypertuned     0.804164          0.804227       0.764445\n",
       "0                        Bagging     0.837307          0.837693       0.868592\n",
       "0                       AdaBoost     0.827733          0.828427       0.852773\n",
       "0                  Random Forest     0.846018          0.844227       0.882456\n",
       "0              Gradient Boosting     0.842556          0.843080       0.879835\n",
       "0                        XGBoost     0.842120          0.842853       0.879721\n",
       "0                     XGBoost RF     0.824467          0.824240       0.851470\n",
       "0                       LightGBM     0.847378          0.845520       0.887417"
      ]
     },
     "execution_count": 72,
     "metadata": {},
     "output_type": "execute_result"
    }
   ],
   "source": [
    "%%time\n",
    "\n",
    "Model_perf = model_scoring(model_lgbm,' LightGBM',x_train,y_train,x_val,y_val,Model_perf)\n",
    "#Model_perf,model_bag = model_building(clf,param_grid,x_train,y_train,x_val,y_val,'Bagging',Model_perf)\n",
    "\n",
    "make_prediction(model_lgbm,xtest,xtest_id,'LGBM')\n",
    "\n",
    "Model_perf"
   ]
  },
  {
   "cell_type": "markdown",
   "metadata": {},
   "source": [
    "##### Model - CatBoost (All Features)"
   ]
  },
  {
   "cell_type": "code",
   "execution_count": 73,
   "metadata": {
    "scrolled": true
   },
   "outputs": [
    {
     "name": "stdout",
     "output_type": "stream",
     "text": [
      "Learning rate set to 0.5\n",
      "0:\tlearn: 0.4576093\ttotal: 283ms\tremaining: 28s\n",
      "1:\tlearn: 0.3992891\ttotal: 389ms\tremaining: 19s\n",
      "2:\tlearn: 0.3850650\ttotal: 479ms\tremaining: 15.5s\n",
      "3:\tlearn: 0.3770816\ttotal: 577ms\tremaining: 13.9s\n",
      "4:\tlearn: 0.3740523\ttotal: 661ms\tremaining: 12.6s\n",
      "5:\tlearn: 0.3712002\ttotal: 739ms\tremaining: 11.6s\n",
      "6:\tlearn: 0.3687497\ttotal: 827ms\tremaining: 11s\n",
      "7:\tlearn: 0.3676570\ttotal: 919ms\tremaining: 10.6s\n",
      "8:\tlearn: 0.3665983\ttotal: 999ms\tremaining: 10.1s\n",
      "9:\tlearn: 0.3658084\ttotal: 1.08s\tremaining: 9.7s\n",
      "10:\tlearn: 0.3650151\ttotal: 1.16s\tremaining: 9.42s\n",
      "11:\tlearn: 0.3641213\ttotal: 1.24s\tremaining: 9.11s\n",
      "12:\tlearn: 0.3636221\ttotal: 1.32s\tremaining: 8.83s\n",
      "13:\tlearn: 0.3626551\ttotal: 1.41s\tremaining: 8.64s\n",
      "14:\tlearn: 0.3616017\ttotal: 1.5s\tremaining: 8.47s\n",
      "15:\tlearn: 0.3610082\ttotal: 1.58s\tremaining: 8.29s\n",
      "16:\tlearn: 0.3603407\ttotal: 1.66s\tremaining: 8.12s\n",
      "17:\tlearn: 0.3597664\ttotal: 1.75s\tremaining: 7.96s\n",
      "18:\tlearn: 0.3592572\ttotal: 1.84s\tremaining: 7.87s\n",
      "19:\tlearn: 0.3589285\ttotal: 1.93s\tremaining: 7.71s\n",
      "20:\tlearn: 0.3583278\ttotal: 2.02s\tremaining: 7.58s\n",
      "21:\tlearn: 0.3577747\ttotal: 2.1s\tremaining: 7.45s\n",
      "22:\tlearn: 0.3572820\ttotal: 2.19s\tremaining: 7.32s\n",
      "23:\tlearn: 0.3566978\ttotal: 2.26s\tremaining: 7.16s\n",
      "24:\tlearn: 0.3562968\ttotal: 2.35s\tremaining: 7.04s\n",
      "25:\tlearn: 0.3555370\ttotal: 2.44s\tremaining: 6.96s\n",
      "26:\tlearn: 0.3549788\ttotal: 2.53s\tremaining: 6.85s\n",
      "27:\tlearn: 0.3546153\ttotal: 2.61s\tremaining: 6.72s\n",
      "28:\tlearn: 0.3539505\ttotal: 2.69s\tremaining: 6.59s\n",
      "29:\tlearn: 0.3535410\ttotal: 2.79s\tremaining: 6.5s\n",
      "30:\tlearn: 0.3531641\ttotal: 2.88s\tremaining: 6.4s\n",
      "31:\tlearn: 0.3527256\ttotal: 2.97s\tremaining: 6.31s\n",
      "32:\tlearn: 0.3521650\ttotal: 3.05s\tremaining: 6.19s\n",
      "33:\tlearn: 0.3516672\ttotal: 3.14s\tremaining: 6.09s\n",
      "34:\tlearn: 0.3513055\ttotal: 3.23s\tremaining: 5.99s\n",
      "35:\tlearn: 0.3510512\ttotal: 3.31s\tremaining: 5.88s\n",
      "36:\tlearn: 0.3508057\ttotal: 3.38s\tremaining: 5.75s\n",
      "37:\tlearn: 0.3504119\ttotal: 3.46s\tremaining: 5.65s\n",
      "38:\tlearn: 0.3500600\ttotal: 3.55s\tremaining: 5.56s\n",
      "39:\tlearn: 0.3497914\ttotal: 3.63s\tremaining: 5.45s\n",
      "40:\tlearn: 0.3494947\ttotal: 3.73s\tremaining: 5.36s\n",
      "41:\tlearn: 0.3491698\ttotal: 3.81s\tremaining: 5.27s\n",
      "42:\tlearn: 0.3487830\ttotal: 3.9s\tremaining: 5.18s\n",
      "43:\tlearn: 0.3484715\ttotal: 3.99s\tremaining: 5.08s\n",
      "44:\tlearn: 0.3481308\ttotal: 4.08s\tremaining: 4.99s\n",
      "45:\tlearn: 0.3477383\ttotal: 4.16s\tremaining: 4.89s\n",
      "46:\tlearn: 0.3475038\ttotal: 4.24s\tremaining: 4.78s\n",
      "47:\tlearn: 0.3472059\ttotal: 4.32s\tremaining: 4.68s\n",
      "48:\tlearn: 0.3469042\ttotal: 4.41s\tremaining: 4.59s\n",
      "49:\tlearn: 0.3465005\ttotal: 4.5s\tremaining: 4.5s\n",
      "50:\tlearn: 0.3461908\ttotal: 4.58s\tremaining: 4.4s\n",
      "51:\tlearn: 0.3458647\ttotal: 4.66s\tremaining: 4.3s\n",
      "52:\tlearn: 0.3456537\ttotal: 4.75s\tremaining: 4.21s\n",
      "53:\tlearn: 0.3454646\ttotal: 4.83s\tremaining: 4.12s\n",
      "54:\tlearn: 0.3452009\ttotal: 4.92s\tremaining: 4.03s\n",
      "55:\tlearn: 0.3449224\ttotal: 5.01s\tremaining: 3.94s\n",
      "56:\tlearn: 0.3447445\ttotal: 5.09s\tremaining: 3.84s\n",
      "57:\tlearn: 0.3444756\ttotal: 5.17s\tremaining: 3.75s\n",
      "58:\tlearn: 0.3441792\ttotal: 5.26s\tremaining: 3.66s\n",
      "59:\tlearn: 0.3439090\ttotal: 5.35s\tremaining: 3.57s\n",
      "60:\tlearn: 0.3436017\ttotal: 5.44s\tremaining: 3.48s\n",
      "61:\tlearn: 0.3433146\ttotal: 5.53s\tremaining: 3.39s\n",
      "62:\tlearn: 0.3430491\ttotal: 5.61s\tremaining: 3.3s\n",
      "63:\tlearn: 0.3428409\ttotal: 5.7s\tremaining: 3.21s\n",
      "64:\tlearn: 0.3425925\ttotal: 5.78s\tremaining: 3.11s\n",
      "65:\tlearn: 0.3423270\ttotal: 5.87s\tremaining: 3.03s\n",
      "66:\tlearn: 0.3420459\ttotal: 5.97s\tremaining: 2.94s\n",
      "67:\tlearn: 0.3418630\ttotal: 6.05s\tremaining: 2.85s\n",
      "68:\tlearn: 0.3416187\ttotal: 6.13s\tremaining: 2.75s\n",
      "69:\tlearn: 0.3413834\ttotal: 6.22s\tremaining: 2.67s\n",
      "70:\tlearn: 0.3411781\ttotal: 6.3s\tremaining: 2.57s\n",
      "71:\tlearn: 0.3409969\ttotal: 6.4s\tremaining: 2.49s\n",
      "72:\tlearn: 0.3407713\ttotal: 6.48s\tremaining: 2.4s\n",
      "73:\tlearn: 0.3405238\ttotal: 6.57s\tremaining: 2.31s\n",
      "74:\tlearn: 0.3402427\ttotal: 6.66s\tremaining: 2.22s\n",
      "75:\tlearn: 0.3400525\ttotal: 6.75s\tremaining: 2.13s\n",
      "76:\tlearn: 0.3397896\ttotal: 6.83s\tremaining: 2.04s\n",
      "77:\tlearn: 0.3396235\ttotal: 6.93s\tremaining: 1.95s\n",
      "78:\tlearn: 0.3393470\ttotal: 7.02s\tremaining: 1.86s\n",
      "79:\tlearn: 0.3390685\ttotal: 7.1s\tremaining: 1.78s\n",
      "80:\tlearn: 0.3388136\ttotal: 7.19s\tremaining: 1.69s\n",
      "81:\tlearn: 0.3386166\ttotal: 7.28s\tremaining: 1.6s\n",
      "82:\tlearn: 0.3384664\ttotal: 7.36s\tremaining: 1.51s\n",
      "83:\tlearn: 0.3383584\ttotal: 7.44s\tremaining: 1.42s\n",
      "84:\tlearn: 0.3381219\ttotal: 7.53s\tremaining: 1.33s\n",
      "85:\tlearn: 0.3379427\ttotal: 7.62s\tremaining: 1.24s\n",
      "86:\tlearn: 0.3377170\ttotal: 7.71s\tremaining: 1.15s\n",
      "87:\tlearn: 0.3374978\ttotal: 7.8s\tremaining: 1.06s\n",
      "88:\tlearn: 0.3372367\ttotal: 7.89s\tremaining: 975ms\n",
      "89:\tlearn: 0.3370118\ttotal: 7.99s\tremaining: 887ms\n",
      "90:\tlearn: 0.3368702\ttotal: 8.07s\tremaining: 798ms\n",
      "91:\tlearn: 0.3366295\ttotal: 8.16s\tremaining: 709ms\n",
      "92:\tlearn: 0.3364338\ttotal: 8.24s\tremaining: 620ms\n",
      "93:\tlearn: 0.3362598\ttotal: 8.34s\tremaining: 532ms\n",
      "94:\tlearn: 0.3360930\ttotal: 8.42s\tremaining: 443ms\n",
      "95:\tlearn: 0.3358916\ttotal: 8.52s\tremaining: 355ms\n",
      "96:\tlearn: 0.3356411\ttotal: 8.61s\tremaining: 266ms\n",
      "97:\tlearn: 0.3355233\ttotal: 8.69s\tremaining: 177ms\n",
      "98:\tlearn: 0.3353635\ttotal: 8.78s\tremaining: 88.7ms\n",
      "99:\tlearn: 0.3351767\ttotal: 8.87s\tremaining: 0us\n",
      "Wall time: 9.78 s\n"
     ]
    },
    {
     "data": {
      "text/plain": [
       "<catboost.core.CatBoostClassifier at 0x13c9bb80ac8>"
      ]
     },
     "execution_count": 73,
     "metadata": {},
     "output_type": "execute_result"
    }
   ],
   "source": [
    "%%time\n",
    "\n",
    "model_cb = CatBoostClassifier(random_state=100,n_estimators=100)\n",
    "model_cb.fit(x_train,y_train)"
   ]
  },
  {
   "cell_type": "code",
   "execution_count": 74,
   "metadata": {
    "scrolled": true
   },
   "outputs": [
    {
     "name": "stdout",
     "output_type": "stream",
     "text": [
      "Learning rate set to 0.5\n",
      "0:\tlearn: 0.4614319\ttotal: 84ms\tremaining: 8.32s\n",
      "1:\tlearn: 0.4017176\ttotal: 175ms\tremaining: 8.6s\n",
      "2:\tlearn: 0.3844159\ttotal: 276ms\tremaining: 8.92s\n",
      "3:\tlearn: 0.3771044\ttotal: 371ms\tremaining: 8.91s\n",
      "4:\tlearn: 0.3738001\ttotal: 463ms\tremaining: 8.8s\n",
      "5:\tlearn: 0.3715032\ttotal: 555ms\tremaining: 8.7s\n",
      "6:\tlearn: 0.3694873\ttotal: 635ms\tremaining: 8.44s\n",
      "7:\tlearn: 0.3681510\ttotal: 728ms\tremaining: 8.38s\n",
      "8:\tlearn: 0.3668464\ttotal: 820ms\tremaining: 8.29s\n",
      "9:\tlearn: 0.3657901\ttotal: 894ms\tremaining: 8.05s\n",
      "10:\tlearn: 0.3649554\ttotal: 986ms\tremaining: 7.98s\n",
      "11:\tlearn: 0.3640327\ttotal: 1.07s\tremaining: 7.85s\n",
      "12:\tlearn: 0.3631547\ttotal: 1.16s\tremaining: 7.74s\n",
      "13:\tlearn: 0.3623347\ttotal: 1.24s\tremaining: 7.6s\n",
      "14:\tlearn: 0.3614286\ttotal: 1.33s\tremaining: 7.54s\n",
      "15:\tlearn: 0.3606844\ttotal: 1.41s\tremaining: 7.41s\n",
      "16:\tlearn: 0.3601226\ttotal: 1.49s\tremaining: 7.27s\n",
      "17:\tlearn: 0.3597542\ttotal: 1.57s\tremaining: 7.17s\n",
      "18:\tlearn: 0.3593909\ttotal: 1.65s\tremaining: 7.05s\n",
      "19:\tlearn: 0.3589671\ttotal: 1.74s\tremaining: 6.98s\n",
      "20:\tlearn: 0.3583125\ttotal: 1.83s\tremaining: 6.88s\n",
      "21:\tlearn: 0.3575711\ttotal: 1.91s\tremaining: 6.77s\n",
      "22:\tlearn: 0.3572023\ttotal: 1.98s\tremaining: 6.64s\n",
      "23:\tlearn: 0.3565784\ttotal: 2.06s\tremaining: 6.53s\n",
      "24:\tlearn: 0.3559244\ttotal: 2.14s\tremaining: 6.41s\n",
      "25:\tlearn: 0.3553900\ttotal: 2.22s\tremaining: 6.31s\n",
      "26:\tlearn: 0.3549625\ttotal: 2.29s\tremaining: 6.2s\n",
      "27:\tlearn: 0.3544293\ttotal: 2.37s\tremaining: 6.1s\n",
      "28:\tlearn: 0.3540009\ttotal: 2.45s\tremaining: 6s\n",
      "29:\tlearn: 0.3534625\ttotal: 2.52s\tremaining: 5.89s\n",
      "30:\tlearn: 0.3529095\ttotal: 2.6s\tremaining: 5.78s\n",
      "31:\tlearn: 0.3523443\ttotal: 2.67s\tremaining: 5.67s\n",
      "32:\tlearn: 0.3519556\ttotal: 2.74s\tremaining: 5.56s\n",
      "33:\tlearn: 0.3514955\ttotal: 2.81s\tremaining: 5.46s\n",
      "34:\tlearn: 0.3511767\ttotal: 2.9s\tremaining: 5.38s\n",
      "35:\tlearn: 0.3507808\ttotal: 2.97s\tremaining: 5.29s\n",
      "36:\tlearn: 0.3503707\ttotal: 3.04s\tremaining: 5.19s\n",
      "37:\tlearn: 0.3500715\ttotal: 3.12s\tremaining: 5.09s\n",
      "38:\tlearn: 0.3496955\ttotal: 3.19s\tremaining: 4.99s\n",
      "39:\tlearn: 0.3493820\ttotal: 3.27s\tremaining: 4.9s\n",
      "40:\tlearn: 0.3490557\ttotal: 3.35s\tremaining: 4.81s\n",
      "41:\tlearn: 0.3487539\ttotal: 3.42s\tremaining: 4.72s\n",
      "42:\tlearn: 0.3483014\ttotal: 3.49s\tremaining: 4.63s\n",
      "43:\tlearn: 0.3480363\ttotal: 3.56s\tremaining: 4.54s\n",
      "44:\tlearn: 0.3476454\ttotal: 3.63s\tremaining: 4.44s\n",
      "45:\tlearn: 0.3472979\ttotal: 3.7s\tremaining: 4.35s\n",
      "46:\tlearn: 0.3469176\ttotal: 3.77s\tremaining: 4.25s\n",
      "47:\tlearn: 0.3466675\ttotal: 3.84s\tremaining: 4.17s\n",
      "48:\tlearn: 0.3464714\ttotal: 3.91s\tremaining: 4.07s\n",
      "49:\tlearn: 0.3462137\ttotal: 3.99s\tremaining: 3.99s\n",
      "50:\tlearn: 0.3459104\ttotal: 4.07s\tremaining: 3.9s\n",
      "51:\tlearn: 0.3455954\ttotal: 4.14s\tremaining: 3.82s\n",
      "52:\tlearn: 0.3451368\ttotal: 4.22s\tremaining: 3.74s\n",
      "53:\tlearn: 0.3448269\ttotal: 4.3s\tremaining: 3.66s\n",
      "54:\tlearn: 0.3445616\ttotal: 4.37s\tremaining: 3.58s\n",
      "55:\tlearn: 0.3443069\ttotal: 4.46s\tremaining: 3.5s\n",
      "56:\tlearn: 0.3440330\ttotal: 4.53s\tremaining: 3.42s\n",
      "57:\tlearn: 0.3437652\ttotal: 4.6s\tremaining: 3.33s\n",
      "58:\tlearn: 0.3434339\ttotal: 4.68s\tremaining: 3.25s\n",
      "59:\tlearn: 0.3431567\ttotal: 4.76s\tremaining: 3.17s\n",
      "60:\tlearn: 0.3428805\ttotal: 4.84s\tremaining: 3.09s\n",
      "61:\tlearn: 0.3425868\ttotal: 4.92s\tremaining: 3.01s\n",
      "62:\tlearn: 0.3422263\ttotal: 4.99s\tremaining: 2.93s\n",
      "63:\tlearn: 0.3418555\ttotal: 5.07s\tremaining: 2.85s\n",
      "64:\tlearn: 0.3416436\ttotal: 5.14s\tremaining: 2.77s\n",
      "65:\tlearn: 0.3413687\ttotal: 5.22s\tremaining: 2.69s\n",
      "66:\tlearn: 0.3410729\ttotal: 5.3s\tremaining: 2.61s\n",
      "67:\tlearn: 0.3407731\ttotal: 5.38s\tremaining: 2.53s\n",
      "68:\tlearn: 0.3405191\ttotal: 5.45s\tremaining: 2.45s\n",
      "69:\tlearn: 0.3402190\ttotal: 5.52s\tremaining: 2.37s\n",
      "70:\tlearn: 0.3398841\ttotal: 5.6s\tremaining: 2.29s\n",
      "71:\tlearn: 0.3396493\ttotal: 5.67s\tremaining: 2.21s\n",
      "72:\tlearn: 0.3392984\ttotal: 5.77s\tremaining: 2.13s\n",
      "73:\tlearn: 0.3390219\ttotal: 5.86s\tremaining: 2.06s\n",
      "74:\tlearn: 0.3387444\ttotal: 5.94s\tremaining: 1.98s\n",
      "75:\tlearn: 0.3384733\ttotal: 6.01s\tremaining: 1.9s\n",
      "76:\tlearn: 0.3381647\ttotal: 6.09s\tremaining: 1.82s\n",
      "77:\tlearn: 0.3378797\ttotal: 6.17s\tremaining: 1.74s\n",
      "78:\tlearn: 0.3376599\ttotal: 6.24s\tremaining: 1.66s\n",
      "79:\tlearn: 0.3372420\ttotal: 6.33s\tremaining: 1.58s\n",
      "80:\tlearn: 0.3369848\ttotal: 6.4s\tremaining: 1.5s\n",
      "81:\tlearn: 0.3367431\ttotal: 6.47s\tremaining: 1.42s\n",
      "82:\tlearn: 0.3364123\ttotal: 6.55s\tremaining: 1.34s\n",
      "83:\tlearn: 0.3362029\ttotal: 6.62s\tremaining: 1.26s\n",
      "84:\tlearn: 0.3359804\ttotal: 6.7s\tremaining: 1.18s\n",
      "85:\tlearn: 0.3357415\ttotal: 6.78s\tremaining: 1.1s\n",
      "86:\tlearn: 0.3354875\ttotal: 6.86s\tremaining: 1.02s\n",
      "87:\tlearn: 0.3352931\ttotal: 6.94s\tremaining: 946ms\n",
      "88:\tlearn: 0.3351034\ttotal: 7s\tremaining: 865ms\n",
      "89:\tlearn: 0.3349004\ttotal: 7.08s\tremaining: 787ms\n",
      "90:\tlearn: 0.3346059\ttotal: 7.17s\tremaining: 709ms\n",
      "91:\tlearn: 0.3343821\ttotal: 7.25s\tremaining: 630ms\n",
      "92:\tlearn: 0.3341502\ttotal: 7.32s\tremaining: 551ms\n",
      "93:\tlearn: 0.3339045\ttotal: 7.39s\tremaining: 472ms\n",
      "94:\tlearn: 0.3336610\ttotal: 7.47s\tremaining: 393ms\n",
      "95:\tlearn: 0.3334338\ttotal: 7.55s\tremaining: 314ms\n",
      "96:\tlearn: 0.3331875\ttotal: 7.62s\tremaining: 236ms\n",
      "97:\tlearn: 0.3330264\ttotal: 7.69s\tremaining: 157ms\n",
      "98:\tlearn: 0.3327926\ttotal: 7.76s\tremaining: 78.4ms\n",
      "99:\tlearn: 0.3325562\ttotal: 7.84s\tremaining: 0us\n",
      "Learning rate set to 0.5\n",
      "0:\tlearn: 0.4610338\ttotal: 90.2ms\tremaining: 8.93s\n",
      "1:\tlearn: 0.4016460\ttotal: 182ms\tremaining: 8.91s\n",
      "2:\tlearn: 0.3843723\ttotal: 263ms\tremaining: 8.5s\n",
      "3:\tlearn: 0.3776503\ttotal: 339ms\tremaining: 8.15s\n",
      "4:\tlearn: 0.3739755\ttotal: 418ms\tremaining: 7.95s\n",
      "5:\tlearn: 0.3708889\ttotal: 490ms\tremaining: 7.68s\n",
      "6:\tlearn: 0.3691580\ttotal: 573ms\tremaining: 7.62s\n",
      "7:\tlearn: 0.3680247\ttotal: 654ms\tremaining: 7.52s\n",
      "8:\tlearn: 0.3669192\ttotal: 731ms\tremaining: 7.39s\n",
      "9:\tlearn: 0.3657485\ttotal: 810ms\tremaining: 7.29s\n",
      "10:\tlearn: 0.3648085\ttotal: 892ms\tremaining: 7.22s\n",
      "11:\tlearn: 0.3638050\ttotal: 965ms\tremaining: 7.08s\n",
      "12:\tlearn: 0.3629503\ttotal: 1.04s\tremaining: 6.99s\n",
      "13:\tlearn: 0.3620974\ttotal: 1.11s\tremaining: 6.85s\n",
      "14:\tlearn: 0.3617010\ttotal: 1.18s\tremaining: 6.71s\n",
      "15:\tlearn: 0.3607219\ttotal: 1.26s\tremaining: 6.63s\n",
      "16:\tlearn: 0.3601626\ttotal: 1.34s\tremaining: 6.53s\n",
      "17:\tlearn: 0.3596009\ttotal: 1.41s\tremaining: 6.44s\n",
      "18:\tlearn: 0.3589459\ttotal: 1.49s\tremaining: 6.34s\n",
      "19:\tlearn: 0.3582805\ttotal: 1.57s\tremaining: 6.28s\n",
      "20:\tlearn: 0.3578748\ttotal: 1.64s\tremaining: 6.18s\n",
      "21:\tlearn: 0.3574825\ttotal: 1.72s\tremaining: 6.11s\n",
      "22:\tlearn: 0.3569737\ttotal: 1.8s\tremaining: 6.04s\n",
      "23:\tlearn: 0.3564997\ttotal: 1.88s\tremaining: 5.96s\n",
      "24:\tlearn: 0.3558887\ttotal: 1.96s\tremaining: 5.88s\n",
      "25:\tlearn: 0.3551875\ttotal: 2.03s\tremaining: 5.78s\n",
      "26:\tlearn: 0.3545795\ttotal: 2.1s\tremaining: 5.69s\n",
      "27:\tlearn: 0.3540869\ttotal: 2.18s\tremaining: 5.61s\n",
      "28:\tlearn: 0.3534394\ttotal: 2.26s\tremaining: 5.54s\n",
      "29:\tlearn: 0.3530375\ttotal: 2.34s\tremaining: 5.46s\n",
      "30:\tlearn: 0.3525624\ttotal: 2.41s\tremaining: 5.36s\n",
      "31:\tlearn: 0.3521727\ttotal: 2.49s\tremaining: 5.28s\n",
      "32:\tlearn: 0.3517888\ttotal: 2.56s\tremaining: 5.21s\n",
      "33:\tlearn: 0.3514881\ttotal: 2.64s\tremaining: 5.13s\n",
      "34:\tlearn: 0.3510113\ttotal: 2.72s\tremaining: 5.05s\n",
      "35:\tlearn: 0.3505368\ttotal: 2.79s\tremaining: 4.96s\n",
      "36:\tlearn: 0.3501138\ttotal: 2.86s\tremaining: 4.88s\n",
      "37:\tlearn: 0.3496566\ttotal: 2.93s\tremaining: 4.78s\n",
      "38:\tlearn: 0.3491914\ttotal: 3s\tremaining: 4.7s\n",
      "39:\tlearn: 0.3489271\ttotal: 3.07s\tremaining: 4.61s\n",
      "40:\tlearn: 0.3484869\ttotal: 3.15s\tremaining: 4.53s\n",
      "41:\tlearn: 0.3480377\ttotal: 3.22s\tremaining: 4.44s\n",
      "42:\tlearn: 0.3476304\ttotal: 3.29s\tremaining: 4.36s\n",
      "43:\tlearn: 0.3472941\ttotal: 3.36s\tremaining: 4.28s\n",
      "44:\tlearn: 0.3469309\ttotal: 3.43s\tremaining: 4.19s\n",
      "45:\tlearn: 0.3465969\ttotal: 3.51s\tremaining: 4.12s\n",
      "46:\tlearn: 0.3462013\ttotal: 3.59s\tremaining: 4.05s\n",
      "47:\tlearn: 0.3458009\ttotal: 3.67s\tremaining: 3.98s\n",
      "48:\tlearn: 0.3455506\ttotal: 3.75s\tremaining: 3.9s\n",
      "49:\tlearn: 0.3452867\ttotal: 3.82s\tremaining: 3.82s\n",
      "50:\tlearn: 0.3450794\ttotal: 3.9s\tremaining: 3.75s\n",
      "51:\tlearn: 0.3448790\ttotal: 3.98s\tremaining: 3.67s\n",
      "52:\tlearn: 0.3445026\ttotal: 4.06s\tremaining: 3.6s\n",
      "53:\tlearn: 0.3442571\ttotal: 4.13s\tremaining: 3.52s\n",
      "54:\tlearn: 0.3439187\ttotal: 4.23s\tremaining: 3.46s\n",
      "55:\tlearn: 0.3435708\ttotal: 4.31s\tremaining: 3.39s\n",
      "56:\tlearn: 0.3432600\ttotal: 4.39s\tremaining: 3.31s\n",
      "57:\tlearn: 0.3430069\ttotal: 4.46s\tremaining: 3.23s\n",
      "58:\tlearn: 0.3427262\ttotal: 4.54s\tremaining: 3.16s\n",
      "59:\tlearn: 0.3424928\ttotal: 4.62s\tremaining: 3.08s\n",
      "60:\tlearn: 0.3422196\ttotal: 4.69s\tremaining: 3s\n"
     ]
    },
    {
     "name": "stdout",
     "output_type": "stream",
     "text": [
      "61:\tlearn: 0.3419675\ttotal: 4.77s\tremaining: 2.92s\n",
      "62:\tlearn: 0.3416789\ttotal: 4.84s\tremaining: 2.84s\n",
      "63:\tlearn: 0.3413806\ttotal: 4.92s\tremaining: 2.77s\n",
      "64:\tlearn: 0.3410891\ttotal: 5s\tremaining: 2.69s\n",
      "65:\tlearn: 0.3407980\ttotal: 5.08s\tremaining: 2.62s\n",
      "66:\tlearn: 0.3405430\ttotal: 5.14s\tremaining: 2.53s\n",
      "67:\tlearn: 0.3403342\ttotal: 5.22s\tremaining: 2.46s\n",
      "68:\tlearn: 0.3400555\ttotal: 5.3s\tremaining: 2.38s\n",
      "69:\tlearn: 0.3397896\ttotal: 5.37s\tremaining: 2.3s\n",
      "70:\tlearn: 0.3396023\ttotal: 5.45s\tremaining: 2.23s\n",
      "71:\tlearn: 0.3392681\ttotal: 5.54s\tremaining: 2.15s\n",
      "72:\tlearn: 0.3390237\ttotal: 5.61s\tremaining: 2.08s\n",
      "73:\tlearn: 0.3387072\ttotal: 5.7s\tremaining: 2s\n",
      "74:\tlearn: 0.3383943\ttotal: 5.77s\tremaining: 1.92s\n",
      "75:\tlearn: 0.3381981\ttotal: 5.84s\tremaining: 1.84s\n",
      "76:\tlearn: 0.3379043\ttotal: 5.92s\tremaining: 1.77s\n",
      "77:\tlearn: 0.3376895\ttotal: 6s\tremaining: 1.69s\n",
      "78:\tlearn: 0.3373803\ttotal: 6.09s\tremaining: 1.62s\n",
      "79:\tlearn: 0.3369795\ttotal: 6.18s\tremaining: 1.54s\n",
      "80:\tlearn: 0.3366397\ttotal: 6.25s\tremaining: 1.47s\n",
      "81:\tlearn: 0.3364241\ttotal: 6.33s\tremaining: 1.39s\n",
      "82:\tlearn: 0.3362700\ttotal: 6.39s\tremaining: 1.31s\n",
      "83:\tlearn: 0.3359543\ttotal: 6.47s\tremaining: 1.23s\n",
      "84:\tlearn: 0.3356773\ttotal: 6.54s\tremaining: 1.15s\n",
      "85:\tlearn: 0.3353712\ttotal: 6.62s\tremaining: 1.08s\n",
      "86:\tlearn: 0.3351331\ttotal: 6.69s\tremaining: 1s\n",
      "87:\tlearn: 0.3349649\ttotal: 6.76s\tremaining: 922ms\n",
      "88:\tlearn: 0.3347083\ttotal: 6.84s\tremaining: 845ms\n",
      "89:\tlearn: 0.3345087\ttotal: 6.91s\tremaining: 768ms\n",
      "90:\tlearn: 0.3342586\ttotal: 6.99s\tremaining: 691ms\n",
      "91:\tlearn: 0.3340501\ttotal: 7.06s\tremaining: 614ms\n",
      "92:\tlearn: 0.3338068\ttotal: 7.13s\tremaining: 537ms\n",
      "93:\tlearn: 0.3335365\ttotal: 7.21s\tremaining: 460ms\n",
      "94:\tlearn: 0.3332866\ttotal: 7.28s\tremaining: 383ms\n",
      "95:\tlearn: 0.3330091\ttotal: 7.36s\tremaining: 307ms\n",
      "96:\tlearn: 0.3327955\ttotal: 7.44s\tremaining: 230ms\n",
      "97:\tlearn: 0.3324977\ttotal: 7.52s\tremaining: 154ms\n",
      "98:\tlearn: 0.3321988\ttotal: 7.6s\tremaining: 76.8ms\n",
      "99:\tlearn: 0.3319305\ttotal: 7.68s\tremaining: 0us\n",
      "Learning rate set to 0.5\n",
      "0:\tlearn: 0.4617977\ttotal: 98.3ms\tremaining: 9.73s\n",
      "1:\tlearn: 0.4005572\ttotal: 198ms\tremaining: 9.72s\n",
      "2:\tlearn: 0.3859894\ttotal: 270ms\tremaining: 8.72s\n",
      "3:\tlearn: 0.3778819\ttotal: 343ms\tremaining: 8.22s\n",
      "4:\tlearn: 0.3743093\ttotal: 419ms\tremaining: 7.96s\n",
      "5:\tlearn: 0.3714292\ttotal: 499ms\tremaining: 7.81s\n",
      "6:\tlearn: 0.3697860\ttotal: 570ms\tremaining: 7.57s\n",
      "7:\tlearn: 0.3679486\ttotal: 648ms\tremaining: 7.46s\n",
      "8:\tlearn: 0.3664810\ttotal: 730ms\tremaining: 7.39s\n",
      "9:\tlearn: 0.3654418\ttotal: 805ms\tremaining: 7.25s\n",
      "10:\tlearn: 0.3643740\ttotal: 887ms\tremaining: 7.18s\n",
      "11:\tlearn: 0.3637969\ttotal: 963ms\tremaining: 7.06s\n",
      "12:\tlearn: 0.3630672\ttotal: 1.04s\tremaining: 6.95s\n",
      "13:\tlearn: 0.3623124\ttotal: 1.11s\tremaining: 6.85s\n",
      "14:\tlearn: 0.3615003\ttotal: 1.19s\tremaining: 6.72s\n",
      "15:\tlearn: 0.3607428\ttotal: 1.26s\tremaining: 6.6s\n",
      "16:\tlearn: 0.3603111\ttotal: 1.33s\tremaining: 6.49s\n",
      "17:\tlearn: 0.3596401\ttotal: 1.41s\tremaining: 6.43s\n",
      "18:\tlearn: 0.3591310\ttotal: 1.49s\tremaining: 6.35s\n",
      "19:\tlearn: 0.3584512\ttotal: 1.56s\tremaining: 6.23s\n",
      "20:\tlearn: 0.3579012\ttotal: 1.64s\tremaining: 6.16s\n",
      "21:\tlearn: 0.3573527\ttotal: 1.72s\tremaining: 6.08s\n",
      "22:\tlearn: 0.3569773\ttotal: 1.79s\tremaining: 5.99s\n",
      "23:\tlearn: 0.3563743\ttotal: 1.86s\tremaining: 5.88s\n",
      "24:\tlearn: 0.3558386\ttotal: 1.93s\tremaining: 5.79s\n",
      "25:\tlearn: 0.3553118\ttotal: 2s\tremaining: 5.68s\n",
      "26:\tlearn: 0.3548625\ttotal: 2.07s\tremaining: 5.61s\n",
      "27:\tlearn: 0.3543594\ttotal: 2.15s\tremaining: 5.53s\n",
      "28:\tlearn: 0.3540000\ttotal: 2.22s\tremaining: 5.43s\n",
      "29:\tlearn: 0.3535042\ttotal: 2.3s\tremaining: 5.37s\n",
      "30:\tlearn: 0.3531466\ttotal: 2.37s\tremaining: 5.27s\n",
      "31:\tlearn: 0.3526530\ttotal: 2.45s\tremaining: 5.21s\n",
      "32:\tlearn: 0.3523005\ttotal: 2.53s\tremaining: 5.14s\n",
      "33:\tlearn: 0.3516965\ttotal: 2.61s\tremaining: 5.06s\n",
      "34:\tlearn: 0.3513748\ttotal: 2.67s\tremaining: 4.97s\n",
      "35:\tlearn: 0.3508566\ttotal: 2.76s\tremaining: 4.9s\n",
      "36:\tlearn: 0.3504127\ttotal: 2.83s\tremaining: 4.83s\n",
      "37:\tlearn: 0.3499292\ttotal: 2.92s\tremaining: 4.76s\n",
      "38:\tlearn: 0.3495302\ttotal: 2.99s\tremaining: 4.68s\n",
      "39:\tlearn: 0.3489704\ttotal: 3.07s\tremaining: 4.61s\n",
      "40:\tlearn: 0.3486155\ttotal: 3.15s\tremaining: 4.53s\n",
      "41:\tlearn: 0.3482108\ttotal: 3.22s\tremaining: 4.45s\n",
      "42:\tlearn: 0.3477707\ttotal: 3.3s\tremaining: 4.37s\n",
      "43:\tlearn: 0.3474574\ttotal: 3.37s\tremaining: 4.29s\n",
      "44:\tlearn: 0.3471373\ttotal: 3.45s\tremaining: 4.22s\n",
      "45:\tlearn: 0.3467500\ttotal: 3.53s\tremaining: 4.14s\n",
      "46:\tlearn: 0.3464037\ttotal: 3.6s\tremaining: 4.06s\n",
      "47:\tlearn: 0.3459475\ttotal: 3.66s\tremaining: 3.97s\n",
      "48:\tlearn: 0.3455736\ttotal: 3.75s\tremaining: 3.9s\n",
      "49:\tlearn: 0.3452958\ttotal: 3.82s\tremaining: 3.82s\n",
      "50:\tlearn: 0.3450487\ttotal: 3.9s\tremaining: 3.75s\n",
      "51:\tlearn: 0.3447649\ttotal: 3.96s\tremaining: 3.66s\n",
      "52:\tlearn: 0.3445525\ttotal: 4.04s\tremaining: 3.58s\n",
      "53:\tlearn: 0.3442387\ttotal: 4.11s\tremaining: 3.5s\n",
      "54:\tlearn: 0.3439280\ttotal: 4.19s\tremaining: 3.43s\n",
      "55:\tlearn: 0.3436228\ttotal: 4.26s\tremaining: 3.35s\n",
      "56:\tlearn: 0.3432618\ttotal: 4.34s\tremaining: 3.27s\n",
      "57:\tlearn: 0.3429335\ttotal: 4.42s\tremaining: 3.2s\n",
      "58:\tlearn: 0.3426217\ttotal: 4.5s\tremaining: 3.13s\n",
      "59:\tlearn: 0.3423799\ttotal: 4.58s\tremaining: 3.05s\n",
      "60:\tlearn: 0.3421699\ttotal: 4.65s\tremaining: 2.97s\n",
      "61:\tlearn: 0.3418501\ttotal: 4.73s\tremaining: 2.9s\n",
      "62:\tlearn: 0.3416071\ttotal: 4.8s\tremaining: 2.82s\n",
      "63:\tlearn: 0.3413844\ttotal: 4.87s\tremaining: 2.74s\n",
      "64:\tlearn: 0.3411282\ttotal: 4.95s\tremaining: 2.67s\n",
      "65:\tlearn: 0.3408932\ttotal: 5.03s\tremaining: 2.59s\n",
      "66:\tlearn: 0.3405435\ttotal: 5.11s\tremaining: 2.52s\n",
      "67:\tlearn: 0.3402711\ttotal: 5.18s\tremaining: 2.44s\n",
      "68:\tlearn: 0.3399301\ttotal: 5.26s\tremaining: 2.36s\n",
      "69:\tlearn: 0.3396478\ttotal: 5.35s\tremaining: 2.29s\n",
      "70:\tlearn: 0.3393530\ttotal: 5.43s\tremaining: 2.22s\n",
      "71:\tlearn: 0.3391461\ttotal: 5.51s\tremaining: 2.14s\n",
      "72:\tlearn: 0.3388766\ttotal: 5.58s\tremaining: 2.06s\n",
      "73:\tlearn: 0.3385949\ttotal: 5.65s\tremaining: 1.99s\n",
      "74:\tlearn: 0.3383231\ttotal: 5.72s\tremaining: 1.91s\n",
      "75:\tlearn: 0.3380524\ttotal: 5.8s\tremaining: 1.83s\n",
      "76:\tlearn: 0.3378239\ttotal: 5.88s\tremaining: 1.76s\n",
      "77:\tlearn: 0.3376073\ttotal: 5.96s\tremaining: 1.68s\n",
      "78:\tlearn: 0.3374025\ttotal: 6.04s\tremaining: 1.6s\n",
      "79:\tlearn: 0.3371215\ttotal: 6.12s\tremaining: 1.53s\n",
      "80:\tlearn: 0.3368380\ttotal: 6.2s\tremaining: 1.45s\n",
      "81:\tlearn: 0.3365606\ttotal: 6.27s\tremaining: 1.38s\n",
      "82:\tlearn: 0.3363167\ttotal: 6.34s\tremaining: 1.3s\n",
      "83:\tlearn: 0.3360556\ttotal: 6.42s\tremaining: 1.22s\n",
      "84:\tlearn: 0.3358630\ttotal: 6.49s\tremaining: 1.15s\n",
      "85:\tlearn: 0.3355659\ttotal: 6.58s\tremaining: 1.07s\n",
      "86:\tlearn: 0.3353777\ttotal: 6.65s\tremaining: 994ms\n",
      "87:\tlearn: 0.3351262\ttotal: 6.72s\tremaining: 917ms\n",
      "88:\tlearn: 0.3348349\ttotal: 6.8s\tremaining: 841ms\n",
      "89:\tlearn: 0.3345620\ttotal: 6.88s\tremaining: 764ms\n",
      "90:\tlearn: 0.3343077\ttotal: 6.95s\tremaining: 687ms\n",
      "91:\tlearn: 0.3340624\ttotal: 7.02s\tremaining: 611ms\n",
      "92:\tlearn: 0.3338298\ttotal: 7.1s\tremaining: 535ms\n",
      "93:\tlearn: 0.3335558\ttotal: 7.18s\tremaining: 458ms\n",
      "94:\tlearn: 0.3332726\ttotal: 7.25s\tremaining: 382ms\n",
      "95:\tlearn: 0.3330775\ttotal: 7.33s\tremaining: 306ms\n",
      "96:\tlearn: 0.3328572\ttotal: 7.41s\tremaining: 229ms\n",
      "97:\tlearn: 0.3326484\ttotal: 7.48s\tremaining: 153ms\n",
      "98:\tlearn: 0.3324126\ttotal: 7.56s\tremaining: 76.3ms\n",
      "99:\tlearn: 0.3321415\ttotal: 7.64s\tremaining: 0us\n",
      "Learning rate set to 0.5\n",
      "0:\tlearn: 0.4612907\ttotal: 82.1ms\tremaining: 8.13s\n",
      "1:\tlearn: 0.4015774\ttotal: 171ms\tremaining: 8.38s\n",
      "2:\tlearn: 0.3850761\ttotal: 251ms\tremaining: 8.13s\n",
      "3:\tlearn: 0.3786534\ttotal: 328ms\tremaining: 7.88s\n",
      "4:\tlearn: 0.3741256\ttotal: 409ms\tremaining: 7.77s\n",
      "5:\tlearn: 0.3715757\ttotal: 485ms\tremaining: 7.6s\n",
      "6:\tlearn: 0.3694659\ttotal: 556ms\tremaining: 7.39s\n",
      "7:\tlearn: 0.3677948\ttotal: 635ms\tremaining: 7.3s\n",
      "8:\tlearn: 0.3665692\ttotal: 702ms\tremaining: 7.1s\n",
      "9:\tlearn: 0.3658956\ttotal: 776ms\tremaining: 6.98s\n",
      "10:\tlearn: 0.3648882\ttotal: 853ms\tremaining: 6.9s\n",
      "11:\tlearn: 0.3641903\ttotal: 927ms\tremaining: 6.79s\n",
      "12:\tlearn: 0.3635860\ttotal: 1s\tremaining: 6.72s\n",
      "13:\tlearn: 0.3626141\ttotal: 1.07s\tremaining: 6.6s\n",
      "14:\tlearn: 0.3617373\ttotal: 1.15s\tremaining: 6.5s\n",
      "15:\tlearn: 0.3610414\ttotal: 1.22s\tremaining: 6.41s\n",
      "16:\tlearn: 0.3605123\ttotal: 1.3s\tremaining: 6.36s\n",
      "17:\tlearn: 0.3599472\ttotal: 1.37s\tremaining: 6.26s\n",
      "18:\tlearn: 0.3593765\ttotal: 1.46s\tremaining: 6.21s\n",
      "19:\tlearn: 0.3585262\ttotal: 1.53s\tremaining: 6.13s\n",
      "20:\tlearn: 0.3580744\ttotal: 1.61s\tremaining: 6.04s\n",
      "21:\tlearn: 0.3573166\ttotal: 1.68s\tremaining: 5.95s\n"
     ]
    },
    {
     "name": "stdout",
     "output_type": "stream",
     "text": [
      "22:\tlearn: 0.3567414\ttotal: 1.76s\tremaining: 5.9s\n",
      "23:\tlearn: 0.3563634\ttotal: 1.84s\tremaining: 5.83s\n",
      "24:\tlearn: 0.3558470\ttotal: 1.9s\tremaining: 5.71s\n",
      "25:\tlearn: 0.3552470\ttotal: 1.98s\tremaining: 5.65s\n",
      "26:\tlearn: 0.3547909\ttotal: 2.06s\tremaining: 5.57s\n",
      "27:\tlearn: 0.3543869\ttotal: 2.14s\tremaining: 5.49s\n",
      "28:\tlearn: 0.3539130\ttotal: 2.21s\tremaining: 5.4s\n",
      "29:\tlearn: 0.3535090\ttotal: 2.28s\tremaining: 5.32s\n",
      "30:\tlearn: 0.3530385\ttotal: 2.35s\tremaining: 5.24s\n",
      "31:\tlearn: 0.3525685\ttotal: 2.43s\tremaining: 5.16s\n",
      "32:\tlearn: 0.3520138\ttotal: 2.51s\tremaining: 5.09s\n",
      "33:\tlearn: 0.3514778\ttotal: 2.58s\tremaining: 5.01s\n",
      "34:\tlearn: 0.3511354\ttotal: 2.66s\tremaining: 4.93s\n",
      "35:\tlearn: 0.3508191\ttotal: 2.74s\tremaining: 4.87s\n",
      "36:\tlearn: 0.3503733\ttotal: 2.82s\tremaining: 4.8s\n",
      "37:\tlearn: 0.3499601\ttotal: 2.9s\tremaining: 4.74s\n",
      "38:\tlearn: 0.3495823\ttotal: 2.99s\tremaining: 4.68s\n",
      "39:\tlearn: 0.3490274\ttotal: 3.06s\tremaining: 4.59s\n",
      "40:\tlearn: 0.3486345\ttotal: 3.15s\tremaining: 4.53s\n",
      "41:\tlearn: 0.3482543\ttotal: 3.22s\tremaining: 4.45s\n",
      "42:\tlearn: 0.3479056\ttotal: 3.3s\tremaining: 4.37s\n",
      "43:\tlearn: 0.3476311\ttotal: 3.38s\tremaining: 4.3s\n",
      "44:\tlearn: 0.3471441\ttotal: 3.44s\tremaining: 4.21s\n",
      "45:\tlearn: 0.3468237\ttotal: 3.53s\tremaining: 4.14s\n",
      "46:\tlearn: 0.3464966\ttotal: 3.6s\tremaining: 4.06s\n",
      "47:\tlearn: 0.3461545\ttotal: 3.69s\tremaining: 4s\n",
      "48:\tlearn: 0.3458868\ttotal: 3.77s\tremaining: 3.92s\n",
      "49:\tlearn: 0.3455182\ttotal: 3.84s\tremaining: 3.84s\n",
      "50:\tlearn: 0.3452006\ttotal: 3.92s\tremaining: 3.77s\n",
      "51:\tlearn: 0.3449357\ttotal: 4s\tremaining: 3.69s\n",
      "52:\tlearn: 0.3446273\ttotal: 4.08s\tremaining: 3.62s\n",
      "53:\tlearn: 0.3442884\ttotal: 4.16s\tremaining: 3.54s\n",
      "54:\tlearn: 0.3440226\ttotal: 4.23s\tremaining: 3.46s\n",
      "55:\tlearn: 0.3436534\ttotal: 4.31s\tremaining: 3.39s\n",
      "56:\tlearn: 0.3433733\ttotal: 4.39s\tremaining: 3.31s\n",
      "57:\tlearn: 0.3430329\ttotal: 4.47s\tremaining: 3.23s\n",
      "58:\tlearn: 0.3428198\ttotal: 4.54s\tremaining: 3.15s\n",
      "59:\tlearn: 0.3424617\ttotal: 4.61s\tremaining: 3.08s\n",
      "60:\tlearn: 0.3421234\ttotal: 4.69s\tremaining: 3s\n",
      "61:\tlearn: 0.3419217\ttotal: 4.78s\tremaining: 2.93s\n",
      "62:\tlearn: 0.3416084\ttotal: 4.84s\tremaining: 2.85s\n",
      "63:\tlearn: 0.3412354\ttotal: 4.92s\tremaining: 2.77s\n",
      "64:\tlearn: 0.3409693\ttotal: 5s\tremaining: 2.69s\n",
      "65:\tlearn: 0.3406829\ttotal: 5.08s\tremaining: 2.61s\n",
      "66:\tlearn: 0.3404418\ttotal: 5.15s\tremaining: 2.54s\n",
      "67:\tlearn: 0.3402617\ttotal: 5.22s\tremaining: 2.46s\n",
      "68:\tlearn: 0.3399120\ttotal: 5.29s\tremaining: 2.38s\n",
      "69:\tlearn: 0.3396618\ttotal: 5.37s\tremaining: 2.3s\n",
      "70:\tlearn: 0.3393913\ttotal: 5.46s\tremaining: 2.23s\n",
      "71:\tlearn: 0.3390937\ttotal: 5.53s\tremaining: 2.15s\n",
      "72:\tlearn: 0.3388572\ttotal: 5.61s\tremaining: 2.08s\n",
      "73:\tlearn: 0.3386641\ttotal: 5.69s\tremaining: 2s\n",
      "74:\tlearn: 0.3383999\ttotal: 5.76s\tremaining: 1.92s\n",
      "75:\tlearn: 0.3382678\ttotal: 5.84s\tremaining: 1.84s\n",
      "76:\tlearn: 0.3380491\ttotal: 5.92s\tremaining: 1.77s\n",
      "77:\tlearn: 0.3377658\ttotal: 6s\tremaining: 1.69s\n",
      "78:\tlearn: 0.3374906\ttotal: 6.08s\tremaining: 1.61s\n",
      "79:\tlearn: 0.3372595\ttotal: 6.16s\tremaining: 1.54s\n",
      "80:\tlearn: 0.3370642\ttotal: 6.23s\tremaining: 1.46s\n",
      "81:\tlearn: 0.3368849\ttotal: 6.3s\tremaining: 1.38s\n",
      "82:\tlearn: 0.3366222\ttotal: 6.38s\tremaining: 1.31s\n",
      "83:\tlearn: 0.3363439\ttotal: 6.46s\tremaining: 1.23s\n",
      "84:\tlearn: 0.3361468\ttotal: 6.52s\tremaining: 1.15s\n",
      "85:\tlearn: 0.3359462\ttotal: 6.6s\tremaining: 1.07s\n",
      "86:\tlearn: 0.3356910\ttotal: 6.67s\tremaining: 997ms\n",
      "87:\tlearn: 0.3355120\ttotal: 6.75s\tremaining: 920ms\n",
      "88:\tlearn: 0.3352820\ttotal: 6.83s\tremaining: 844ms\n",
      "89:\tlearn: 0.3350064\ttotal: 6.91s\tremaining: 767ms\n",
      "90:\tlearn: 0.3347384\ttotal: 6.99s\tremaining: 691ms\n",
      "91:\tlearn: 0.3345243\ttotal: 7.06s\tremaining: 614ms\n",
      "92:\tlearn: 0.3342791\ttotal: 7.14s\tremaining: 538ms\n",
      "93:\tlearn: 0.3340015\ttotal: 7.22s\tremaining: 461ms\n",
      "94:\tlearn: 0.3338007\ttotal: 7.3s\tremaining: 384ms\n",
      "95:\tlearn: 0.3335556\ttotal: 7.38s\tremaining: 308ms\n",
      "96:\tlearn: 0.3333291\ttotal: 7.46s\tremaining: 231ms\n",
      "97:\tlearn: 0.3331205\ttotal: 7.53s\tremaining: 154ms\n",
      "98:\tlearn: 0.3329075\ttotal: 7.61s\tremaining: 76.8ms\n",
      "99:\tlearn: 0.3326923\ttotal: 7.68s\tremaining: 0us\n",
      "Learning rate set to 0.5\n",
      "0:\tlearn: 0.4605463\ttotal: 80.5ms\tremaining: 7.97s\n",
      "1:\tlearn: 0.4009053\ttotal: 164ms\tremaining: 8.04s\n",
      "2:\tlearn: 0.3835899\ttotal: 236ms\tremaining: 7.63s\n",
      "3:\tlearn: 0.3770684\ttotal: 307ms\tremaining: 7.38s\n",
      "4:\tlearn: 0.3727171\ttotal: 380ms\tremaining: 7.22s\n",
      "5:\tlearn: 0.3704554\ttotal: 453ms\tremaining: 7.1s\n",
      "6:\tlearn: 0.3684414\ttotal: 525ms\tremaining: 6.97s\n",
      "7:\tlearn: 0.3667149\ttotal: 602ms\tremaining: 6.92s\n",
      "8:\tlearn: 0.3654210\ttotal: 669ms\tremaining: 6.76s\n",
      "9:\tlearn: 0.3644507\ttotal: 736ms\tremaining: 6.63s\n",
      "10:\tlearn: 0.3636569\ttotal: 806ms\tremaining: 6.52s\n",
      "11:\tlearn: 0.3630366\ttotal: 881ms\tremaining: 6.46s\n",
      "12:\tlearn: 0.3621664\ttotal: 952ms\tremaining: 6.37s\n",
      "13:\tlearn: 0.3615555\ttotal: 1.02s\tremaining: 6.27s\n",
      "14:\tlearn: 0.3606118\ttotal: 1.09s\tremaining: 6.16s\n",
      "15:\tlearn: 0.3598215\ttotal: 1.16s\tremaining: 6.1s\n",
      "16:\tlearn: 0.3591781\ttotal: 1.23s\tremaining: 6s\n",
      "17:\tlearn: 0.3586369\ttotal: 1.3s\tremaining: 5.93s\n",
      "18:\tlearn: 0.3582049\ttotal: 1.39s\tremaining: 5.92s\n",
      "19:\tlearn: 0.3574431\ttotal: 1.47s\tremaining: 5.87s\n",
      "20:\tlearn: 0.3568698\ttotal: 1.53s\tremaining: 5.77s\n",
      "21:\tlearn: 0.3563969\ttotal: 1.6s\tremaining: 5.68s\n",
      "22:\tlearn: 0.3557804\ttotal: 1.67s\tremaining: 5.59s\n",
      "23:\tlearn: 0.3552386\ttotal: 1.74s\tremaining: 5.5s\n",
      "24:\tlearn: 0.3544913\ttotal: 1.8s\tremaining: 5.4s\n",
      "25:\tlearn: 0.3540438\ttotal: 1.86s\tremaining: 5.3s\n",
      "26:\tlearn: 0.3535431\ttotal: 1.93s\tremaining: 5.23s\n",
      "27:\tlearn: 0.3530983\ttotal: 2s\tremaining: 5.15s\n",
      "28:\tlearn: 0.3524860\ttotal: 2.07s\tremaining: 5.06s\n",
      "29:\tlearn: 0.3521387\ttotal: 2.14s\tremaining: 5s\n",
      "30:\tlearn: 0.3517092\ttotal: 2.21s\tremaining: 4.92s\n",
      "31:\tlearn: 0.3511878\ttotal: 2.28s\tremaining: 4.85s\n",
      "32:\tlearn: 0.3505643\ttotal: 2.35s\tremaining: 4.77s\n",
      "33:\tlearn: 0.3502189\ttotal: 2.42s\tremaining: 4.7s\n",
      "34:\tlearn: 0.3498392\ttotal: 2.49s\tremaining: 4.62s\n",
      "35:\tlearn: 0.3494187\ttotal: 2.56s\tremaining: 4.55s\n",
      "36:\tlearn: 0.3490178\ttotal: 2.63s\tremaining: 4.48s\n",
      "37:\tlearn: 0.3486423\ttotal: 2.7s\tremaining: 4.41s\n",
      "38:\tlearn: 0.3482643\ttotal: 2.77s\tremaining: 4.34s\n",
      "39:\tlearn: 0.3479290\ttotal: 2.85s\tremaining: 4.27s\n",
      "40:\tlearn: 0.3475483\ttotal: 2.92s\tremaining: 4.2s\n",
      "41:\tlearn: 0.3471566\ttotal: 2.99s\tremaining: 4.13s\n",
      "42:\tlearn: 0.3468257\ttotal: 3.07s\tremaining: 4.07s\n",
      "43:\tlearn: 0.3464200\ttotal: 3.14s\tremaining: 4s\n",
      "44:\tlearn: 0.3460915\ttotal: 3.22s\tremaining: 3.93s\n",
      "45:\tlearn: 0.3457392\ttotal: 3.29s\tremaining: 3.86s\n",
      "46:\tlearn: 0.3453883\ttotal: 3.36s\tremaining: 3.79s\n",
      "47:\tlearn: 0.3450576\ttotal: 3.44s\tremaining: 3.73s\n",
      "48:\tlearn: 0.3447789\ttotal: 3.51s\tremaining: 3.66s\n",
      "49:\tlearn: 0.3444937\ttotal: 3.6s\tremaining: 3.6s\n",
      "50:\tlearn: 0.3440919\ttotal: 3.67s\tremaining: 3.52s\n",
      "51:\tlearn: 0.3438259\ttotal: 3.73s\tremaining: 3.45s\n",
      "52:\tlearn: 0.3434261\ttotal: 3.81s\tremaining: 3.38s\n",
      "53:\tlearn: 0.3432135\ttotal: 3.87s\tremaining: 3.3s\n",
      "54:\tlearn: 0.3428950\ttotal: 3.94s\tremaining: 3.22s\n",
      "55:\tlearn: 0.3425328\ttotal: 4.01s\tremaining: 3.15s\n",
      "56:\tlearn: 0.3423454\ttotal: 4.08s\tremaining: 3.08s\n",
      "57:\tlearn: 0.3420442\ttotal: 4.16s\tremaining: 3.02s\n",
      "58:\tlearn: 0.3417668\ttotal: 4.24s\tremaining: 2.94s\n",
      "59:\tlearn: 0.3413837\ttotal: 4.32s\tremaining: 2.88s\n",
      "60:\tlearn: 0.3410748\ttotal: 4.39s\tremaining: 2.81s\n",
      "61:\tlearn: 0.3408240\ttotal: 4.47s\tremaining: 2.74s\n",
      "62:\tlearn: 0.3405261\ttotal: 4.54s\tremaining: 2.67s\n",
      "63:\tlearn: 0.3402522\ttotal: 4.61s\tremaining: 2.59s\n",
      "64:\tlearn: 0.3399752\ttotal: 4.68s\tremaining: 2.52s\n",
      "65:\tlearn: 0.3397497\ttotal: 4.75s\tremaining: 2.45s\n",
      "66:\tlearn: 0.3394898\ttotal: 4.82s\tremaining: 2.38s\n",
      "67:\tlearn: 0.3392552\ttotal: 4.89s\tremaining: 2.3s\n",
      "68:\tlearn: 0.3389686\ttotal: 4.97s\tremaining: 2.23s\n",
      "69:\tlearn: 0.3387282\ttotal: 5.04s\tremaining: 2.16s\n",
      "70:\tlearn: 0.3385020\ttotal: 5.11s\tremaining: 2.09s\n",
      "71:\tlearn: 0.3382250\ttotal: 5.19s\tremaining: 2.02s\n",
      "72:\tlearn: 0.3379995\ttotal: 5.26s\tremaining: 1.94s\n",
      "73:\tlearn: 0.3377910\ttotal: 5.34s\tremaining: 1.88s\n",
      "74:\tlearn: 0.3375118\ttotal: 5.41s\tremaining: 1.8s\n",
      "75:\tlearn: 0.3372835\ttotal: 5.48s\tremaining: 1.73s\n",
      "76:\tlearn: 0.3370356\ttotal: 5.55s\tremaining: 1.66s\n",
      "77:\tlearn: 0.3367453\ttotal: 5.63s\tremaining: 1.59s\n",
      "78:\tlearn: 0.3364351\ttotal: 5.69s\tremaining: 1.51s\n",
      "79:\tlearn: 0.3362107\ttotal: 5.77s\tremaining: 1.44s\n",
      "80:\tlearn: 0.3359438\ttotal: 5.85s\tremaining: 1.37s\n",
      "81:\tlearn: 0.3357556\ttotal: 5.91s\tremaining: 1.3s\n",
      "82:\tlearn: 0.3354475\ttotal: 5.99s\tremaining: 1.23s\n",
      "83:\tlearn: 0.3351296\ttotal: 6.06s\tremaining: 1.15s\n",
      "84:\tlearn: 0.3348652\ttotal: 6.13s\tremaining: 1.08s\n",
      "85:\tlearn: 0.3346455\ttotal: 6.19s\tremaining: 1.01s\n"
     ]
    },
    {
     "name": "stdout",
     "output_type": "stream",
     "text": [
      "86:\tlearn: 0.3343640\ttotal: 6.27s\tremaining: 937ms\n",
      "87:\tlearn: 0.3341466\ttotal: 6.34s\tremaining: 864ms\n",
      "88:\tlearn: 0.3339218\ttotal: 6.41s\tremaining: 793ms\n",
      "89:\tlearn: 0.3336984\ttotal: 6.48s\tremaining: 720ms\n",
      "90:\tlearn: 0.3335265\ttotal: 6.55s\tremaining: 647ms\n",
      "91:\tlearn: 0.3332188\ttotal: 6.63s\tremaining: 576ms\n",
      "92:\tlearn: 0.3329696\ttotal: 6.7s\tremaining: 504ms\n",
      "93:\tlearn: 0.3327393\ttotal: 6.77s\tremaining: 432ms\n",
      "94:\tlearn: 0.3324418\ttotal: 6.84s\tremaining: 360ms\n",
      "95:\tlearn: 0.3321718\ttotal: 6.91s\tremaining: 288ms\n",
      "96:\tlearn: 0.3319322\ttotal: 6.98s\tremaining: 216ms\n",
      "97:\tlearn: 0.3317056\ttotal: 7.06s\tremaining: 144ms\n",
      "98:\tlearn: 0.3314719\ttotal: 7.13s\tremaining: 72ms\n",
      "99:\tlearn: 0.3312281\ttotal: 7.2s\tremaining: 0us\n",
      "Learning rate set to 0.488883\n",
      "0:\tlearn: 0.4671216\ttotal: 50.6ms\tremaining: 5.01s\n",
      "1:\tlearn: 0.4067876\ttotal: 97.9ms\tremaining: 4.79s\n",
      "2:\tlearn: 0.3895511\ttotal: 144ms\tremaining: 4.67s\n",
      "3:\tlearn: 0.3819307\ttotal: 188ms\tremaining: 4.51s\n",
      "4:\tlearn: 0.3772034\ttotal: 229ms\tremaining: 4.35s\n",
      "5:\tlearn: 0.3734819\ttotal: 269ms\tremaining: 4.21s\n",
      "6:\tlearn: 0.3713430\ttotal: 307ms\tremaining: 4.08s\n",
      "7:\tlearn: 0.3697772\ttotal: 345ms\tremaining: 3.96s\n",
      "8:\tlearn: 0.3684623\ttotal: 386ms\tremaining: 3.9s\n",
      "9:\tlearn: 0.3667255\ttotal: 426ms\tremaining: 3.83s\n",
      "10:\tlearn: 0.3657970\ttotal: 464ms\tremaining: 3.75s\n",
      "11:\tlearn: 0.3647891\ttotal: 503ms\tremaining: 3.69s\n",
      "12:\tlearn: 0.3637791\ttotal: 541ms\tremaining: 3.62s\n",
      "13:\tlearn: 0.3625106\ttotal: 580ms\tremaining: 3.56s\n",
      "14:\tlearn: 0.3614026\ttotal: 622ms\tremaining: 3.52s\n",
      "15:\tlearn: 0.3604588\ttotal: 665ms\tremaining: 3.49s\n",
      "16:\tlearn: 0.3597015\ttotal: 704ms\tremaining: 3.43s\n",
      "17:\tlearn: 0.3588397\ttotal: 742ms\tremaining: 3.38s\n",
      "18:\tlearn: 0.3580743\ttotal: 780ms\tremaining: 3.33s\n",
      "19:\tlearn: 0.3571389\ttotal: 819ms\tremaining: 3.27s\n",
      "20:\tlearn: 0.3563207\ttotal: 854ms\tremaining: 3.21s\n",
      "21:\tlearn: 0.3557986\ttotal: 889ms\tremaining: 3.15s\n",
      "22:\tlearn: 0.3551324\ttotal: 925ms\tremaining: 3.1s\n",
      "23:\tlearn: 0.3543118\ttotal: 962ms\tremaining: 3.04s\n",
      "24:\tlearn: 0.3533991\ttotal: 1s\tremaining: 3s\n",
      "25:\tlearn: 0.3527507\ttotal: 1.04s\tremaining: 2.96s\n",
      "26:\tlearn: 0.3519769\ttotal: 1.08s\tremaining: 2.92s\n",
      "27:\tlearn: 0.3509657\ttotal: 1.11s\tremaining: 2.87s\n",
      "28:\tlearn: 0.3502050\ttotal: 1.15s\tremaining: 2.83s\n",
      "29:\tlearn: 0.3492108\ttotal: 1.19s\tremaining: 2.79s\n",
      "30:\tlearn: 0.3483086\ttotal: 1.22s\tremaining: 2.72s\n",
      "31:\tlearn: 0.3475100\ttotal: 1.26s\tremaining: 2.68s\n",
      "32:\tlearn: 0.3468319\ttotal: 1.3s\tremaining: 2.64s\n",
      "33:\tlearn: 0.3460797\ttotal: 1.34s\tremaining: 2.59s\n",
      "34:\tlearn: 0.3454797\ttotal: 1.38s\tremaining: 2.56s\n",
      "35:\tlearn: 0.3449446\ttotal: 1.42s\tremaining: 2.52s\n",
      "36:\tlearn: 0.3442373\ttotal: 1.45s\tremaining: 2.48s\n",
      "37:\tlearn: 0.3437104\ttotal: 1.49s\tremaining: 2.43s\n",
      "38:\tlearn: 0.3430293\ttotal: 1.53s\tremaining: 2.4s\n",
      "39:\tlearn: 0.3423700\ttotal: 1.57s\tremaining: 2.35s\n",
      "40:\tlearn: 0.3415642\ttotal: 1.61s\tremaining: 2.32s\n",
      "41:\tlearn: 0.3409382\ttotal: 1.65s\tremaining: 2.28s\n",
      "42:\tlearn: 0.3403272\ttotal: 1.69s\tremaining: 2.24s\n",
      "43:\tlearn: 0.3397503\ttotal: 1.72s\tremaining: 2.19s\n",
      "44:\tlearn: 0.3391836\ttotal: 1.76s\tremaining: 2.15s\n",
      "45:\tlearn: 0.3383974\ttotal: 1.8s\tremaining: 2.11s\n",
      "46:\tlearn: 0.3376431\ttotal: 1.83s\tremaining: 2.07s\n",
      "47:\tlearn: 0.3369531\ttotal: 1.87s\tremaining: 2.02s\n",
      "48:\tlearn: 0.3362037\ttotal: 1.91s\tremaining: 1.98s\n",
      "49:\tlearn: 0.3354561\ttotal: 1.94s\tremaining: 1.94s\n",
      "50:\tlearn: 0.3349448\ttotal: 1.98s\tremaining: 1.9s\n",
      "51:\tlearn: 0.3344240\ttotal: 2.02s\tremaining: 1.86s\n",
      "52:\tlearn: 0.3338155\ttotal: 2.05s\tremaining: 1.82s\n",
      "53:\tlearn: 0.3331144\ttotal: 2.09s\tremaining: 1.78s\n",
      "54:\tlearn: 0.3323136\ttotal: 2.13s\tremaining: 1.74s\n",
      "55:\tlearn: 0.3316862\ttotal: 2.17s\tremaining: 1.7s\n",
      "56:\tlearn: 0.3311313\ttotal: 2.2s\tremaining: 1.66s\n",
      "57:\tlearn: 0.3307195\ttotal: 2.24s\tremaining: 1.62s\n",
      "58:\tlearn: 0.3300084\ttotal: 2.28s\tremaining: 1.58s\n",
      "59:\tlearn: 0.3294201\ttotal: 2.32s\tremaining: 1.54s\n",
      "60:\tlearn: 0.3286104\ttotal: 2.35s\tremaining: 1.5s\n",
      "61:\tlearn: 0.3279465\ttotal: 2.39s\tremaining: 1.47s\n",
      "62:\tlearn: 0.3273547\ttotal: 2.43s\tremaining: 1.43s\n",
      "63:\tlearn: 0.3268600\ttotal: 2.47s\tremaining: 1.39s\n",
      "64:\tlearn: 0.3262809\ttotal: 2.5s\tremaining: 1.35s\n",
      "65:\tlearn: 0.3258010\ttotal: 2.54s\tremaining: 1.31s\n",
      "66:\tlearn: 0.3249884\ttotal: 2.58s\tremaining: 1.27s\n",
      "67:\tlearn: 0.3241290\ttotal: 2.62s\tremaining: 1.24s\n",
      "68:\tlearn: 0.3234068\ttotal: 2.67s\tremaining: 1.2s\n",
      "69:\tlearn: 0.3229242\ttotal: 2.71s\tremaining: 1.16s\n",
      "70:\tlearn: 0.3222221\ttotal: 2.74s\tremaining: 1.12s\n",
      "71:\tlearn: 0.3217049\ttotal: 2.78s\tremaining: 1.08s\n",
      "72:\tlearn: 0.3209910\ttotal: 2.81s\tremaining: 1.04s\n",
      "73:\tlearn: 0.3203889\ttotal: 2.85s\tremaining: 1s\n",
      "74:\tlearn: 0.3198589\ttotal: 2.89s\tremaining: 963ms\n",
      "75:\tlearn: 0.3193372\ttotal: 2.93s\tremaining: 924ms\n",
      "76:\tlearn: 0.3190262\ttotal: 2.96s\tremaining: 885ms\n",
      "77:\tlearn: 0.3185850\ttotal: 3s\tremaining: 847ms\n",
      "78:\tlearn: 0.3180344\ttotal: 3.04s\tremaining: 808ms\n",
      "79:\tlearn: 0.3175798\ttotal: 3.08s\tremaining: 770ms\n",
      "80:\tlearn: 0.3170269\ttotal: 3.12s\tremaining: 732ms\n",
      "81:\tlearn: 0.3163842\ttotal: 3.16s\tremaining: 693ms\n",
      "82:\tlearn: 0.3160016\ttotal: 3.19s\tremaining: 654ms\n",
      "83:\tlearn: 0.3155241\ttotal: 3.23s\tremaining: 616ms\n",
      "84:\tlearn: 0.3150447\ttotal: 3.27s\tremaining: 577ms\n",
      "85:\tlearn: 0.3144411\ttotal: 3.31s\tremaining: 539ms\n",
      "86:\tlearn: 0.3138950\ttotal: 3.35s\tremaining: 501ms\n",
      "87:\tlearn: 0.3135317\ttotal: 3.39s\tremaining: 462ms\n",
      "88:\tlearn: 0.3131148\ttotal: 3.43s\tremaining: 424ms\n",
      "89:\tlearn: 0.3125229\ttotal: 3.47s\tremaining: 385ms\n",
      "90:\tlearn: 0.3119994\ttotal: 3.51s\tremaining: 347ms\n",
      "91:\tlearn: 0.3113833\ttotal: 3.55s\tremaining: 309ms\n",
      "92:\tlearn: 0.3108188\ttotal: 3.59s\tremaining: 270ms\n",
      "93:\tlearn: 0.3104591\ttotal: 3.63s\tremaining: 231ms\n",
      "94:\tlearn: 0.3098698\ttotal: 3.67s\tremaining: 193ms\n",
      "95:\tlearn: 0.3093497\ttotal: 3.7s\tremaining: 154ms\n",
      "96:\tlearn: 0.3089259\ttotal: 3.74s\tremaining: 116ms\n",
      "97:\tlearn: 0.3083889\ttotal: 3.78s\tremaining: 77.1ms\n",
      "98:\tlearn: 0.3080363\ttotal: 3.81s\tremaining: 38.5ms\n",
      "99:\tlearn: 0.3077215\ttotal: 3.85s\tremaining: 0us\n",
      "Learning rate set to 0.488883\n",
      "0:\tlearn: 0.4619614\ttotal: 53.5ms\tremaining: 5.3s\n",
      "1:\tlearn: 0.4054401\ttotal: 99.5ms\tremaining: 4.87s\n",
      "2:\tlearn: 0.3862930\ttotal: 145ms\tremaining: 4.69s\n",
      "3:\tlearn: 0.3799244\ttotal: 192ms\tremaining: 4.6s\n",
      "4:\tlearn: 0.3755728\ttotal: 230ms\tremaining: 4.37s\n",
      "5:\tlearn: 0.3716091\ttotal: 268ms\tremaining: 4.19s\n",
      "6:\tlearn: 0.3695271\ttotal: 307ms\tremaining: 4.08s\n",
      "7:\tlearn: 0.3678604\ttotal: 344ms\tremaining: 3.96s\n",
      "8:\tlearn: 0.3661254\ttotal: 386ms\tremaining: 3.9s\n",
      "9:\tlearn: 0.3649299\ttotal: 425ms\tremaining: 3.83s\n",
      "10:\tlearn: 0.3634168\ttotal: 464ms\tremaining: 3.75s\n",
      "11:\tlearn: 0.3626310\ttotal: 498ms\tremaining: 3.65s\n",
      "12:\tlearn: 0.3616669\ttotal: 533ms\tremaining: 3.56s\n",
      "13:\tlearn: 0.3605383\ttotal: 569ms\tremaining: 3.49s\n",
      "14:\tlearn: 0.3596937\ttotal: 606ms\tremaining: 3.43s\n",
      "15:\tlearn: 0.3592516\ttotal: 640ms\tremaining: 3.36s\n",
      "16:\tlearn: 0.3580033\ttotal: 677ms\tremaining: 3.3s\n",
      "17:\tlearn: 0.3573159\ttotal: 714ms\tremaining: 3.25s\n",
      "18:\tlearn: 0.3565009\ttotal: 751ms\tremaining: 3.2s\n",
      "19:\tlearn: 0.3557234\ttotal: 788ms\tremaining: 3.15s\n",
      "20:\tlearn: 0.3549153\ttotal: 823ms\tremaining: 3.1s\n",
      "21:\tlearn: 0.3543357\ttotal: 857ms\tremaining: 3.04s\n",
      "22:\tlearn: 0.3535931\ttotal: 892ms\tremaining: 2.99s\n",
      "23:\tlearn: 0.3527986\ttotal: 925ms\tremaining: 2.93s\n",
      "24:\tlearn: 0.3518577\ttotal: 962ms\tremaining: 2.89s\n",
      "25:\tlearn: 0.3512311\ttotal: 997ms\tremaining: 2.84s\n",
      "26:\tlearn: 0.3501003\ttotal: 1.03s\tremaining: 2.79s\n",
      "27:\tlearn: 0.3491077\ttotal: 1.07s\tremaining: 2.75s\n",
      "28:\tlearn: 0.3482426\ttotal: 1.11s\tremaining: 2.71s\n",
      "29:\tlearn: 0.3474597\ttotal: 1.14s\tremaining: 2.67s\n",
      "30:\tlearn: 0.3468383\ttotal: 1.18s\tremaining: 2.62s\n",
      "31:\tlearn: 0.3461457\ttotal: 1.21s\tremaining: 2.57s\n",
      "32:\tlearn: 0.3452390\ttotal: 1.25s\tremaining: 2.53s\n",
      "33:\tlearn: 0.3446128\ttotal: 1.28s\tremaining: 2.49s\n",
      "34:\tlearn: 0.3438920\ttotal: 1.32s\tremaining: 2.45s\n",
      "35:\tlearn: 0.3432626\ttotal: 1.35s\tremaining: 2.4s\n",
      "36:\tlearn: 0.3425788\ttotal: 1.39s\tremaining: 2.37s\n",
      "37:\tlearn: 0.3420753\ttotal: 1.43s\tremaining: 2.33s\n",
      "38:\tlearn: 0.3416184\ttotal: 1.46s\tremaining: 2.28s\n",
      "39:\tlearn: 0.3410312\ttotal: 1.5s\tremaining: 2.24s\n",
      "40:\tlearn: 0.3403377\ttotal: 1.53s\tremaining: 2.21s\n",
      "41:\tlearn: 0.3397166\ttotal: 1.57s\tremaining: 2.17s\n",
      "42:\tlearn: 0.3389550\ttotal: 1.6s\tremaining: 2.13s\n",
      "43:\tlearn: 0.3384267\ttotal: 1.64s\tremaining: 2.09s\n",
      "44:\tlearn: 0.3378540\ttotal: 1.67s\tremaining: 2.04s\n",
      "45:\tlearn: 0.3373211\ttotal: 1.71s\tremaining: 2s\n",
      "46:\tlearn: 0.3366089\ttotal: 1.75s\tremaining: 1.97s\n",
      "47:\tlearn: 0.3359283\ttotal: 1.79s\tremaining: 1.94s\n",
      "48:\tlearn: 0.3352389\ttotal: 1.82s\tremaining: 1.9s\n",
      "49:\tlearn: 0.3346442\ttotal: 1.86s\tremaining: 1.86s\n",
      "50:\tlearn: 0.3341275\ttotal: 1.9s\tremaining: 1.82s\n",
      "51:\tlearn: 0.3333379\ttotal: 1.94s\tremaining: 1.79s\n"
     ]
    },
    {
     "name": "stdout",
     "output_type": "stream",
     "text": [
      "52:\tlearn: 0.3326463\ttotal: 1.98s\tremaining: 1.75s\n",
      "53:\tlearn: 0.3321194\ttotal: 2.01s\tremaining: 1.72s\n",
      "54:\tlearn: 0.3314441\ttotal: 2.05s\tremaining: 1.68s\n",
      "55:\tlearn: 0.3308500\ttotal: 2.09s\tremaining: 1.64s\n",
      "56:\tlearn: 0.3302613\ttotal: 2.13s\tremaining: 1.6s\n",
      "57:\tlearn: 0.3295172\ttotal: 2.16s\tremaining: 1.56s\n",
      "58:\tlearn: 0.3290574\ttotal: 2.2s\tremaining: 1.53s\n",
      "59:\tlearn: 0.3286324\ttotal: 2.24s\tremaining: 1.49s\n",
      "60:\tlearn: 0.3281922\ttotal: 2.27s\tremaining: 1.45s\n",
      "61:\tlearn: 0.3278487\ttotal: 2.31s\tremaining: 1.42s\n",
      "62:\tlearn: 0.3270860\ttotal: 2.35s\tremaining: 1.38s\n",
      "63:\tlearn: 0.3265802\ttotal: 2.39s\tremaining: 1.34s\n",
      "64:\tlearn: 0.3260183\ttotal: 2.43s\tremaining: 1.31s\n",
      "65:\tlearn: 0.3256607\ttotal: 2.46s\tremaining: 1.27s\n",
      "66:\tlearn: 0.3251589\ttotal: 2.5s\tremaining: 1.23s\n",
      "67:\tlearn: 0.3248000\ttotal: 2.53s\tremaining: 1.19s\n",
      "68:\tlearn: 0.3244352\ttotal: 2.57s\tremaining: 1.16s\n",
      "69:\tlearn: 0.3236828\ttotal: 2.61s\tremaining: 1.12s\n",
      "70:\tlearn: 0.3232716\ttotal: 2.65s\tremaining: 1.08s\n",
      "71:\tlearn: 0.3228334\ttotal: 2.68s\tremaining: 1.04s\n",
      "72:\tlearn: 0.3222807\ttotal: 2.72s\tremaining: 1.01s\n",
      "73:\tlearn: 0.3218295\ttotal: 2.76s\tremaining: 969ms\n",
      "74:\tlearn: 0.3214288\ttotal: 2.8s\tremaining: 932ms\n",
      "75:\tlearn: 0.3207578\ttotal: 2.83s\tremaining: 895ms\n",
      "76:\tlearn: 0.3202163\ttotal: 2.87s\tremaining: 858ms\n",
      "77:\tlearn: 0.3196409\ttotal: 2.91s\tremaining: 821ms\n",
      "78:\tlearn: 0.3190473\ttotal: 2.95s\tremaining: 783ms\n",
      "79:\tlearn: 0.3185270\ttotal: 2.99s\tremaining: 747ms\n",
      "80:\tlearn: 0.3179051\ttotal: 3.02s\tremaining: 709ms\n",
      "81:\tlearn: 0.3175333\ttotal: 3.06s\tremaining: 671ms\n",
      "82:\tlearn: 0.3171059\ttotal: 3.1s\tremaining: 634ms\n",
      "83:\tlearn: 0.3164926\ttotal: 3.13s\tremaining: 596ms\n",
      "84:\tlearn: 0.3158993\ttotal: 3.17s\tremaining: 560ms\n",
      "85:\tlearn: 0.3153607\ttotal: 3.21s\tremaining: 522ms\n",
      "86:\tlearn: 0.3149729\ttotal: 3.25s\tremaining: 485ms\n",
      "87:\tlearn: 0.3144040\ttotal: 3.28s\tremaining: 448ms\n",
      "88:\tlearn: 0.3136895\ttotal: 3.32s\tremaining: 411ms\n",
      "89:\tlearn: 0.3131210\ttotal: 3.36s\tremaining: 374ms\n",
      "90:\tlearn: 0.3125603\ttotal: 3.4s\tremaining: 337ms\n",
      "91:\tlearn: 0.3120008\ttotal: 3.44s\tremaining: 300ms\n",
      "92:\tlearn: 0.3114410\ttotal: 3.48s\tremaining: 262ms\n",
      "93:\tlearn: 0.3110276\ttotal: 3.52s\tremaining: 225ms\n",
      "94:\tlearn: 0.3105294\ttotal: 3.56s\tremaining: 188ms\n",
      "95:\tlearn: 0.3100090\ttotal: 3.6s\tremaining: 150ms\n",
      "96:\tlearn: 0.3095647\ttotal: 3.64s\tremaining: 112ms\n",
      "97:\tlearn: 0.3092306\ttotal: 3.67s\tremaining: 75ms\n",
      "98:\tlearn: 0.3087138\ttotal: 3.71s\tremaining: 37.5ms\n",
      "99:\tlearn: 0.3081364\ttotal: 3.75s\tremaining: 0us\n",
      "Learning rate set to 0.488883\n",
      "0:\tlearn: 0.4611292\ttotal: 59.9ms\tremaining: 5.93s\n",
      "1:\tlearn: 0.4050359\ttotal: 108ms\tremaining: 5.28s\n",
      "2:\tlearn: 0.3865938\ttotal: 155ms\tremaining: 5s\n",
      "3:\tlearn: 0.3803311\ttotal: 198ms\tremaining: 4.76s\n",
      "4:\tlearn: 0.3758963\ttotal: 240ms\tremaining: 4.57s\n",
      "5:\tlearn: 0.3716462\ttotal: 281ms\tremaining: 4.41s\n",
      "6:\tlearn: 0.3696132\ttotal: 321ms\tremaining: 4.26s\n",
      "7:\tlearn: 0.3676277\ttotal: 359ms\tremaining: 4.12s\n",
      "8:\tlearn: 0.3661072\ttotal: 398ms\tremaining: 4.02s\n",
      "9:\tlearn: 0.3651569\ttotal: 435ms\tremaining: 3.91s\n",
      "10:\tlearn: 0.3643666\ttotal: 468ms\tremaining: 3.79s\n",
      "11:\tlearn: 0.3631937\ttotal: 505ms\tremaining: 3.71s\n",
      "12:\tlearn: 0.3622136\ttotal: 541ms\tremaining: 3.62s\n",
      "13:\tlearn: 0.3612543\ttotal: 576ms\tremaining: 3.54s\n",
      "14:\tlearn: 0.3600352\ttotal: 612ms\tremaining: 3.47s\n",
      "15:\tlearn: 0.3591667\ttotal: 650ms\tremaining: 3.41s\n",
      "16:\tlearn: 0.3583514\ttotal: 688ms\tremaining: 3.36s\n",
      "17:\tlearn: 0.3576580\ttotal: 726ms\tremaining: 3.31s\n",
      "18:\tlearn: 0.3567308\ttotal: 764ms\tremaining: 3.25s\n",
      "19:\tlearn: 0.3556246\ttotal: 803ms\tremaining: 3.21s\n",
      "20:\tlearn: 0.3547231\ttotal: 841ms\tremaining: 3.16s\n",
      "21:\tlearn: 0.3542181\ttotal: 878ms\tremaining: 3.11s\n",
      "22:\tlearn: 0.3535413\ttotal: 914ms\tremaining: 3.06s\n",
      "23:\tlearn: 0.3527443\ttotal: 953ms\tremaining: 3.02s\n",
      "24:\tlearn: 0.3521283\ttotal: 989ms\tremaining: 2.97s\n",
      "25:\tlearn: 0.3512905\ttotal: 1.03s\tremaining: 2.92s\n",
      "26:\tlearn: 0.3504570\ttotal: 1.07s\tremaining: 2.88s\n",
      "27:\tlearn: 0.3498680\ttotal: 1.1s\tremaining: 2.83s\n",
      "28:\tlearn: 0.3491686\ttotal: 1.14s\tremaining: 2.79s\n",
      "29:\tlearn: 0.3484051\ttotal: 1.18s\tremaining: 2.75s\n",
      "30:\tlearn: 0.3474001\ttotal: 1.22s\tremaining: 2.71s\n",
      "31:\tlearn: 0.3466330\ttotal: 1.26s\tremaining: 2.67s\n",
      "32:\tlearn: 0.3457721\ttotal: 1.3s\tremaining: 2.64s\n",
      "33:\tlearn: 0.3450499\ttotal: 1.34s\tremaining: 2.59s\n",
      "34:\tlearn: 0.3441121\ttotal: 1.38s\tremaining: 2.56s\n",
      "35:\tlearn: 0.3434032\ttotal: 1.42s\tremaining: 2.52s\n",
      "36:\tlearn: 0.3427267\ttotal: 1.45s\tremaining: 2.48s\n",
      "37:\tlearn: 0.3420838\ttotal: 1.49s\tremaining: 2.44s\n",
      "38:\tlearn: 0.3416076\ttotal: 1.53s\tremaining: 2.4s\n",
      "39:\tlearn: 0.3410134\ttotal: 1.57s\tremaining: 2.35s\n",
      "40:\tlearn: 0.3404526\ttotal: 1.61s\tremaining: 2.31s\n",
      "41:\tlearn: 0.3396035\ttotal: 1.65s\tremaining: 2.27s\n",
      "42:\tlearn: 0.3391998\ttotal: 1.68s\tremaining: 2.23s\n",
      "43:\tlearn: 0.3385437\ttotal: 1.72s\tremaining: 2.19s\n",
      "44:\tlearn: 0.3377637\ttotal: 1.76s\tremaining: 2.15s\n",
      "45:\tlearn: 0.3372929\ttotal: 1.8s\tremaining: 2.11s\n",
      "46:\tlearn: 0.3367090\ttotal: 1.83s\tremaining: 2.07s\n",
      "47:\tlearn: 0.3359662\ttotal: 1.87s\tremaining: 2.03s\n",
      "48:\tlearn: 0.3354519\ttotal: 1.91s\tremaining: 1.99s\n",
      "49:\tlearn: 0.3347971\ttotal: 1.95s\tremaining: 1.95s\n",
      "50:\tlearn: 0.3338922\ttotal: 1.99s\tremaining: 1.91s\n",
      "51:\tlearn: 0.3334122\ttotal: 2.03s\tremaining: 1.87s\n",
      "52:\tlearn: 0.3326671\ttotal: 2.07s\tremaining: 1.83s\n",
      "53:\tlearn: 0.3320643\ttotal: 2.1s\tremaining: 1.79s\n",
      "54:\tlearn: 0.3312648\ttotal: 2.15s\tremaining: 1.76s\n",
      "55:\tlearn: 0.3307384\ttotal: 2.18s\tremaining: 1.72s\n",
      "56:\tlearn: 0.3302682\ttotal: 2.22s\tremaining: 1.68s\n",
      "57:\tlearn: 0.3295039\ttotal: 2.26s\tremaining: 1.64s\n",
      "58:\tlearn: 0.3289367\ttotal: 2.3s\tremaining: 1.6s\n",
      "59:\tlearn: 0.3284280\ttotal: 2.34s\tremaining: 1.56s\n",
      "60:\tlearn: 0.3276781\ttotal: 2.38s\tremaining: 1.52s\n",
      "61:\tlearn: 0.3269833\ttotal: 2.42s\tremaining: 1.48s\n",
      "62:\tlearn: 0.3263987\ttotal: 2.46s\tremaining: 1.45s\n",
      "63:\tlearn: 0.3258741\ttotal: 2.5s\tremaining: 1.41s\n",
      "64:\tlearn: 0.3253711\ttotal: 2.54s\tremaining: 1.37s\n",
      "65:\tlearn: 0.3248642\ttotal: 2.58s\tremaining: 1.33s\n",
      "66:\tlearn: 0.3241324\ttotal: 2.61s\tremaining: 1.29s\n",
      "67:\tlearn: 0.3235347\ttotal: 2.65s\tremaining: 1.25s\n",
      "68:\tlearn: 0.3229920\ttotal: 2.68s\tremaining: 1.21s\n",
      "69:\tlearn: 0.3224770\ttotal: 2.72s\tremaining: 1.17s\n",
      "70:\tlearn: 0.3219355\ttotal: 2.76s\tremaining: 1.13s\n",
      "71:\tlearn: 0.3213530\ttotal: 2.79s\tremaining: 1.09s\n",
      "72:\tlearn: 0.3206840\ttotal: 2.83s\tremaining: 1.05s\n",
      "73:\tlearn: 0.3200770\ttotal: 2.87s\tremaining: 1.01s\n",
      "74:\tlearn: 0.3193474\ttotal: 2.9s\tremaining: 968ms\n",
      "75:\tlearn: 0.3188688\ttotal: 2.94s\tremaining: 929ms\n",
      "76:\tlearn: 0.3183377\ttotal: 2.98s\tremaining: 890ms\n",
      "77:\tlearn: 0.3179032\ttotal: 3.01s\tremaining: 850ms\n",
      "78:\tlearn: 0.3173899\ttotal: 3.05s\tremaining: 810ms\n",
      "79:\tlearn: 0.3167548\ttotal: 3.08s\tremaining: 771ms\n",
      "80:\tlearn: 0.3163409\ttotal: 3.12s\tremaining: 731ms\n",
      "81:\tlearn: 0.3156794\ttotal: 3.16s\tremaining: 693ms\n",
      "82:\tlearn: 0.3152969\ttotal: 3.2s\tremaining: 655ms\n",
      "83:\tlearn: 0.3146528\ttotal: 3.24s\tremaining: 617ms\n",
      "84:\tlearn: 0.3140328\ttotal: 3.28s\tremaining: 578ms\n",
      "85:\tlearn: 0.3135736\ttotal: 3.31s\tremaining: 540ms\n",
      "86:\tlearn: 0.3131474\ttotal: 3.35s\tremaining: 501ms\n",
      "87:\tlearn: 0.3125639\ttotal: 3.39s\tremaining: 463ms\n",
      "88:\tlearn: 0.3121411\ttotal: 3.43s\tremaining: 424ms\n",
      "89:\tlearn: 0.3118238\ttotal: 3.47s\tremaining: 386ms\n",
      "90:\tlearn: 0.3114468\ttotal: 3.51s\tremaining: 347ms\n",
      "91:\tlearn: 0.3108134\ttotal: 3.55s\tremaining: 309ms\n",
      "92:\tlearn: 0.3102177\ttotal: 3.59s\tremaining: 270ms\n",
      "93:\tlearn: 0.3097421\ttotal: 3.63s\tremaining: 232ms\n",
      "94:\tlearn: 0.3094175\ttotal: 3.66s\tremaining: 193ms\n",
      "95:\tlearn: 0.3088553\ttotal: 3.71s\tremaining: 154ms\n",
      "96:\tlearn: 0.3084032\ttotal: 3.74s\tremaining: 116ms\n",
      "97:\tlearn: 0.3077903\ttotal: 3.78s\tremaining: 77.2ms\n",
      "98:\tlearn: 0.3071621\ttotal: 3.82s\tremaining: 38.6ms\n",
      "99:\tlearn: 0.3067096\ttotal: 3.86s\tremaining: 0us\n",
      "Learning rate set to 0.488883\n",
      "0:\tlearn: 0.4611492\ttotal: 51.3ms\tremaining: 5.08s\n",
      "1:\tlearn: 0.4070867\ttotal: 94.8ms\tremaining: 4.64s\n",
      "2:\tlearn: 0.3884099\ttotal: 139ms\tremaining: 4.5s\n",
      "3:\tlearn: 0.3805248\ttotal: 178ms\tremaining: 4.28s\n",
      "4:\tlearn: 0.3762588\ttotal: 217ms\tremaining: 4.12s\n",
      "5:\tlearn: 0.3722439\ttotal: 257ms\tremaining: 4.03s\n",
      "6:\tlearn: 0.3696274\ttotal: 298ms\tremaining: 3.95s\n",
      "7:\tlearn: 0.3678290\ttotal: 336ms\tremaining: 3.87s\n",
      "8:\tlearn: 0.3658564\ttotal: 368ms\tremaining: 3.72s\n",
      "9:\tlearn: 0.3641077\ttotal: 409ms\tremaining: 3.68s\n",
      "10:\tlearn: 0.3629072\ttotal: 448ms\tremaining: 3.63s\n",
      "11:\tlearn: 0.3618404\ttotal: 486ms\tremaining: 3.56s\n",
      "12:\tlearn: 0.3608395\ttotal: 527ms\tremaining: 3.53s\n",
      "13:\tlearn: 0.3603192\ttotal: 564ms\tremaining: 3.46s\n"
     ]
    },
    {
     "name": "stdout",
     "output_type": "stream",
     "text": [
      "14:\tlearn: 0.3595226\ttotal: 603ms\tremaining: 3.41s\n",
      "15:\tlearn: 0.3584292\ttotal: 643ms\tremaining: 3.37s\n",
      "16:\tlearn: 0.3578263\ttotal: 682ms\tremaining: 3.33s\n",
      "17:\tlearn: 0.3571164\ttotal: 719ms\tremaining: 3.27s\n",
      "18:\tlearn: 0.3564576\ttotal: 758ms\tremaining: 3.23s\n",
      "19:\tlearn: 0.3557294\ttotal: 797ms\tremaining: 3.19s\n",
      "20:\tlearn: 0.3548982\ttotal: 839ms\tremaining: 3.15s\n",
      "21:\tlearn: 0.3541543\ttotal: 876ms\tremaining: 3.11s\n",
      "22:\tlearn: 0.3532813\ttotal: 916ms\tremaining: 3.07s\n",
      "23:\tlearn: 0.3526420\ttotal: 955ms\tremaining: 3.02s\n",
      "24:\tlearn: 0.3518055\ttotal: 995ms\tremaining: 2.98s\n",
      "25:\tlearn: 0.3509543\ttotal: 1.03s\tremaining: 2.94s\n",
      "26:\tlearn: 0.3499396\ttotal: 1.07s\tremaining: 2.9s\n",
      "27:\tlearn: 0.3493751\ttotal: 1.11s\tremaining: 2.85s\n",
      "28:\tlearn: 0.3485766\ttotal: 1.15s\tremaining: 2.81s\n",
      "29:\tlearn: 0.3476956\ttotal: 1.18s\tremaining: 2.76s\n",
      "30:\tlearn: 0.3469635\ttotal: 1.22s\tremaining: 2.72s\n",
      "31:\tlearn: 0.3458964\ttotal: 1.26s\tremaining: 2.68s\n",
      "32:\tlearn: 0.3452128\ttotal: 1.3s\tremaining: 2.64s\n",
      "33:\tlearn: 0.3444675\ttotal: 1.34s\tremaining: 2.6s\n",
      "34:\tlearn: 0.3439866\ttotal: 1.37s\tremaining: 2.55s\n",
      "35:\tlearn: 0.3431813\ttotal: 1.41s\tremaining: 2.51s\n",
      "36:\tlearn: 0.3423202\ttotal: 1.45s\tremaining: 2.47s\n",
      "37:\tlearn: 0.3416589\ttotal: 1.49s\tremaining: 2.43s\n",
      "38:\tlearn: 0.3407697\ttotal: 1.53s\tremaining: 2.39s\n",
      "39:\tlearn: 0.3401556\ttotal: 1.57s\tremaining: 2.35s\n",
      "40:\tlearn: 0.3396089\ttotal: 1.6s\tremaining: 2.31s\n",
      "41:\tlearn: 0.3390368\ttotal: 1.64s\tremaining: 2.26s\n",
      "42:\tlearn: 0.3384546\ttotal: 1.67s\tremaining: 2.22s\n",
      "43:\tlearn: 0.3379431\ttotal: 1.71s\tremaining: 2.17s\n",
      "44:\tlearn: 0.3372816\ttotal: 1.75s\tremaining: 2.14s\n",
      "45:\tlearn: 0.3365029\ttotal: 1.79s\tremaining: 2.1s\n",
      "46:\tlearn: 0.3356834\ttotal: 1.83s\tremaining: 2.06s\n",
      "47:\tlearn: 0.3349987\ttotal: 1.87s\tremaining: 2.03s\n",
      "48:\tlearn: 0.3343865\ttotal: 1.91s\tremaining: 1.99s\n",
      "49:\tlearn: 0.3338373\ttotal: 1.95s\tremaining: 1.95s\n",
      "50:\tlearn: 0.3332507\ttotal: 1.99s\tremaining: 1.91s\n",
      "51:\tlearn: 0.3325955\ttotal: 2.03s\tremaining: 1.87s\n",
      "52:\tlearn: 0.3320774\ttotal: 2.06s\tremaining: 1.83s\n",
      "53:\tlearn: 0.3314172\ttotal: 2.1s\tremaining: 1.79s\n",
      "54:\tlearn: 0.3307861\ttotal: 2.14s\tremaining: 1.75s\n",
      "55:\tlearn: 0.3300086\ttotal: 2.18s\tremaining: 1.72s\n",
      "56:\tlearn: 0.3294480\ttotal: 2.22s\tremaining: 1.68s\n",
      "57:\tlearn: 0.3286964\ttotal: 2.26s\tremaining: 1.64s\n",
      "58:\tlearn: 0.3282276\ttotal: 2.3s\tremaining: 1.6s\n",
      "59:\tlearn: 0.3274481\ttotal: 2.34s\tremaining: 1.56s\n",
      "60:\tlearn: 0.3267818\ttotal: 2.38s\tremaining: 1.52s\n",
      "61:\tlearn: 0.3262369\ttotal: 2.42s\tremaining: 1.48s\n",
      "62:\tlearn: 0.3256481\ttotal: 2.46s\tremaining: 1.44s\n",
      "63:\tlearn: 0.3248861\ttotal: 2.5s\tremaining: 1.41s\n",
      "64:\tlearn: 0.3243480\ttotal: 2.54s\tremaining: 1.37s\n",
      "65:\tlearn: 0.3236227\ttotal: 2.58s\tremaining: 1.33s\n",
      "66:\tlearn: 0.3230996\ttotal: 2.62s\tremaining: 1.29s\n",
      "67:\tlearn: 0.3225808\ttotal: 2.65s\tremaining: 1.25s\n",
      "68:\tlearn: 0.3220769\ttotal: 2.69s\tremaining: 1.21s\n",
      "69:\tlearn: 0.3216387\ttotal: 2.73s\tremaining: 1.17s\n",
      "70:\tlearn: 0.3213212\ttotal: 2.77s\tremaining: 1.13s\n",
      "71:\tlearn: 0.3208339\ttotal: 2.81s\tremaining: 1.09s\n",
      "72:\tlearn: 0.3202500\ttotal: 2.84s\tremaining: 1.05s\n",
      "73:\tlearn: 0.3194748\ttotal: 2.88s\tremaining: 1.01s\n",
      "74:\tlearn: 0.3191351\ttotal: 2.92s\tremaining: 973ms\n",
      "75:\tlearn: 0.3185116\ttotal: 2.96s\tremaining: 935ms\n",
      "76:\tlearn: 0.3179281\ttotal: 3s\tremaining: 896ms\n",
      "77:\tlearn: 0.3173541\ttotal: 3.04s\tremaining: 857ms\n",
      "78:\tlearn: 0.3170672\ttotal: 3.07s\tremaining: 817ms\n",
      "79:\tlearn: 0.3166964\ttotal: 3.11s\tremaining: 778ms\n",
      "80:\tlearn: 0.3161055\ttotal: 3.15s\tremaining: 740ms\n",
      "81:\tlearn: 0.3156660\ttotal: 3.19s\tremaining: 700ms\n",
      "82:\tlearn: 0.3150919\ttotal: 3.23s\tremaining: 662ms\n",
      "83:\tlearn: 0.3146664\ttotal: 3.27s\tremaining: 623ms\n",
      "84:\tlearn: 0.3142142\ttotal: 3.31s\tremaining: 583ms\n",
      "85:\tlearn: 0.3136395\ttotal: 3.34s\tremaining: 544ms\n",
      "86:\tlearn: 0.3131025\ttotal: 3.38s\tremaining: 506ms\n",
      "87:\tlearn: 0.3126113\ttotal: 3.42s\tremaining: 467ms\n",
      "88:\tlearn: 0.3122956\ttotal: 3.46s\tremaining: 427ms\n",
      "89:\tlearn: 0.3117723\ttotal: 3.5s\tremaining: 388ms\n",
      "90:\tlearn: 0.3113315\ttotal: 3.54s\tremaining: 350ms\n",
      "91:\tlearn: 0.3107337\ttotal: 3.58s\tremaining: 311ms\n",
      "92:\tlearn: 0.3102156\ttotal: 3.61s\tremaining: 272ms\n",
      "93:\tlearn: 0.3096119\ttotal: 3.65s\tremaining: 233ms\n",
      "94:\tlearn: 0.3090062\ttotal: 3.69s\tremaining: 194ms\n",
      "95:\tlearn: 0.3086267\ttotal: 3.73s\tremaining: 155ms\n",
      "96:\tlearn: 0.3080825\ttotal: 3.77s\tremaining: 117ms\n",
      "97:\tlearn: 0.3076400\ttotal: 3.81s\tremaining: 77.8ms\n",
      "98:\tlearn: 0.3072860\ttotal: 3.85s\tremaining: 38.9ms\n",
      "99:\tlearn: 0.3068456\ttotal: 3.89s\tremaining: 0us\n",
      "Learning rate set to 0.488883\n",
      "0:\tlearn: 0.4622167\ttotal: 52.4ms\tremaining: 5.18s\n",
      "1:\tlearn: 0.4079028\ttotal: 96.5ms\tremaining: 4.73s\n",
      "2:\tlearn: 0.3886644\ttotal: 140ms\tremaining: 4.54s\n",
      "3:\tlearn: 0.3807756\ttotal: 182ms\tremaining: 4.36s\n",
      "4:\tlearn: 0.3759747\ttotal: 221ms\tremaining: 4.2s\n",
      "5:\tlearn: 0.3722127\ttotal: 251ms\tremaining: 3.94s\n",
      "6:\tlearn: 0.3702440\ttotal: 288ms\tremaining: 3.83s\n",
      "7:\tlearn: 0.3685681\ttotal: 325ms\tremaining: 3.74s\n",
      "8:\tlearn: 0.3670553\ttotal: 362ms\tremaining: 3.66s\n",
      "9:\tlearn: 0.3656944\ttotal: 400ms\tremaining: 3.6s\n",
      "10:\tlearn: 0.3643894\ttotal: 437ms\tremaining: 3.53s\n",
      "11:\tlearn: 0.3631654\ttotal: 474ms\tremaining: 3.47s\n",
      "12:\tlearn: 0.3618826\ttotal: 512ms\tremaining: 3.43s\n",
      "13:\tlearn: 0.3609375\ttotal: 548ms\tremaining: 3.37s\n",
      "14:\tlearn: 0.3601982\ttotal: 587ms\tremaining: 3.32s\n",
      "15:\tlearn: 0.3591374\ttotal: 625ms\tremaining: 3.28s\n",
      "16:\tlearn: 0.3582767\ttotal: 663ms\tremaining: 3.24s\n",
      "17:\tlearn: 0.3574122\ttotal: 692ms\tremaining: 3.15s\n",
      "18:\tlearn: 0.3564480\ttotal: 729ms\tremaining: 3.11s\n",
      "19:\tlearn: 0.3558471\ttotal: 765ms\tremaining: 3.06s\n",
      "20:\tlearn: 0.3549850\ttotal: 801ms\tremaining: 3.01s\n",
      "21:\tlearn: 0.3540306\ttotal: 838ms\tremaining: 2.97s\n",
      "22:\tlearn: 0.3531367\ttotal: 876ms\tremaining: 2.93s\n",
      "23:\tlearn: 0.3521864\ttotal: 912ms\tremaining: 2.89s\n",
      "24:\tlearn: 0.3513933\ttotal: 950ms\tremaining: 2.85s\n",
      "25:\tlearn: 0.3506836\ttotal: 988ms\tremaining: 2.81s\n",
      "26:\tlearn: 0.3499104\ttotal: 1.02s\tremaining: 2.77s\n",
      "27:\tlearn: 0.3493579\ttotal: 1.06s\tremaining: 2.73s\n",
      "28:\tlearn: 0.3483628\ttotal: 1.1s\tremaining: 2.7s\n",
      "29:\tlearn: 0.3473739\ttotal: 1.14s\tremaining: 2.67s\n",
      "30:\tlearn: 0.3465127\ttotal: 1.18s\tremaining: 2.63s\n",
      "31:\tlearn: 0.3458422\ttotal: 1.22s\tremaining: 2.59s\n",
      "32:\tlearn: 0.3451645\ttotal: 1.26s\tremaining: 2.55s\n",
      "33:\tlearn: 0.3445482\ttotal: 1.29s\tremaining: 2.51s\n",
      "34:\tlearn: 0.3437507\ttotal: 1.33s\tremaining: 2.48s\n",
      "35:\tlearn: 0.3430916\ttotal: 1.37s\tremaining: 2.44s\n",
      "36:\tlearn: 0.3423879\ttotal: 1.41s\tremaining: 2.4s\n",
      "37:\tlearn: 0.3416489\ttotal: 1.45s\tremaining: 2.37s\n",
      "38:\tlearn: 0.3410449\ttotal: 1.49s\tremaining: 2.33s\n",
      "39:\tlearn: 0.3404870\ttotal: 1.53s\tremaining: 2.3s\n",
      "40:\tlearn: 0.3397169\ttotal: 1.57s\tremaining: 2.26s\n",
      "41:\tlearn: 0.3389462\ttotal: 1.61s\tremaining: 2.22s\n",
      "42:\tlearn: 0.3382586\ttotal: 1.65s\tremaining: 2.18s\n",
      "43:\tlearn: 0.3376371\ttotal: 1.68s\tremaining: 2.14s\n",
      "44:\tlearn: 0.3368629\ttotal: 1.72s\tremaining: 2.11s\n",
      "45:\tlearn: 0.3360762\ttotal: 1.76s\tremaining: 2.07s\n",
      "46:\tlearn: 0.3354347\ttotal: 1.8s\tremaining: 2.03s\n",
      "47:\tlearn: 0.3347333\ttotal: 1.84s\tremaining: 1.99s\n",
      "48:\tlearn: 0.3341214\ttotal: 1.88s\tremaining: 1.96s\n",
      "49:\tlearn: 0.3336599\ttotal: 1.92s\tremaining: 1.92s\n",
      "50:\tlearn: 0.3327694\ttotal: 1.96s\tremaining: 1.88s\n",
      "51:\tlearn: 0.3322745\ttotal: 2s\tremaining: 1.84s\n",
      "52:\tlearn: 0.3315346\ttotal: 2.04s\tremaining: 1.81s\n",
      "53:\tlearn: 0.3310493\ttotal: 2.08s\tremaining: 1.77s\n",
      "54:\tlearn: 0.3304289\ttotal: 2.12s\tremaining: 1.73s\n",
      "55:\tlearn: 0.3297998\ttotal: 2.16s\tremaining: 1.7s\n",
      "56:\tlearn: 0.3292388\ttotal: 2.2s\tremaining: 1.66s\n",
      "57:\tlearn: 0.3286877\ttotal: 2.24s\tremaining: 1.62s\n",
      "58:\tlearn: 0.3280692\ttotal: 2.28s\tremaining: 1.58s\n",
      "59:\tlearn: 0.3275219\ttotal: 2.32s\tremaining: 1.54s\n",
      "60:\tlearn: 0.3271003\ttotal: 2.35s\tremaining: 1.5s\n",
      "61:\tlearn: 0.3264827\ttotal: 2.39s\tremaining: 1.47s\n",
      "62:\tlearn: 0.3258610\ttotal: 2.43s\tremaining: 1.43s\n",
      "63:\tlearn: 0.3253007\ttotal: 2.47s\tremaining: 1.39s\n",
      "64:\tlearn: 0.3248010\ttotal: 2.51s\tremaining: 1.35s\n",
      "65:\tlearn: 0.3242200\ttotal: 2.55s\tremaining: 1.31s\n",
      "66:\tlearn: 0.3237410\ttotal: 2.58s\tremaining: 1.27s\n",
      "67:\tlearn: 0.3231050\ttotal: 2.62s\tremaining: 1.23s\n",
      "68:\tlearn: 0.3225195\ttotal: 2.65s\tremaining: 1.19s\n",
      "69:\tlearn: 0.3218602\ttotal: 2.69s\tremaining: 1.15s\n",
      "70:\tlearn: 0.3215125\ttotal: 2.73s\tremaining: 1.11s\n",
      "71:\tlearn: 0.3209578\ttotal: 2.76s\tremaining: 1.07s\n",
      "72:\tlearn: 0.3204838\ttotal: 2.8s\tremaining: 1.03s\n",
      "73:\tlearn: 0.3200572\ttotal: 2.83s\tremaining: 996ms\n",
      "74:\tlearn: 0.3196267\ttotal: 2.87s\tremaining: 958ms\n",
      "75:\tlearn: 0.3191951\ttotal: 2.91s\tremaining: 920ms\n",
      "76:\tlearn: 0.3185962\ttotal: 2.95s\tremaining: 882ms\n",
      "77:\tlearn: 0.3181336\ttotal: 2.99s\tremaining: 843ms\n"
     ]
    },
    {
     "name": "stdout",
     "output_type": "stream",
     "text": [
      "78:\tlearn: 0.3177611\ttotal: 3.03s\tremaining: 805ms\n",
      "79:\tlearn: 0.3170581\ttotal: 3.07s\tremaining: 767ms\n",
      "80:\tlearn: 0.3166468\ttotal: 3.1s\tremaining: 728ms\n",
      "81:\tlearn: 0.3162097\ttotal: 3.14s\tremaining: 690ms\n",
      "82:\tlearn: 0.3157048\ttotal: 3.18s\tremaining: 652ms\n",
      "83:\tlearn: 0.3153024\ttotal: 3.22s\tremaining: 613ms\n",
      "84:\tlearn: 0.3148538\ttotal: 3.26s\tremaining: 575ms\n",
      "85:\tlearn: 0.3140645\ttotal: 3.3s\tremaining: 537ms\n",
      "86:\tlearn: 0.3135512\ttotal: 3.34s\tremaining: 499ms\n",
      "87:\tlearn: 0.3132144\ttotal: 3.37s\tremaining: 460ms\n",
      "88:\tlearn: 0.3127655\ttotal: 3.41s\tremaining: 422ms\n",
      "89:\tlearn: 0.3121871\ttotal: 3.46s\tremaining: 384ms\n",
      "90:\tlearn: 0.3118632\ttotal: 3.49s\tremaining: 346ms\n",
      "91:\tlearn: 0.3113800\ttotal: 3.53s\tremaining: 307ms\n",
      "92:\tlearn: 0.3109811\ttotal: 3.57s\tremaining: 269ms\n",
      "93:\tlearn: 0.3104952\ttotal: 3.61s\tremaining: 231ms\n",
      "94:\tlearn: 0.3101346\ttotal: 3.65s\tremaining: 192ms\n",
      "95:\tlearn: 0.3097465\ttotal: 3.69s\tremaining: 154ms\n",
      "96:\tlearn: 0.3093300\ttotal: 3.73s\tremaining: 115ms\n",
      "97:\tlearn: 0.3087645\ttotal: 3.77s\tremaining: 76.9ms\n",
      "98:\tlearn: 0.3082738\ttotal: 3.81s\tremaining: 38.5ms\n",
      "99:\tlearn: 0.3077750\ttotal: 3.85s\tremaining: 0us\n",
      "Wall time: 1min 4s\n"
     ]
    },
    {
     "data": {
      "text/html": [
       "<div>\n",
       "<style scoped>\n",
       "    .dataframe tbody tr th:only-of-type {\n",
       "        vertical-align: middle;\n",
       "    }\n",
       "\n",
       "    .dataframe tbody tr th {\n",
       "        vertical-align: top;\n",
       "    }\n",
       "\n",
       "    .dataframe thead th {\n",
       "        text-align: right;\n",
       "    }\n",
       "</style>\n",
       "<table border=\"1\" class=\"dataframe\">\n",
       "  <thead>\n",
       "    <tr style=\"text-align: right;\">\n",
       "      <th></th>\n",
       "      <th>Model</th>\n",
       "      <th>Train score</th>\n",
       "      <th>Validation score</th>\n",
       "      <th>roc_auc_Score</th>\n",
       "    </tr>\n",
       "  </thead>\n",
       "  <tbody>\n",
       "    <tr>\n",
       "      <th>0</th>\n",
       "      <td>Baseline model -logistic</td>\n",
       "      <td>0.837249</td>\n",
       "      <td>0.837600</td>\n",
       "      <td>0.868596</td>\n",
       "    </tr>\n",
       "    <tr>\n",
       "      <th>0</th>\n",
       "      <td>Baseline model -Decision Tree</td>\n",
       "      <td>0.770124</td>\n",
       "      <td>0.765480</td>\n",
       "      <td>0.709744</td>\n",
       "    </tr>\n",
       "    <tr>\n",
       "      <th>0</th>\n",
       "      <td>Decision Tree-Hypertuned</td>\n",
       "      <td>0.804164</td>\n",
       "      <td>0.804227</td>\n",
       "      <td>0.764445</td>\n",
       "    </tr>\n",
       "    <tr>\n",
       "      <th>0</th>\n",
       "      <td>Bagging</td>\n",
       "      <td>0.837307</td>\n",
       "      <td>0.837693</td>\n",
       "      <td>0.868592</td>\n",
       "    </tr>\n",
       "    <tr>\n",
       "      <th>0</th>\n",
       "      <td>AdaBoost</td>\n",
       "      <td>0.827733</td>\n",
       "      <td>0.828427</td>\n",
       "      <td>0.852773</td>\n",
       "    </tr>\n",
       "    <tr>\n",
       "      <th>0</th>\n",
       "      <td>Random Forest</td>\n",
       "      <td>0.846018</td>\n",
       "      <td>0.844227</td>\n",
       "      <td>0.882456</td>\n",
       "    </tr>\n",
       "    <tr>\n",
       "      <th>0</th>\n",
       "      <td>Gradient Boosting</td>\n",
       "      <td>0.842556</td>\n",
       "      <td>0.843080</td>\n",
       "      <td>0.879835</td>\n",
       "    </tr>\n",
       "    <tr>\n",
       "      <th>0</th>\n",
       "      <td>XGBoost</td>\n",
       "      <td>0.842120</td>\n",
       "      <td>0.842853</td>\n",
       "      <td>0.879721</td>\n",
       "    </tr>\n",
       "    <tr>\n",
       "      <th>0</th>\n",
       "      <td>XGBoost RF</td>\n",
       "      <td>0.824467</td>\n",
       "      <td>0.824240</td>\n",
       "      <td>0.851470</td>\n",
       "    </tr>\n",
       "    <tr>\n",
       "      <th>0</th>\n",
       "      <td>LightGBM</td>\n",
       "      <td>0.847378</td>\n",
       "      <td>0.845520</td>\n",
       "      <td>0.887417</td>\n",
       "    </tr>\n",
       "    <tr>\n",
       "      <th>0</th>\n",
       "      <td>CatBoost</td>\n",
       "      <td>0.846138</td>\n",
       "      <td>0.841400</td>\n",
       "      <td>0.886933</td>\n",
       "    </tr>\n",
       "  </tbody>\n",
       "</table>\n",
       "</div>"
      ],
      "text/plain": [
       "                           Model  Train score  Validation score  roc_auc_Score\n",
       "0       Baseline model -logistic     0.837249          0.837600       0.868596\n",
       "0  Baseline model -Decision Tree     0.770124          0.765480       0.709744\n",
       "0       Decision Tree-Hypertuned     0.804164          0.804227       0.764445\n",
       "0                        Bagging     0.837307          0.837693       0.868592\n",
       "0                       AdaBoost     0.827733          0.828427       0.852773\n",
       "0                  Random Forest     0.846018          0.844227       0.882456\n",
       "0              Gradient Boosting     0.842556          0.843080       0.879835\n",
       "0                        XGBoost     0.842120          0.842853       0.879721\n",
       "0                     XGBoost RF     0.824467          0.824240       0.851470\n",
       "0                       LightGBM     0.847378          0.845520       0.887417\n",
       "0                       CatBoost     0.846138          0.841400       0.886933"
      ]
     },
     "execution_count": 74,
     "metadata": {},
     "output_type": "execute_result"
    }
   ],
   "source": [
    "%%time\n",
    "\n",
    "Model_perf = model_scoring(model_cb,' CatBoost',x_train,y_train,x_val,y_val,Model_perf)\n",
    "#Model_perf,model_bag = model_building(clf,param_grid,x_train,y_train,x_val,y_val,'Bagging',Model_perf)\n",
    "\n",
    "make_prediction(model_cb,xtest,xtest_id,'CB')\n",
    "\n",
    "Model_perf"
   ]
  },
  {
   "cell_type": "markdown",
   "metadata": {},
   "source": [
    "till now LightGBM has given best roc_auc_score . so will hypertune it and then train it"
   ]
  },
  {
   "cell_type": "markdown",
   "metadata": {},
   "source": [
    "##### Model - LightGBM (All Features+Hypertuned)"
   ]
  },
  {
   "cell_type": "code",
   "execution_count": 75,
   "metadata": {},
   "outputs": [
    {
     "name": "stdout",
     "output_type": "stream",
     "text": [
      "[LightGBM] [Warning] feature_fraction is set=0.4, colsample_bytree=1.0 will be ignored. Current value: feature_fraction=0.4\n",
      "[LightGBM] [Warning] Accuracy may be bad since you didn't set num_leaves and 2^max_depth > num_leaves\n",
      "[LightGBM] [Warning] feature_fraction is set=0.4, colsample_bytree=1.0 will be ignored. Current value: feature_fraction=0.4\n",
      "[LightGBM] [Warning] Accuracy may be bad since you didn't set num_leaves and 2^max_depth > num_leaves\n",
      "[LightGBM] [Warning] feature_fraction is set=0.4, colsample_bytree=1.0 will be ignored. Current value: feature_fraction=0.4\n",
      "[LightGBM] [Warning] Accuracy may be bad since you didn't set num_leaves and 2^max_depth > num_leaves\n",
      "[LightGBM] [Warning] feature_fraction is set=0.4, colsample_bytree=1.0 will be ignored. Current value: feature_fraction=0.4\n",
      "[LightGBM] [Warning] Accuracy may be bad since you didn't set num_leaves and 2^max_depth > num_leaves\n",
      "[LightGBM] [Warning] feature_fraction is set=0.4, colsample_bytree=1.0 will be ignored. Current value: feature_fraction=0.4\n",
      "[LightGBM] [Warning] Accuracy may be bad since you didn't set num_leaves and 2^max_depth > num_leaves\n",
      "[LightGBM] [Warning] feature_fraction is set=0.4, colsample_bytree=1.0 will be ignored. Current value: feature_fraction=0.4\n",
      "[LightGBM] [Warning] Accuracy may be bad since you didn't set num_leaves and 2^max_depth > num_leaves\n",
      "[LightGBM] [Warning] feature_fraction is set=0.4, colsample_bytree=1.0 will be ignored. Current value: feature_fraction=0.4\n",
      "[LightGBM] [Warning] Accuracy may be bad since you didn't set num_leaves and 2^max_depth > num_leaves\n",
      "[LightGBM] [Warning] feature_fraction is set=0.4, colsample_bytree=1.0 will be ignored. Current value: feature_fraction=0.4\n",
      "[LightGBM] [Warning] Accuracy may be bad since you didn't set num_leaves and 2^max_depth > num_leaves\n",
      "[LightGBM] [Warning] feature_fraction is set=0.4, colsample_bytree=1.0 will be ignored. Current value: feature_fraction=0.4\n",
      "[LightGBM] [Warning] Accuracy may be bad since you didn't set num_leaves and 2^max_depth > num_leaves\n",
      "[LightGBM] [Warning] feature_fraction is set=0.4, colsample_bytree=1.0 will be ignored. Current value: feature_fraction=0.4\n",
      "[LightGBM] [Warning] Accuracy may be bad since you didn't set num_leaves and 2^max_depth > num_leaves\n",
      "Wall time: 23min 27s\n"
     ]
    }
   ],
   "source": [
    "%%time\n",
    "\n",
    "clf = LGBMClassifier(random_state=100,n_estimators=100)\n",
    "\n",
    "param_grid = {'n_estimators':[100,200,300],\n",
    "            'learning_rate':[0.01, 0.1, 0.2],\n",
    "             'max_depth':[3,6,9,10],\n",
    "              'reg_alpha' : [0.0001, 0.001, 0.01],\n",
    "             'reg_lambda' : [0, 0.0001, 0.001, 0.01],\n",
    "            'min_child_samples' : [5, 10, 15,20],\n",
    "              'feature_fraction':[0.4,0.6,0.8]\n",
    "            }\n",
    "\n",
    "lgbm_grid =RandomizedSearchCV(estimator=clf,\n",
    "                              param_distributions=param_grid,\n",
    "                              cv=5,\n",
    "                              n_iter=100,\n",
    "                              n_jobs=-1,\n",
    "                              random_state=100)\n",
    "\n",
    "lgbm_grid.fit(x_train,y_train)\n",
    "\n",
    "lgbm_best = lgbm_grid.best_estimator_\n",
    "\n",
    "#Model_perf,model_lgbm1 = model_building(clf,param_grid,x_train,y_train,x_val,y_val,'LightGBM-Hypertuned',Model_perf)\n",
    "\n",
    "Model_perf = model_scoring(lgbm_best,'LGBM-Hypertuned',x_train,y_train,x_val,y_val,Model_perf)"
   ]
  },
  {
   "cell_type": "code",
   "execution_count": 76,
   "metadata": {},
   "outputs": [],
   "source": [
    "lgbm_best.best_iteration_"
   ]
  },
  {
   "cell_type": "code",
   "execution_count": 77,
   "metadata": {
    "scrolled": true
   },
   "outputs": [
    {
     "name": "stdout",
     "output_type": "stream",
     "text": [
      "Wall time: 4.74 s\n"
     ]
    },
    {
     "data": {
      "text/html": [
       "<div>\n",
       "<style scoped>\n",
       "    .dataframe tbody tr th:only-of-type {\n",
       "        vertical-align: middle;\n",
       "    }\n",
       "\n",
       "    .dataframe tbody tr th {\n",
       "        vertical-align: top;\n",
       "    }\n",
       "\n",
       "    .dataframe thead th {\n",
       "        text-align: right;\n",
       "    }\n",
       "</style>\n",
       "<table border=\"1\" class=\"dataframe\">\n",
       "  <thead>\n",
       "    <tr style=\"text-align: right;\">\n",
       "      <th></th>\n",
       "      <th>Model</th>\n",
       "      <th>Train score</th>\n",
       "      <th>Validation score</th>\n",
       "      <th>roc_auc_Score</th>\n",
       "    </tr>\n",
       "  </thead>\n",
       "  <tbody>\n",
       "    <tr>\n",
       "      <th>0</th>\n",
       "      <td>Baseline model -logistic</td>\n",
       "      <td>0.837249</td>\n",
       "      <td>0.837600</td>\n",
       "      <td>0.868596</td>\n",
       "    </tr>\n",
       "    <tr>\n",
       "      <th>0</th>\n",
       "      <td>Baseline model -Decision Tree</td>\n",
       "      <td>0.770124</td>\n",
       "      <td>0.765480</td>\n",
       "      <td>0.709744</td>\n",
       "    </tr>\n",
       "    <tr>\n",
       "      <th>0</th>\n",
       "      <td>Decision Tree-Hypertuned</td>\n",
       "      <td>0.804164</td>\n",
       "      <td>0.804227</td>\n",
       "      <td>0.764445</td>\n",
       "    </tr>\n",
       "    <tr>\n",
       "      <th>0</th>\n",
       "      <td>Bagging</td>\n",
       "      <td>0.837307</td>\n",
       "      <td>0.837693</td>\n",
       "      <td>0.868592</td>\n",
       "    </tr>\n",
       "    <tr>\n",
       "      <th>0</th>\n",
       "      <td>AdaBoost</td>\n",
       "      <td>0.827733</td>\n",
       "      <td>0.828427</td>\n",
       "      <td>0.852773</td>\n",
       "    </tr>\n",
       "    <tr>\n",
       "      <th>0</th>\n",
       "      <td>Random Forest</td>\n",
       "      <td>0.846018</td>\n",
       "      <td>0.844227</td>\n",
       "      <td>0.882456</td>\n",
       "    </tr>\n",
       "    <tr>\n",
       "      <th>0</th>\n",
       "      <td>Gradient Boosting</td>\n",
       "      <td>0.842556</td>\n",
       "      <td>0.843080</td>\n",
       "      <td>0.879835</td>\n",
       "    </tr>\n",
       "    <tr>\n",
       "      <th>0</th>\n",
       "      <td>XGBoost</td>\n",
       "      <td>0.842120</td>\n",
       "      <td>0.842853</td>\n",
       "      <td>0.879721</td>\n",
       "    </tr>\n",
       "    <tr>\n",
       "      <th>0</th>\n",
       "      <td>XGBoost RF</td>\n",
       "      <td>0.824467</td>\n",
       "      <td>0.824240</td>\n",
       "      <td>0.851470</td>\n",
       "    </tr>\n",
       "    <tr>\n",
       "      <th>0</th>\n",
       "      <td>LightGBM</td>\n",
       "      <td>0.847378</td>\n",
       "      <td>0.845520</td>\n",
       "      <td>0.887417</td>\n",
       "    </tr>\n",
       "    <tr>\n",
       "      <th>0</th>\n",
       "      <td>CatBoost</td>\n",
       "      <td>0.846138</td>\n",
       "      <td>0.841400</td>\n",
       "      <td>0.886933</td>\n",
       "    </tr>\n",
       "    <tr>\n",
       "      <th>0</th>\n",
       "      <td>LGBM-Hypertuned</td>\n",
       "      <td>0.849182</td>\n",
       "      <td>0.846453</td>\n",
       "      <td>0.889990</td>\n",
       "    </tr>\n",
       "  </tbody>\n",
       "</table>\n",
       "</div>"
      ],
      "text/plain": [
       "                           Model  Train score  Validation score  roc_auc_Score\n",
       "0       Baseline model -logistic     0.837249          0.837600       0.868596\n",
       "0  Baseline model -Decision Tree     0.770124          0.765480       0.709744\n",
       "0       Decision Tree-Hypertuned     0.804164          0.804227       0.764445\n",
       "0                        Bagging     0.837307          0.837693       0.868592\n",
       "0                       AdaBoost     0.827733          0.828427       0.852773\n",
       "0                  Random Forest     0.846018          0.844227       0.882456\n",
       "0              Gradient Boosting     0.842556          0.843080       0.879835\n",
       "0                        XGBoost     0.842120          0.842853       0.879721\n",
       "0                     XGBoost RF     0.824467          0.824240       0.851470\n",
       "0                       LightGBM     0.847378          0.845520       0.887417\n",
       "0                       CatBoost     0.846138          0.841400       0.886933\n",
       "0                LGBM-Hypertuned     0.849182          0.846453       0.889990"
      ]
     },
     "execution_count": 77,
     "metadata": {},
     "output_type": "execute_result"
    }
   ],
   "source": [
    "%%time\n",
    "\n",
    "make_prediction(lgbm_best,xtest,xtest_id,'LGBM-HP')\n",
    "\n",
    "Model_perf"
   ]
  },
  {
   "cell_type": "markdown",
   "metadata": {},
   "source": [
    "##### Blending"
   ]
  },
  {
   "cell_type": "markdown",
   "metadata": {},
   "source": [
    "We can use blending technique in which we will provide different weights to different models and then calculate the predication made by these models"
   ]
  },
  {
   "cell_type": "code",
   "execution_count": 78,
   "metadata": {},
   "outputs": [],
   "source": [
    "def blending_model(model1,model2,model3,w1,w2,w3):\n",
    "    test_pred = (w1 * model1.predict_proba(xtest)[:,1]) + (w2* model2.predict_proba(xtest)[:,1]) + (w3* model3.predict_proba(xtest)[:,1])\n",
    "    return test_pred"
   ]
  },
  {
   "cell_type": "markdown",
   "metadata": {},
   "source": [
    "#### 5.4.1 Blending ( LGBM, catboost, LGBM-Hypertuned)"
   ]
  },
  {
   "cell_type": "code",
   "execution_count": 79,
   "metadata": {},
   "outputs": [
    {
     "data": {
      "text/html": [
       "<div>\n",
       "<style scoped>\n",
       "    .dataframe tbody tr th:only-of-type {\n",
       "        vertical-align: middle;\n",
       "    }\n",
       "\n",
       "    .dataframe tbody tr th {\n",
       "        vertical-align: top;\n",
       "    }\n",
       "\n",
       "    .dataframe thead th {\n",
       "        text-align: right;\n",
       "    }\n",
       "</style>\n",
       "<table border=\"1\" class=\"dataframe\">\n",
       "  <thead>\n",
       "    <tr style=\"text-align: right;\">\n",
       "      <th></th>\n",
       "      <th>id</th>\n",
       "      <th>target</th>\n",
       "    </tr>\n",
       "  </thead>\n",
       "  <tbody>\n",
       "    <tr>\n",
       "      <th>0</th>\n",
       "      <td>5</td>\n",
       "      <td>0.23</td>\n",
       "    </tr>\n",
       "    <tr>\n",
       "      <th>1</th>\n",
       "      <td>6</td>\n",
       "      <td>1.04</td>\n",
       "    </tr>\n",
       "    <tr>\n",
       "      <th>2</th>\n",
       "      <td>8</td>\n",
       "      <td>0.07</td>\n",
       "    </tr>\n",
       "    <tr>\n",
       "      <th>3</th>\n",
       "      <td>9</td>\n",
       "      <td>0.31</td>\n",
       "    </tr>\n",
       "    <tr>\n",
       "      <th>4</th>\n",
       "      <td>11</td>\n",
       "      <td>0.30</td>\n",
       "    </tr>\n",
       "  </tbody>\n",
       "</table>\n",
       "</div>"
      ],
      "text/plain": [
       "   id  target\n",
       "0   5    0.23\n",
       "1   6    1.04\n",
       "2   8    0.07\n",
       "3   9    0.31\n",
       "4  11    0.30"
      ]
     },
     "execution_count": 79,
     "metadata": {},
     "output_type": "execute_result"
    }
   ],
   "source": [
    "test_pred = np.round(blending_model(model_lgbm,model_cb,lgbm_best,0.6,0.5,0.8),2)\n",
    "\n",
    "submission = pd.DataFrame({'id':xtest_id, 'target':test_pred})\n",
    "submission.to_csv('Submission/submission_blend.csv',index=False)\n",
    "\n",
    "submission.head()"
   ]
  },
  {
   "cell_type": "code",
   "execution_count": 80,
   "metadata": {},
   "outputs": [
    {
     "data": {
      "text/html": [
       "<div>\n",
       "<style scoped>\n",
       "    .dataframe tbody tr th:only-of-type {\n",
       "        vertical-align: middle;\n",
       "    }\n",
       "\n",
       "    .dataframe tbody tr th {\n",
       "        vertical-align: top;\n",
       "    }\n",
       "\n",
       "    .dataframe thead th {\n",
       "        text-align: right;\n",
       "    }\n",
       "</style>\n",
       "<table border=\"1\" class=\"dataframe\">\n",
       "  <thead>\n",
       "    <tr style=\"text-align: right;\">\n",
       "      <th></th>\n",
       "      <th>rank</th>\n",
       "      <th>feature</th>\n",
       "      <th>importance</th>\n",
       "    </tr>\n",
       "  </thead>\n",
       "  <tbody>\n",
       "    <tr>\n",
       "      <th>0</th>\n",
       "      <td>1</td>\n",
       "      <td>cont4</td>\n",
       "      <td>619</td>\n",
       "    </tr>\n",
       "    <tr>\n",
       "      <th>1</th>\n",
       "      <td>2</td>\n",
       "      <td>cat10</td>\n",
       "      <td>601</td>\n",
       "    </tr>\n",
       "    <tr>\n",
       "      <th>2</th>\n",
       "      <td>3</td>\n",
       "      <td>cont2</td>\n",
       "      <td>551</td>\n",
       "    </tr>\n",
       "    <tr>\n",
       "      <th>3</th>\n",
       "      <td>4</td>\n",
       "      <td>cont5</td>\n",
       "      <td>530</td>\n",
       "    </tr>\n",
       "    <tr>\n",
       "      <th>4</th>\n",
       "      <td>5</td>\n",
       "      <td>cont1</td>\n",
       "      <td>505</td>\n",
       "    </tr>\n",
       "  </tbody>\n",
       "</table>\n",
       "</div>"
      ],
      "text/plain": [
       "  rank feature importance\n",
       "0    1   cont4        619\n",
       "1    2   cat10        601\n",
       "2    3   cont2        551\n",
       "3    4   cont5        530\n",
       "4    5   cont1        505"
      ]
     },
     "execution_count": 80,
     "metadata": {},
     "output_type": "execute_result"
    }
   ],
   "source": [
    "indices = np.argsort(lgbm_best.feature_importances_)[::-1]\n",
    "feature_rank = pd.DataFrame(columns=['rank','feature','importance'])\n",
    "\n",
    "for f in range(x_train.shape[1]):\n",
    "    feature_rank.loc[f] = [f+1,\n",
    "                           x_train.columns[indices[f]],\n",
    "                          lgbm_best.feature_importances_[indices[f]]]\n",
    "\n",
    "feature_rank.head()"
   ]
  },
  {
   "cell_type": "code",
   "execution_count": 81,
   "metadata": {},
   "outputs": [
    {
     "data": {
      "image/png": "[encoded data removed]",
      "text/plain": [
       "<Figure size 864x3456 with 1 Axes>"
      ]
     },
     "metadata": {},
     "output_type": "display_data"
    }
   ],
   "source": [
    "plt.figure(figsize=(12,48))\n",
    "plt.title(\"Feature importance chart by LGBM Model\",fontsize=14,fontweight='bold')\n",
    "sns.barplot( y = 'feature', x = 'importance', data = feature_rank,palette='colorblind');"
   ]
  },
  {
   "cell_type": "markdown",
   "metadata": {},
   "source": [
    "We will select top 20 features and then train the model on these features"
   ]
  },
  {
   "cell_type": "code",
   "execution_count": 82,
   "metadata": {},
   "outputs": [
    {
     "name": "stdout",
     "output_type": "stream",
     "text": [
      "['cont4', 'cat10', 'cont2', 'cont5', 'cont1', 'cont6', 'cont7', 'cont8', 'cont3', 'cont0', 'cont9', 'cat8', 'cont10', 'cat7', 'cat1', 'cat2', 'cat4', 'cat9', 'cat6', 'cat5']\n"
     ]
    }
   ],
   "source": [
    "top20_cols = feature_rank['feature'].values[:20].tolist()\n",
    "print(top20_cols)"
   ]
  },
  {
   "cell_type": "code",
   "execution_count": 83,
   "metadata": {},
   "outputs": [],
   "source": [
    "x_train20 = x_train[top20_cols]\n",
    "x_val20 = x_val[top20_cols]"
   ]
  },
  {
   "cell_type": "markdown",
   "metadata": {},
   "source": [
    "##### Model - LightGBM (top 20 features +Hypertuned)"
   ]
  },
  {
   "cell_type": "code",
   "execution_count": 84,
   "metadata": {},
   "outputs": [
    {
     "name": "stdout",
     "output_type": "stream",
     "text": [
      "[LightGBM] [Warning] feature_fraction is set=0.4, colsample_bytree=1.0 will be ignored. Current value: feature_fraction=0.4\n",
      "[LightGBM] [Warning] Accuracy may be bad since you didn't set num_leaves and 2^max_depth > num_leaves\n",
      "[LightGBM] [Warning] feature_fraction is set=0.4, colsample_bytree=1.0 will be ignored. Current value: feature_fraction=0.4\n",
      "[LightGBM] [Warning] Accuracy may be bad since you didn't set num_leaves and 2^max_depth > num_leaves\n",
      "[LightGBM] [Warning] feature_fraction is set=0.4, colsample_bytree=1.0 will be ignored. Current value: feature_fraction=0.4\n",
      "[LightGBM] [Warning] Accuracy may be bad since you didn't set num_leaves and 2^max_depth > num_leaves\n",
      "[LightGBM] [Warning] feature_fraction is set=0.4, colsample_bytree=1.0 will be ignored. Current value: feature_fraction=0.4\n",
      "[LightGBM] [Warning] Accuracy may be bad since you didn't set num_leaves and 2^max_depth > num_leaves\n",
      "[LightGBM] [Warning] feature_fraction is set=0.4, colsample_bytree=1.0 will be ignored. Current value: feature_fraction=0.4\n",
      "[LightGBM] [Warning] Accuracy may be bad since you didn't set num_leaves and 2^max_depth > num_leaves\n",
      "[LightGBM] [Warning] feature_fraction is set=0.4, colsample_bytree=1.0 will be ignored. Current value: feature_fraction=0.4\n",
      "[LightGBM] [Warning] Accuracy may be bad since you didn't set num_leaves and 2^max_depth > num_leaves\n",
      "[LightGBM] [Warning] feature_fraction is set=0.4, colsample_bytree=1.0 will be ignored. Current value: feature_fraction=0.4\n",
      "[LightGBM] [Warning] Accuracy may be bad since you didn't set num_leaves and 2^max_depth > num_leaves\n",
      "[LightGBM] [Warning] feature_fraction is set=0.4, colsample_bytree=1.0 will be ignored. Current value: feature_fraction=0.4\n",
      "[LightGBM] [Warning] Accuracy may be bad since you didn't set num_leaves and 2^max_depth > num_leaves\n",
      "[LightGBM] [Warning] feature_fraction is set=0.4, colsample_bytree=1.0 will be ignored. Current value: feature_fraction=0.4\n",
      "[LightGBM] [Warning] Accuracy may be bad since you didn't set num_leaves and 2^max_depth > num_leaves\n",
      "[LightGBM] [Warning] feature_fraction is set=0.4, colsample_bytree=1.0 will be ignored. Current value: feature_fraction=0.4\n",
      "[LightGBM] [Warning] Accuracy may be bad since you didn't set num_leaves and 2^max_depth > num_leaves\n",
      "Wall time: 19min 19s\n"
     ]
    }
   ],
   "source": [
    "%%time\n",
    "\n",
    "clf = LGBMClassifier(random_state=100,n_estimators=100)\n",
    "\n",
    "param_grid = {'n_estimators':[100,200,300],\n",
    "            'learning_rate':[0.01, 0.1, 0.2],\n",
    "             'max_depth':[3,6,9,10],\n",
    "              'reg_alpha' : [0.0001, 0.001, 0.01],\n",
    "             'reg_lambda' : [0, 0.0001, 0.001, 0.01],\n",
    "            'min_child_samples' : [5, 10, 15,20],\n",
    "              'feature_fraction':[0.4,0.6,0.8]\n",
    "            }\n",
    "\n",
    "lgbm_grid =RandomizedSearchCV(estimator=clf,\n",
    "                              param_distributions=param_grid,\n",
    "                              cv=5,\n",
    "                              n_iter=100,\n",
    "                              n_jobs=-1,\n",
    "                              random_state=100)\n",
    "\n",
    "lgbm_grid.fit(x_train20,y_train)\n",
    "\n",
    "lgbm_best20 = lgbm_grid.best_estimator_\n",
    "\n",
    "#Model_perf,model_lgbm1 = model_building(clf,param_grid,x_train,y_train,x_val,y_val,'LightGBM-Hypertuned',Model_perf)\n",
    "\n",
    "Model_perf = model_scoring(lgbm_best20,'LGBM-20features+Hypertuned',x_train20,y_train,x_val20,y_val,Model_perf)"
   ]
  },
  {
   "cell_type": "code",
   "execution_count": 85,
   "metadata": {},
   "outputs": [
    {
     "data": {
      "text/plain": [
       "array([[0.86473187, 0.13526813],\n",
       "       [0.59999535, 0.40000465],\n",
       "       [0.93509409, 0.06490591],\n",
       "       ...,\n",
       "       [0.43374158, 0.56625842],\n",
       "       [0.83986698, 0.16013302],\n",
       "       [0.54617103, 0.45382897]])"
      ]
     },
     "execution_count": 85,
     "metadata": {},
     "output_type": "execute_result"
    }
   ],
   "source": [
    "lgbm_best20.predict_proba(xtest[top20_cols])"
   ]
  },
  {
   "cell_type": "code",
   "execution_count": 86,
   "metadata": {},
   "outputs": [
    {
     "name": "stdout",
     "output_type": "stream",
     "text": [
      "Wall time: 1.98 s\n"
     ]
    },
    {
     "data": {
      "text/html": [
       "<div>\n",
       "<style scoped>\n",
       "    .dataframe tbody tr th:only-of-type {\n",
       "        vertical-align: middle;\n",
       "    }\n",
       "\n",
       "    .dataframe tbody tr th {\n",
       "        vertical-align: top;\n",
       "    }\n",
       "\n",
       "    .dataframe thead th {\n",
       "        text-align: right;\n",
       "    }\n",
       "</style>\n",
       "<table border=\"1\" class=\"dataframe\">\n",
       "  <thead>\n",
       "    <tr style=\"text-align: right;\">\n",
       "      <th></th>\n",
       "      <th>Model</th>\n",
       "      <th>Train score</th>\n",
       "      <th>Validation score</th>\n",
       "      <th>roc_auc_Score</th>\n",
       "    </tr>\n",
       "  </thead>\n",
       "  <tbody>\n",
       "    <tr>\n",
       "      <th>0</th>\n",
       "      <td>Baseline model -logistic</td>\n",
       "      <td>0.837249</td>\n",
       "      <td>0.837600</td>\n",
       "      <td>0.868596</td>\n",
       "    </tr>\n",
       "    <tr>\n",
       "      <th>0</th>\n",
       "      <td>Baseline model -Decision Tree</td>\n",
       "      <td>0.770124</td>\n",
       "      <td>0.765480</td>\n",
       "      <td>0.709744</td>\n",
       "    </tr>\n",
       "    <tr>\n",
       "      <th>0</th>\n",
       "      <td>Decision Tree-Hypertuned</td>\n",
       "      <td>0.804164</td>\n",
       "      <td>0.804227</td>\n",
       "      <td>0.764445</td>\n",
       "    </tr>\n",
       "    <tr>\n",
       "      <th>0</th>\n",
       "      <td>Bagging</td>\n",
       "      <td>0.837307</td>\n",
       "      <td>0.837693</td>\n",
       "      <td>0.868592</td>\n",
       "    </tr>\n",
       "    <tr>\n",
       "      <th>0</th>\n",
       "      <td>AdaBoost</td>\n",
       "      <td>0.827733</td>\n",
       "      <td>0.828427</td>\n",
       "      <td>0.852773</td>\n",
       "    </tr>\n",
       "    <tr>\n",
       "      <th>0</th>\n",
       "      <td>Random Forest</td>\n",
       "      <td>0.846018</td>\n",
       "      <td>0.844227</td>\n",
       "      <td>0.882456</td>\n",
       "    </tr>\n",
       "    <tr>\n",
       "      <th>0</th>\n",
       "      <td>Gradient Boosting</td>\n",
       "      <td>0.842556</td>\n",
       "      <td>0.843080</td>\n",
       "      <td>0.879835</td>\n",
       "    </tr>\n",
       "    <tr>\n",
       "      <th>0</th>\n",
       "      <td>XGBoost</td>\n",
       "      <td>0.842120</td>\n",
       "      <td>0.842853</td>\n",
       "      <td>0.879721</td>\n",
       "    </tr>\n",
       "    <tr>\n",
       "      <th>0</th>\n",
       "      <td>XGBoost RF</td>\n",
       "      <td>0.824467</td>\n",
       "      <td>0.824240</td>\n",
       "      <td>0.851470</td>\n",
       "    </tr>\n",
       "    <tr>\n",
       "      <th>0</th>\n",
       "      <td>LightGBM</td>\n",
       "      <td>0.847378</td>\n",
       "      <td>0.845520</td>\n",
       "      <td>0.887417</td>\n",
       "    </tr>\n",
       "    <tr>\n",
       "      <th>0</th>\n",
       "      <td>CatBoost</td>\n",
       "      <td>0.846138</td>\n",
       "      <td>0.841400</td>\n",
       "      <td>0.886933</td>\n",
       "    </tr>\n",
       "    <tr>\n",
       "      <th>0</th>\n",
       "      <td>LGBM-Hypertuned</td>\n",
       "      <td>0.849182</td>\n",
       "      <td>0.846453</td>\n",
       "      <td>0.889990</td>\n",
       "    </tr>\n",
       "    <tr>\n",
       "      <th>0</th>\n",
       "      <td>LGBM-20features+Hypertuned</td>\n",
       "      <td>0.833049</td>\n",
       "      <td>0.827947</td>\n",
       "      <td>0.867817</td>\n",
       "    </tr>\n",
       "  </tbody>\n",
       "</table>\n",
       "</div>"
      ],
      "text/plain": [
       "                           Model  Train score  Validation score  roc_auc_Score\n",
       "0       Baseline model -logistic     0.837249          0.837600       0.868596\n",
       "0  Baseline model -Decision Tree     0.770124          0.765480       0.709744\n",
       "0       Decision Tree-Hypertuned     0.804164          0.804227       0.764445\n",
       "0                        Bagging     0.837307          0.837693       0.868592\n",
       "0                       AdaBoost     0.827733          0.828427       0.852773\n",
       "0                  Random Forest     0.846018          0.844227       0.882456\n",
       "0              Gradient Boosting     0.842556          0.843080       0.879835\n",
       "0                        XGBoost     0.842120          0.842853       0.879721\n",
       "0                     XGBoost RF     0.824467          0.824240       0.851470\n",
       "0                       LightGBM     0.847378          0.845520       0.887417\n",
       "0                       CatBoost     0.846138          0.841400       0.886933\n",
       "0                LGBM-Hypertuned     0.849182          0.846453       0.889990\n",
       "0     LGBM-20features+Hypertuned     0.833049          0.827947       0.867817"
      ]
     },
     "execution_count": 86,
     "metadata": {},
     "output_type": "execute_result"
    }
   ],
   "source": [
    "%%time\n",
    "\n",
    "make_prediction(lgbm_best20,xtest[top20_cols],xtest_id,'LGBM20-HP')\n",
    "\n",
    "Model_perf"
   ]
  },
  {
   "cell_type": "code",
   "execution_count": null,
   "metadata": {},
   "outputs": [],
   "source": []
  },
  {
   "cell_type": "code",
   "execution_count": 87,
   "metadata": {},
   "outputs": [
    {
     "name": "stdout",
     "output_type": "stream",
     "text": [
      "['cont4', 'cat10', 'cont2', 'cont5', 'cont1', 'cont6', 'cont7', 'cont8', 'cont3', 'cont0', 'cont9', 'cat8', 'cont10', 'cat7', 'cat1', 'cat2', 'cat4', 'cat9', 'cat6', 'cat5', 'cat16', 'cat3', 'cat17', 'cat15', 'cat18']\n"
     ]
    }
   ],
   "source": [
    "top25_cols = feature_rank['feature'].values[:25].tolist()\n",
    "print(top25_cols)"
   ]
  },
  {
   "cell_type": "code",
   "execution_count": 88,
   "metadata": {},
   "outputs": [],
   "source": [
    "x_train25 = x_train[top25_cols]\n",
    "x_val25 = x_val[top25_cols]"
   ]
  },
  {
   "cell_type": "markdown",
   "metadata": {},
   "source": [
    "##### Model - LightGBM (top 25 features +Hypertuned)"
   ]
  },
  {
   "cell_type": "code",
   "execution_count": 89,
   "metadata": {},
   "outputs": [
    {
     "name": "stdout",
     "output_type": "stream",
     "text": [
      "[LightGBM] [Warning] feature_fraction is set=0.4, colsample_bytree=1.0 will be ignored. Current value: feature_fraction=0.4\n",
      "[LightGBM] [Warning] Accuracy may be bad since you didn't set num_leaves and 2^max_depth > num_leaves\n",
      "[LightGBM] [Warning] feature_fraction is set=0.4, colsample_bytree=1.0 will be ignored. Current value: feature_fraction=0.4\n",
      "[LightGBM] [Warning] Accuracy may be bad since you didn't set num_leaves and 2^max_depth > num_leaves\n",
      "[LightGBM] [Warning] feature_fraction is set=0.4, colsample_bytree=1.0 will be ignored. Current value: feature_fraction=0.4\n",
      "[LightGBM] [Warning] Accuracy may be bad since you didn't set num_leaves and 2^max_depth > num_leaves\n",
      "[LightGBM] [Warning] feature_fraction is set=0.4, colsample_bytree=1.0 will be ignored. Current value: feature_fraction=0.4\n",
      "[LightGBM] [Warning] Accuracy may be bad since you didn't set num_leaves and 2^max_depth > num_leaves\n",
      "[LightGBM] [Warning] feature_fraction is set=0.4, colsample_bytree=1.0 will be ignored. Current value: feature_fraction=0.4\n",
      "[LightGBM] [Warning] Accuracy may be bad since you didn't set num_leaves and 2^max_depth > num_leaves\n",
      "[LightGBM] [Warning] feature_fraction is set=0.4, colsample_bytree=1.0 will be ignored. Current value: feature_fraction=0.4\n",
      "[LightGBM] [Warning] Accuracy may be bad since you didn't set num_leaves and 2^max_depth > num_leaves\n",
      "[LightGBM] [Warning] feature_fraction is set=0.4, colsample_bytree=1.0 will be ignored. Current value: feature_fraction=0.4\n",
      "[LightGBM] [Warning] Accuracy may be bad since you didn't set num_leaves and 2^max_depth > num_leaves\n",
      "[LightGBM] [Warning] feature_fraction is set=0.4, colsample_bytree=1.0 will be ignored. Current value: feature_fraction=0.4\n",
      "[LightGBM] [Warning] Accuracy may be bad since you didn't set num_leaves and 2^max_depth > num_leaves\n",
      "[LightGBM] [Warning] feature_fraction is set=0.4, colsample_bytree=1.0 will be ignored. Current value: feature_fraction=0.4\n",
      "[LightGBM] [Warning] Accuracy may be bad since you didn't set num_leaves and 2^max_depth > num_leaves\n",
      "[LightGBM] [Warning] feature_fraction is set=0.4, colsample_bytree=1.0 will be ignored. Current value: feature_fraction=0.4\n",
      "[LightGBM] [Warning] Accuracy may be bad since you didn't set num_leaves and 2^max_depth > num_leaves\n",
      "Wall time: 17min 31s\n"
     ]
    }
   ],
   "source": [
    "%%time\n",
    "\n",
    "clf = LGBMClassifier(random_state=100,n_estimators=100)\n",
    "\n",
    "param_grid = {'n_estimators':[100,200,300],\n",
    "            'learning_rate':[0.01, 0.1, 0.2],\n",
    "             'max_depth':[3,6,9,10],\n",
    "              'reg_alpha' : [0.0001, 0.001, 0.01],\n",
    "             'reg_lambda' : [0, 0.0001, 0.001, 0.01],\n",
    "            'min_child_samples' : [5, 10, 15,20],\n",
    "              'feature_fraction':[0.4,0.6,0.8]\n",
    "            }\n",
    "\n",
    "lgbm_grid =RandomizedSearchCV(estimator=clf,\n",
    "                              param_distributions=param_grid,\n",
    "                              cv=5,\n",
    "                              n_iter=100,\n",
    "                              n_jobs=-1,\n",
    "                              random_state=100)\n",
    "\n",
    "lgbm_grid.fit(x_train25,y_train)\n",
    "\n",
    "lgbm_best25 = lgbm_grid.best_estimator_\n",
    "\n",
    "#Model_perf,model_lgbm1 = model_building(clf,param_grid,x_train,y_train,x_val,y_val,'LightGBM-Hypertuned',Model_perf)\n",
    "\n",
    "Model_perf = model_scoring(lgbm_best25,'LGBM-25features+Hypertuned',x_train25,y_train,x_val25,y_val,Model_perf)"
   ]
  },
  {
   "cell_type": "code",
   "execution_count": 90,
   "metadata": {},
   "outputs": [
    {
     "data": {
      "text/plain": [
       "array([[0.86299813, 0.13700187],\n",
       "       [0.48235476, 0.51764524],\n",
       "       [0.95836201, 0.04163799],\n",
       "       ...,\n",
       "       [0.38547657, 0.61452343],\n",
       "       [0.89379136, 0.10620864],\n",
       "       [0.3459053 , 0.6540947 ]])"
      ]
     },
     "execution_count": 90,
     "metadata": {},
     "output_type": "execute_result"
    }
   ],
   "source": [
    "lgbm_best25.predict_proba(xtest[top25_cols])"
   ]
  },
  {
   "cell_type": "code",
   "execution_count": 91,
   "metadata": {},
   "outputs": [
    {
     "name": "stdout",
     "output_type": "stream",
     "text": [
      "Wall time: 2.01 s\n"
     ]
    },
    {
     "data": {
      "text/html": [
       "<div>\n",
       "<style scoped>\n",
       "    .dataframe tbody tr th:only-of-type {\n",
       "        vertical-align: middle;\n",
       "    }\n",
       "\n",
       "    .dataframe tbody tr th {\n",
       "        vertical-align: top;\n",
       "    }\n",
       "\n",
       "    .dataframe thead th {\n",
       "        text-align: right;\n",
       "    }\n",
       "</style>\n",
       "<table border=\"1\" class=\"dataframe\">\n",
       "  <thead>\n",
       "    <tr style=\"text-align: right;\">\n",
       "      <th></th>\n",
       "      <th>Model</th>\n",
       "      <th>Train score</th>\n",
       "      <th>Validation score</th>\n",
       "      <th>roc_auc_Score</th>\n",
       "    </tr>\n",
       "  </thead>\n",
       "  <tbody>\n",
       "    <tr>\n",
       "      <th>0</th>\n",
       "      <td>Baseline model -logistic</td>\n",
       "      <td>0.837249</td>\n",
       "      <td>0.837600</td>\n",
       "      <td>0.868596</td>\n",
       "    </tr>\n",
       "    <tr>\n",
       "      <th>0</th>\n",
       "      <td>Baseline model -Decision Tree</td>\n",
       "      <td>0.770124</td>\n",
       "      <td>0.765480</td>\n",
       "      <td>0.709744</td>\n",
       "    </tr>\n",
       "    <tr>\n",
       "      <th>0</th>\n",
       "      <td>Decision Tree-Hypertuned</td>\n",
       "      <td>0.804164</td>\n",
       "      <td>0.804227</td>\n",
       "      <td>0.764445</td>\n",
       "    </tr>\n",
       "    <tr>\n",
       "      <th>0</th>\n",
       "      <td>Bagging</td>\n",
       "      <td>0.837307</td>\n",
       "      <td>0.837693</td>\n",
       "      <td>0.868592</td>\n",
       "    </tr>\n",
       "    <tr>\n",
       "      <th>0</th>\n",
       "      <td>AdaBoost</td>\n",
       "      <td>0.827733</td>\n",
       "      <td>0.828427</td>\n",
       "      <td>0.852773</td>\n",
       "    </tr>\n",
       "    <tr>\n",
       "      <th>0</th>\n",
       "      <td>Random Forest</td>\n",
       "      <td>0.846018</td>\n",
       "      <td>0.844227</td>\n",
       "      <td>0.882456</td>\n",
       "    </tr>\n",
       "    <tr>\n",
       "      <th>0</th>\n",
       "      <td>Gradient Boosting</td>\n",
       "      <td>0.842556</td>\n",
       "      <td>0.843080</td>\n",
       "      <td>0.879835</td>\n",
       "    </tr>\n",
       "    <tr>\n",
       "      <th>0</th>\n",
       "      <td>XGBoost</td>\n",
       "      <td>0.842120</td>\n",
       "      <td>0.842853</td>\n",
       "      <td>0.879721</td>\n",
       "    </tr>\n",
       "    <tr>\n",
       "      <th>0</th>\n",
       "      <td>XGBoost RF</td>\n",
       "      <td>0.824467</td>\n",
       "      <td>0.824240</td>\n",
       "      <td>0.851470</td>\n",
       "    </tr>\n",
       "    <tr>\n",
       "      <th>0</th>\n",
       "      <td>LightGBM</td>\n",
       "      <td>0.847378</td>\n",
       "      <td>0.845520</td>\n",
       "      <td>0.887417</td>\n",
       "    </tr>\n",
       "    <tr>\n",
       "      <th>0</th>\n",
       "      <td>CatBoost</td>\n",
       "      <td>0.846138</td>\n",
       "      <td>0.841400</td>\n",
       "      <td>0.886933</td>\n",
       "    </tr>\n",
       "    <tr>\n",
       "      <th>0</th>\n",
       "      <td>LGBM-Hypertuned</td>\n",
       "      <td>0.849182</td>\n",
       "      <td>0.846453</td>\n",
       "      <td>0.889990</td>\n",
       "    </tr>\n",
       "    <tr>\n",
       "      <th>0</th>\n",
       "      <td>LGBM-20features+Hypertuned</td>\n",
       "      <td>0.833049</td>\n",
       "      <td>0.827947</td>\n",
       "      <td>0.867817</td>\n",
       "    </tr>\n",
       "    <tr>\n",
       "      <th>0</th>\n",
       "      <td>LGBM-25features+Hypertuned</td>\n",
       "      <td>0.846733</td>\n",
       "      <td>0.842947</td>\n",
       "      <td>0.885825</td>\n",
       "    </tr>\n",
       "  </tbody>\n",
       "</table>\n",
       "</div>"
      ],
      "text/plain": [
       "                           Model  Train score  Validation score  roc_auc_Score\n",
       "0       Baseline model -logistic     0.837249          0.837600       0.868596\n",
       "0  Baseline model -Decision Tree     0.770124          0.765480       0.709744\n",
       "0       Decision Tree-Hypertuned     0.804164          0.804227       0.764445\n",
       "0                        Bagging     0.837307          0.837693       0.868592\n",
       "0                       AdaBoost     0.827733          0.828427       0.852773\n",
       "0                  Random Forest     0.846018          0.844227       0.882456\n",
       "0              Gradient Boosting     0.842556          0.843080       0.879835\n",
       "0                        XGBoost     0.842120          0.842853       0.879721\n",
       "0                     XGBoost RF     0.824467          0.824240       0.851470\n",
       "0                       LightGBM     0.847378          0.845520       0.887417\n",
       "0                       CatBoost     0.846138          0.841400       0.886933\n",
       "0                LGBM-Hypertuned     0.849182          0.846453       0.889990\n",
       "0     LGBM-20features+Hypertuned     0.833049          0.827947       0.867817\n",
       "0     LGBM-25features+Hypertuned     0.846733          0.842947       0.885825"
      ]
     },
     "execution_count": 91,
     "metadata": {},
     "output_type": "execute_result"
    }
   ],
   "source": [
    "%%time\n",
    "\n",
    "make_prediction(lgbm_best25,xtest[top25_cols],xtest_id,'LGBM25-HP')\n",
    "\n",
    "Model_perf"
   ]
  },
  {
   "cell_type": "code",
   "execution_count": null,
   "metadata": {},
   "outputs": [],
   "source": []
  },
  {
   "cell_type": "markdown",
   "metadata": {},
   "source": [
    "##### LGBM ( Remove Correlated Feature + Hypertuned model ) "
   ]
  },
  {
   "cell_type": "code",
   "execution_count": 92,
   "metadata": {},
   "outputs": [
    {
     "data": {
      "text/html": [
       "<div>\n",
       "<style scoped>\n",
       "    .dataframe tbody tr th:only-of-type {\n",
       "        vertical-align: middle;\n",
       "    }\n",
       "\n",
       "    .dataframe tbody tr th {\n",
       "        vertical-align: top;\n",
       "    }\n",
       "\n",
       "    .dataframe thead th {\n",
       "        text-align: right;\n",
       "    }\n",
       "</style>\n",
       "<table border=\"1\" class=\"dataframe\">\n",
       "  <thead>\n",
       "    <tr style=\"text-align: right;\">\n",
       "      <th></th>\n",
       "      <th>cont0</th>\n",
       "      <th>cont1</th>\n",
       "      <th>cont10</th>\n",
       "      <th>cont2</th>\n",
       "      <th>cont3</th>\n",
       "      <th>cont4</th>\n",
       "      <th>cont5</th>\n",
       "      <th>cont6</th>\n",
       "      <th>cont7</th>\n",
       "      <th>cont8</th>\n",
       "      <th>cont9</th>\n",
       "    </tr>\n",
       "  </thead>\n",
       "  <tbody>\n",
       "    <tr>\n",
       "      <th>cont0</th>\n",
       "      <td>1.000000</td>\n",
       "      <td>0.474256</td>\n",
       "      <td>0.808589</td>\n",
       "      <td>0.494495</td>\n",
       "      <td>0.550333</td>\n",
       "      <td>0.155408</td>\n",
       "      <td>-0.169710</td>\n",
       "      <td>-0.437503</td>\n",
       "      <td>0.740851</td>\n",
       "      <td>0.368625</td>\n",
       "      <td>0.414726</td>\n",
       "    </tr>\n",
       "    <tr>\n",
       "      <th>cont1</th>\n",
       "      <td>0.474256</td>\n",
       "      <td>1.000000</td>\n",
       "      <td>0.471419</td>\n",
       "      <td>0.861666</td>\n",
       "      <td>0.258428</td>\n",
       "      <td>0.134127</td>\n",
       "      <td>0.185016</td>\n",
       "      <td>0.115573</td>\n",
       "      <td>0.581570</td>\n",
       "      <td>0.672038</td>\n",
       "      <td>0.393746</td>\n",
       "    </tr>\n",
       "    <tr>\n",
       "      <th>cont10</th>\n",
       "      <td>0.808589</td>\n",
       "      <td>0.471419</td>\n",
       "      <td>1.000000</td>\n",
       "      <td>0.506756</td>\n",
       "      <td>0.611535</td>\n",
       "      <td>0.207590</td>\n",
       "      <td>-0.161745</td>\n",
       "      <td>-0.444568</td>\n",
       "      <td>0.775463</td>\n",
       "      <td>0.383296</td>\n",
       "      <td>0.452117</td>\n",
       "    </tr>\n",
       "    <tr>\n",
       "      <th>cont2</th>\n",
       "      <td>0.494495</td>\n",
       "      <td>0.861666</td>\n",
       "      <td>0.506756</td>\n",
       "      <td>1.000000</td>\n",
       "      <td>0.287744</td>\n",
       "      <td>0.158117</td>\n",
       "      <td>0.157074</td>\n",
       "      <td>0.066450</td>\n",
       "      <td>0.606331</td>\n",
       "      <td>0.662822</td>\n",
       "      <td>0.399105</td>\n",
       "    </tr>\n",
       "    <tr>\n",
       "      <th>cont3</th>\n",
       "      <td>0.550333</td>\n",
       "      <td>0.258428</td>\n",
       "      <td>0.611535</td>\n",
       "      <td>0.287744</td>\n",
       "      <td>1.000000</td>\n",
       "      <td>0.222987</td>\n",
       "      <td>-0.070005</td>\n",
       "      <td>-0.430154</td>\n",
       "      <td>0.642822</td>\n",
       "      <td>0.190211</td>\n",
       "      <td>0.382912</td>\n",
       "    </tr>\n",
       "    <tr>\n",
       "      <th>cont4</th>\n",
       "      <td>0.155408</td>\n",
       "      <td>0.134127</td>\n",
       "      <td>0.207590</td>\n",
       "      <td>0.158117</td>\n",
       "      <td>0.222987</td>\n",
       "      <td>1.000000</td>\n",
       "      <td>0.038236</td>\n",
       "      <td>-0.080392</td>\n",
       "      <td>0.231522</td>\n",
       "      <td>0.063976</td>\n",
       "      <td>0.160660</td>\n",
       "    </tr>\n",
       "    <tr>\n",
       "      <th>cont5</th>\n",
       "      <td>-0.169710</td>\n",
       "      <td>0.185016</td>\n",
       "      <td>-0.161745</td>\n",
       "      <td>0.157074</td>\n",
       "      <td>-0.070005</td>\n",
       "      <td>0.038236</td>\n",
       "      <td>1.000000</td>\n",
       "      <td>0.440130</td>\n",
       "      <td>-0.094942</td>\n",
       "      <td>0.141536</td>\n",
       "      <td>0.120245</td>\n",
       "    </tr>\n",
       "    <tr>\n",
       "      <th>cont6</th>\n",
       "      <td>-0.437503</td>\n",
       "      <td>0.115573</td>\n",
       "      <td>-0.444568</td>\n",
       "      <td>0.066450</td>\n",
       "      <td>-0.430154</td>\n",
       "      <td>-0.080392</td>\n",
       "      <td>0.440130</td>\n",
       "      <td>1.000000</td>\n",
       "      <td>-0.362159</td>\n",
       "      <td>0.121244</td>\n",
       "      <td>-0.124187</td>\n",
       "    </tr>\n",
       "    <tr>\n",
       "      <th>cont7</th>\n",
       "      <td>0.740851</td>\n",
       "      <td>0.581570</td>\n",
       "      <td>0.775463</td>\n",
       "      <td>0.606331</td>\n",
       "      <td>0.642822</td>\n",
       "      <td>0.231522</td>\n",
       "      <td>-0.094942</td>\n",
       "      <td>-0.362159</td>\n",
       "      <td>1.000000</td>\n",
       "      <td>0.479887</td>\n",
       "      <td>0.443246</td>\n",
       "    </tr>\n",
       "    <tr>\n",
       "      <th>cont8</th>\n",
       "      <td>0.368625</td>\n",
       "      <td>0.672038</td>\n",
       "      <td>0.383296</td>\n",
       "      <td>0.662822</td>\n",
       "      <td>0.190211</td>\n",
       "      <td>0.063976</td>\n",
       "      <td>0.141536</td>\n",
       "      <td>0.121244</td>\n",
       "      <td>0.479887</td>\n",
       "      <td>1.000000</td>\n",
       "      <td>0.296038</td>\n",
       "    </tr>\n",
       "    <tr>\n",
       "      <th>cont9</th>\n",
       "      <td>0.414726</td>\n",
       "      <td>0.393746</td>\n",
       "      <td>0.452117</td>\n",
       "      <td>0.399105</td>\n",
       "      <td>0.382912</td>\n",
       "      <td>0.160660</td>\n",
       "      <td>0.120245</td>\n",
       "      <td>-0.124187</td>\n",
       "      <td>0.443246</td>\n",
       "      <td>0.296038</td>\n",
       "      <td>1.000000</td>\n",
       "    </tr>\n",
       "  </tbody>\n",
       "</table>\n",
       "</div>"
      ],
      "text/plain": [
       "           cont0     cont1    cont10     cont2     cont3     cont4     cont5  \\\n",
       "cont0   1.000000  0.474256  0.808589  0.494495  0.550333  0.155408 -0.169710   \n",
       "cont1   0.474256  1.000000  0.471419  0.861666  0.258428  0.134127  0.185016   \n",
       "cont10  0.808589  0.471419  1.000000  0.506756  0.611535  0.207590 -0.161745   \n",
       "cont2   0.494495  0.861666  0.506756  1.000000  0.287744  0.158117  0.157074   \n",
       "cont3   0.550333  0.258428  0.611535  0.287744  1.000000  0.222987 -0.070005   \n",
       "cont4   0.155408  0.134127  0.207590  0.158117  0.222987  1.000000  0.038236   \n",
       "cont5  -0.169710  0.185016 -0.161745  0.157074 -0.070005  0.038236  1.000000   \n",
       "cont6  -0.437503  0.115573 -0.444568  0.066450 -0.430154 -0.080392  0.440130   \n",
       "cont7   0.740851  0.581570  0.775463  0.606331  0.642822  0.231522 -0.094942   \n",
       "cont8   0.368625  0.672038  0.383296  0.662822  0.190211  0.063976  0.141536   \n",
       "cont9   0.414726  0.393746  0.452117  0.399105  0.382912  0.160660  0.120245   \n",
       "\n",
       "           cont6     cont7     cont8     cont9  \n",
       "cont0  -0.437503  0.740851  0.368625  0.414726  \n",
       "cont1   0.115573  0.581570  0.672038  0.393746  \n",
       "cont10 -0.444568  0.775463  0.383296  0.452117  \n",
       "cont2   0.066450  0.606331  0.662822  0.399105  \n",
       "cont3  -0.430154  0.642822  0.190211  0.382912  \n",
       "cont4  -0.080392  0.231522  0.063976  0.160660  \n",
       "cont5   0.440130 -0.094942  0.141536  0.120245  \n",
       "cont6   1.000000 -0.362159  0.121244 -0.124187  \n",
       "cont7  -0.362159  1.000000  0.479887  0.443246  \n",
       "cont8   0.121244  0.479887  1.000000  0.296038  \n",
       "cont9  -0.124187  0.443246  0.296038  1.000000  "
      ]
     },
     "execution_count": 92,
     "metadata": {},
     "output_type": "execute_result"
    }
   ],
   "source": [
    "x_train[num_cols].corr()"
   ]
  },
  {
   "cell_type": "code",
   "execution_count": 93,
   "metadata": {
    "scrolled": false
   },
   "outputs": [
    {
     "data": {
      "image/png": "[encoded data removed]",
      "text/plain": [
       "<Figure size 432x288 with 2 Axes>"
      ]
     },
     "metadata": {},
     "output_type": "display_data"
    }
   ],
   "source": [
    "sns.heatmap(x_train[num_cols].corr());"
   ]
  },
  {
   "cell_type": "markdown",
   "metadata": {},
   "source": [
    "cont1 and cont2 are highly correlated. so we will drop one of these and then build the model"
   ]
  },
  {
   "cell_type": "code",
   "execution_count": 94,
   "metadata": {},
   "outputs": [],
   "source": [
    "x_train1 = x_train.drop(['cont2'],axis=1)\n",
    "x_val1 = x_val.drop(['cont2'],axis=1)"
   ]
  },
  {
   "cell_type": "code",
   "execution_count": 95,
   "metadata": {},
   "outputs": [
    {
     "name": "stdout",
     "output_type": "stream",
     "text": [
      "[LightGBM] [Warning] feature_fraction is set=0.4, colsample_bytree=1.0 will be ignored. Current value: feature_fraction=0.4\n",
      "[LightGBM] [Warning] Accuracy may be bad since you didn't set num_leaves and 2^max_depth > num_leaves\n",
      "[LightGBM] [Warning] feature_fraction is set=0.4, colsample_bytree=1.0 will be ignored. Current value: feature_fraction=0.4\n",
      "[LightGBM] [Warning] Accuracy may be bad since you didn't set num_leaves and 2^max_depth > num_leaves\n",
      "[LightGBM] [Warning] feature_fraction is set=0.4, colsample_bytree=1.0 will be ignored. Current value: feature_fraction=0.4\n",
      "[LightGBM] [Warning] Accuracy may be bad since you didn't set num_leaves and 2^max_depth > num_leaves\n",
      "[LightGBM] [Warning] feature_fraction is set=0.4, colsample_bytree=1.0 will be ignored. Current value: feature_fraction=0.4\n",
      "[LightGBM] [Warning] Accuracy may be bad since you didn't set num_leaves and 2^max_depth > num_leaves\n",
      "[LightGBM] [Warning] feature_fraction is set=0.4, colsample_bytree=1.0 will be ignored. Current value: feature_fraction=0.4\n",
      "[LightGBM] [Warning] Accuracy may be bad since you didn't set num_leaves and 2^max_depth > num_leaves\n",
      "[LightGBM] [Warning] feature_fraction is set=0.4, colsample_bytree=1.0 will be ignored. Current value: feature_fraction=0.4\n",
      "[LightGBM] [Warning] Accuracy may be bad since you didn't set num_leaves and 2^max_depth > num_leaves\n",
      "[LightGBM] [Warning] feature_fraction is set=0.4, colsample_bytree=1.0 will be ignored. Current value: feature_fraction=0.4\n",
      "[LightGBM] [Warning] Accuracy may be bad since you didn't set num_leaves and 2^max_depth > num_leaves\n",
      "[LightGBM] [Warning] feature_fraction is set=0.4, colsample_bytree=1.0 will be ignored. Current value: feature_fraction=0.4\n",
      "[LightGBM] [Warning] Accuracy may be bad since you didn't set num_leaves and 2^max_depth > num_leaves\n",
      "[LightGBM] [Warning] feature_fraction is set=0.4, colsample_bytree=1.0 will be ignored. Current value: feature_fraction=0.4\n",
      "[LightGBM] [Warning] Accuracy may be bad since you didn't set num_leaves and 2^max_depth > num_leaves\n",
      "[LightGBM] [Warning] feature_fraction is set=0.4, colsample_bytree=1.0 will be ignored. Current value: feature_fraction=0.4\n",
      "[LightGBM] [Warning] Accuracy may be bad since you didn't set num_leaves and 2^max_depth > num_leaves\n",
      "Wall time: 17min 6s\n"
     ]
    }
   ],
   "source": [
    "%%time\n",
    "\n",
    "clf = LGBMClassifier(random_state=100,n_estimators=100)\n",
    "\n",
    "param_grid = {'n_estimators':[100,200,300],\n",
    "            'learning_rate':[0.01, 0.1, 0.2],\n",
    "             'max_depth':[3,6,9,10],\n",
    "              'reg_alpha' : [0.0001, 0.001, 0.01],\n",
    "             'reg_lambda' : [0, 0.0001, 0.001, 0.01],\n",
    "            'min_child_samples' : [5, 10, 15,20],\n",
    "              'feature_fraction':[0.4,0.6,0.8]\n",
    "            }\n",
    "\n",
    "lgbm_grid =RandomizedSearchCV(estimator=clf,\n",
    "                              param_distributions=param_grid,\n",
    "                              cv=5,\n",
    "                              n_iter=100,\n",
    "                              n_jobs=-1,\n",
    "                              random_state=100)\n",
    "\n",
    "lgbm_grid.fit(x_train1,y_train)\n",
    "\n",
    "lgbm_best1 = lgbm_grid.best_estimator_\n",
    "\n",
    "#Model_perf,model_lgbm1 = model_building(clf,param_grid,x_train,y_train,x_val,y_val,'LightGBM-Hypertuned',Model_perf)\n",
    "\n",
    "Model_perf = model_scoring(lgbm_best1,'LGBM-FeatureSelection+Hypertuned',x_train1,y_train,x_val1,y_val,Model_perf)"
   ]
  },
  {
   "cell_type": "code",
   "execution_count": 96,
   "metadata": {
    "scrolled": true
   },
   "outputs": [
    {
     "data": {
      "text/plain": [
       "array([[0.87212899, 0.12787101],\n",
       "       [0.54146316, 0.45853684],\n",
       "       [0.97152497, 0.02847503],\n",
       "       ...,\n",
       "       [0.39066943, 0.60933057],\n",
       "       [0.87844879, 0.12155121],\n",
       "       [0.62674933, 0.37325067]])"
      ]
     },
     "execution_count": 96,
     "metadata": {},
     "output_type": "execute_result"
    }
   ],
   "source": [
    "lgbm_best1.predict_proba(xtest.drop(['cont2'],axis=1))"
   ]
  },
  {
   "cell_type": "code",
   "execution_count": 97,
   "metadata": {
    "scrolled": true
   },
   "outputs": [
    {
     "name": "stdout",
     "output_type": "stream",
     "text": [
      "Wall time: 1.4 s\n"
     ]
    },
    {
     "data": {
      "text/html": [
       "<div>\n",
       "<style scoped>\n",
       "    .dataframe tbody tr th:only-of-type {\n",
       "        vertical-align: middle;\n",
       "    }\n",
       "\n",
       "    .dataframe tbody tr th {\n",
       "        vertical-align: top;\n",
       "    }\n",
       "\n",
       "    .dataframe thead th {\n",
       "        text-align: right;\n",
       "    }\n",
       "</style>\n",
       "<table border=\"1\" class=\"dataframe\">\n",
       "  <thead>\n",
       "    <tr style=\"text-align: right;\">\n",
       "      <th></th>\n",
       "      <th>Model</th>\n",
       "      <th>Train score</th>\n",
       "      <th>Validation score</th>\n",
       "      <th>roc_auc_Score</th>\n",
       "    </tr>\n",
       "  </thead>\n",
       "  <tbody>\n",
       "    <tr>\n",
       "      <th>0</th>\n",
       "      <td>Baseline model -logistic</td>\n",
       "      <td>0.837249</td>\n",
       "      <td>0.837600</td>\n",
       "      <td>0.868596</td>\n",
       "    </tr>\n",
       "    <tr>\n",
       "      <th>0</th>\n",
       "      <td>Baseline model -Decision Tree</td>\n",
       "      <td>0.770124</td>\n",
       "      <td>0.765480</td>\n",
       "      <td>0.709744</td>\n",
       "    </tr>\n",
       "    <tr>\n",
       "      <th>0</th>\n",
       "      <td>Decision Tree-Hypertuned</td>\n",
       "      <td>0.804164</td>\n",
       "      <td>0.804227</td>\n",
       "      <td>0.764445</td>\n",
       "    </tr>\n",
       "    <tr>\n",
       "      <th>0</th>\n",
       "      <td>Bagging</td>\n",
       "      <td>0.837307</td>\n",
       "      <td>0.837693</td>\n",
       "      <td>0.868592</td>\n",
       "    </tr>\n",
       "    <tr>\n",
       "      <th>0</th>\n",
       "      <td>AdaBoost</td>\n",
       "      <td>0.827733</td>\n",
       "      <td>0.828427</td>\n",
       "      <td>0.852773</td>\n",
       "    </tr>\n",
       "    <tr>\n",
       "      <th>0</th>\n",
       "      <td>Random Forest</td>\n",
       "      <td>0.846018</td>\n",
       "      <td>0.844227</td>\n",
       "      <td>0.882456</td>\n",
       "    </tr>\n",
       "    <tr>\n",
       "      <th>0</th>\n",
       "      <td>Gradient Boosting</td>\n",
       "      <td>0.842556</td>\n",
       "      <td>0.843080</td>\n",
       "      <td>0.879835</td>\n",
       "    </tr>\n",
       "    <tr>\n",
       "      <th>0</th>\n",
       "      <td>XGBoost</td>\n",
       "      <td>0.842120</td>\n",
       "      <td>0.842853</td>\n",
       "      <td>0.879721</td>\n",
       "    </tr>\n",
       "    <tr>\n",
       "      <th>0</th>\n",
       "      <td>XGBoost RF</td>\n",
       "      <td>0.824467</td>\n",
       "      <td>0.824240</td>\n",
       "      <td>0.851470</td>\n",
       "    </tr>\n",
       "    <tr>\n",
       "      <th>0</th>\n",
       "      <td>LightGBM</td>\n",
       "      <td>0.847378</td>\n",
       "      <td>0.845520</td>\n",
       "      <td>0.887417</td>\n",
       "    </tr>\n",
       "    <tr>\n",
       "      <th>0</th>\n",
       "      <td>CatBoost</td>\n",
       "      <td>0.846138</td>\n",
       "      <td>0.841400</td>\n",
       "      <td>0.886933</td>\n",
       "    </tr>\n",
       "    <tr>\n",
       "      <th>0</th>\n",
       "      <td>LGBM-Hypertuned</td>\n",
       "      <td>0.849182</td>\n",
       "      <td>0.846453</td>\n",
       "      <td>0.889990</td>\n",
       "    </tr>\n",
       "    <tr>\n",
       "      <th>0</th>\n",
       "      <td>LGBM-20features+Hypertuned</td>\n",
       "      <td>0.833049</td>\n",
       "      <td>0.827947</td>\n",
       "      <td>0.867817</td>\n",
       "    </tr>\n",
       "    <tr>\n",
       "      <th>0</th>\n",
       "      <td>LGBM-25features+Hypertuned</td>\n",
       "      <td>0.846733</td>\n",
       "      <td>0.842947</td>\n",
       "      <td>0.885825</td>\n",
       "    </tr>\n",
       "    <tr>\n",
       "      <th>0</th>\n",
       "      <td>LGBM-FeatureSelection+Hypertuned</td>\n",
       "      <td>0.848689</td>\n",
       "      <td>0.845293</td>\n",
       "      <td>0.889965</td>\n",
       "    </tr>\n",
       "  </tbody>\n",
       "</table>\n",
       "</div>"
      ],
      "text/plain": [
       "                              Model  Train score  Validation score  \\\n",
       "0          Baseline model -logistic     0.837249          0.837600   \n",
       "0     Baseline model -Decision Tree     0.770124          0.765480   \n",
       "0          Decision Tree-Hypertuned     0.804164          0.804227   \n",
       "0                           Bagging     0.837307          0.837693   \n",
       "0                          AdaBoost     0.827733          0.828427   \n",
       "0                     Random Forest     0.846018          0.844227   \n",
       "0                 Gradient Boosting     0.842556          0.843080   \n",
       "0                           XGBoost     0.842120          0.842853   \n",
       "0                        XGBoost RF     0.824467          0.824240   \n",
       "0                          LightGBM     0.847378          0.845520   \n",
       "0                          CatBoost     0.846138          0.841400   \n",
       "0                   LGBM-Hypertuned     0.849182          0.846453   \n",
       "0        LGBM-20features+Hypertuned     0.833049          0.827947   \n",
       "0        LGBM-25features+Hypertuned     0.846733          0.842947   \n",
       "0  LGBM-FeatureSelection+Hypertuned     0.848689          0.845293   \n",
       "\n",
       "   roc_auc_Score  \n",
       "0       0.868596  \n",
       "0       0.709744  \n",
       "0       0.764445  \n",
       "0       0.868592  \n",
       "0       0.852773  \n",
       "0       0.882456  \n",
       "0       0.879835  \n",
       "0       0.879721  \n",
       "0       0.851470  \n",
       "0       0.887417  \n",
       "0       0.886933  \n",
       "0       0.889990  \n",
       "0       0.867817  \n",
       "0       0.885825  \n",
       "0       0.889965  "
      ]
     },
     "execution_count": 97,
     "metadata": {},
     "output_type": "execute_result"
    }
   ],
   "source": [
    "%%time\n",
    "\n",
    "make_prediction(lgbm_best1,xtest.drop(['cont2'],axis=1),xtest_id,'LGBM1-HP')\n",
    "\n",
    "Model_perf"
   ]
  },
  {
   "cell_type": "code",
   "execution_count": null,
   "metadata": {},
   "outputs": [],
   "source": []
  }
 ],
 "metadata": {
  "kernelspec": {
   "display_name": "Python [conda env:py37]",
   "language": "python",
   "name": "conda-env-py37-py"
  },
  "language_info": {
   "codemirror_mode": {
    "name": "ipython",
    "version": 3
   },
   "file_extension": ".py",
   "mimetype": "text/x-python",
   "name": "python",
   "nbconvert_exporter": "python",
   "pygments_lexer": "ipython3",
   "version": "3.7.4"
  }
 },
 "nbformat": 4,
 "nbformat_minor": 2
}
